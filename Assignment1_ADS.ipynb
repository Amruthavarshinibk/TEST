{
 "cells": [
  {
   "cell_type": "code",
   "execution_count": 330,
   "id": "e29e4a77",
   "metadata": {},
   "outputs": [],
   "source": [
    "import pandas as pd\n",
    "from matplotlib import pyplot as plt\n",
    "import numpy as np\n",
    "import seaborn as sb\n",
    "from ipywidgets import interact\n",
    "import random\n",
    "import plotly.graph_objects as go\n",
    "import plotly.express as px\n",
    "from plotly.subplots import make_subplots"
   ]
  },
  {
   "cell_type": "code",
   "execution_count": 309,
   "id": "8d6ad3e5",
   "metadata": {},
   "outputs": [],
   "source": [
    "cropdata = pd.read_csv(\"/Users/amruthavarshini/Downloads/Crop_recommendation.csv\")"
   ]
  },
  {
   "cell_type": "code",
   "execution_count": 310,
   "id": "0aaaf0cc",
   "metadata": {},
   "outputs": [
    {
     "data": {
      "text/html": [
       "<div>\n",
       "<style scoped>\n",
       "    .dataframe tbody tr th:only-of-type {\n",
       "        vertical-align: middle;\n",
       "    }\n",
       "\n",
       "    .dataframe tbody tr th {\n",
       "        vertical-align: top;\n",
       "    }\n",
       "\n",
       "    .dataframe thead th {\n",
       "        text-align: right;\n",
       "    }\n",
       "</style>\n",
       "<table border=\"1\" class=\"dataframe\">\n",
       "  <thead>\n",
       "    <tr style=\"text-align: right;\">\n",
       "      <th></th>\n",
       "      <th>N</th>\n",
       "      <th>P</th>\n",
       "      <th>K</th>\n",
       "      <th>temperature</th>\n",
       "      <th>humidity</th>\n",
       "      <th>ph</th>\n",
       "      <th>rainfall</th>\n",
       "    </tr>\n",
       "  </thead>\n",
       "  <tbody>\n",
       "    <tr>\n",
       "      <th>count</th>\n",
       "      <td>2200.000000</td>\n",
       "      <td>2200.000000</td>\n",
       "      <td>2200.000000</td>\n",
       "      <td>2200.000000</td>\n",
       "      <td>2200.000000</td>\n",
       "      <td>2200.000000</td>\n",
       "      <td>2200.000000</td>\n",
       "    </tr>\n",
       "    <tr>\n",
       "      <th>mean</th>\n",
       "      <td>50.551818</td>\n",
       "      <td>53.362727</td>\n",
       "      <td>48.149091</td>\n",
       "      <td>25.616244</td>\n",
       "      <td>71.481779</td>\n",
       "      <td>6.469480</td>\n",
       "      <td>103.463655</td>\n",
       "    </tr>\n",
       "    <tr>\n",
       "      <th>std</th>\n",
       "      <td>36.917334</td>\n",
       "      <td>32.985883</td>\n",
       "      <td>50.647931</td>\n",
       "      <td>5.063749</td>\n",
       "      <td>22.263812</td>\n",
       "      <td>0.773938</td>\n",
       "      <td>54.958389</td>\n",
       "    </tr>\n",
       "    <tr>\n",
       "      <th>min</th>\n",
       "      <td>0.000000</td>\n",
       "      <td>5.000000</td>\n",
       "      <td>5.000000</td>\n",
       "      <td>8.825675</td>\n",
       "      <td>14.258040</td>\n",
       "      <td>3.504752</td>\n",
       "      <td>20.211267</td>\n",
       "    </tr>\n",
       "    <tr>\n",
       "      <th>25%</th>\n",
       "      <td>21.000000</td>\n",
       "      <td>28.000000</td>\n",
       "      <td>20.000000</td>\n",
       "      <td>22.769375</td>\n",
       "      <td>60.261953</td>\n",
       "      <td>5.971693</td>\n",
       "      <td>64.551686</td>\n",
       "    </tr>\n",
       "    <tr>\n",
       "      <th>50%</th>\n",
       "      <td>37.000000</td>\n",
       "      <td>51.000000</td>\n",
       "      <td>32.000000</td>\n",
       "      <td>25.598693</td>\n",
       "      <td>80.473146</td>\n",
       "      <td>6.425045</td>\n",
       "      <td>94.867624</td>\n",
       "    </tr>\n",
       "    <tr>\n",
       "      <th>75%</th>\n",
       "      <td>84.250000</td>\n",
       "      <td>68.000000</td>\n",
       "      <td>49.000000</td>\n",
       "      <td>28.561654</td>\n",
       "      <td>89.948771</td>\n",
       "      <td>6.923643</td>\n",
       "      <td>124.267508</td>\n",
       "    </tr>\n",
       "    <tr>\n",
       "      <th>max</th>\n",
       "      <td>140.000000</td>\n",
       "      <td>145.000000</td>\n",
       "      <td>205.000000</td>\n",
       "      <td>43.675493</td>\n",
       "      <td>99.981876</td>\n",
       "      <td>9.935091</td>\n",
       "      <td>298.560117</td>\n",
       "    </tr>\n",
       "  </tbody>\n",
       "</table>\n",
       "</div>"
      ],
      "text/plain": [
       "                 N            P            K  temperature     humidity  \\\n",
       "count  2200.000000  2200.000000  2200.000000  2200.000000  2200.000000   \n",
       "mean     50.551818    53.362727    48.149091    25.616244    71.481779   \n",
       "std      36.917334    32.985883    50.647931     5.063749    22.263812   \n",
       "min       0.000000     5.000000     5.000000     8.825675    14.258040   \n",
       "25%      21.000000    28.000000    20.000000    22.769375    60.261953   \n",
       "50%      37.000000    51.000000    32.000000    25.598693    80.473146   \n",
       "75%      84.250000    68.000000    49.000000    28.561654    89.948771   \n",
       "max     140.000000   145.000000   205.000000    43.675493    99.981876   \n",
       "\n",
       "                ph     rainfall  \n",
       "count  2200.000000  2200.000000  \n",
       "mean      6.469480   103.463655  \n",
       "std       0.773938    54.958389  \n",
       "min       3.504752    20.211267  \n",
       "25%       5.971693    64.551686  \n",
       "50%       6.425045    94.867624  \n",
       "75%       6.923643   124.267508  \n",
       "max       9.935091   298.560117  "
      ]
     },
     "execution_count": 310,
     "metadata": {},
     "output_type": "execute_result"
    }
   ],
   "source": [
    "cropdata.describe()"
   ]
  },
  {
   "cell_type": "code",
   "execution_count": 311,
   "id": "d26791b0",
   "metadata": {},
   "outputs": [],
   "source": [
    "originaldata.drop(columns=originaldata.columns[0], \n",
    "        axis=1, \n",
    "        inplace=True)"
   ]
  },
  {
   "cell_type": "code",
   "execution_count": 312,
   "id": "81bfc405",
   "metadata": {},
   "outputs": [
    {
     "data": {
      "text/html": [
       "<div>\n",
       "<style scoped>\n",
       "    .dataframe tbody tr th:only-of-type {\n",
       "        vertical-align: middle;\n",
       "    }\n",
       "\n",
       "    .dataframe tbody tr th {\n",
       "        vertical-align: top;\n",
       "    }\n",
       "\n",
       "    .dataframe thead th {\n",
       "        text-align: right;\n",
       "    }\n",
       "</style>\n",
       "<table border=\"1\" class=\"dataframe\">\n",
       "  <thead>\n",
       "    <tr style=\"text-align: right;\">\n",
       "      <th></th>\n",
       "      <th>N</th>\n",
       "      <th>P</th>\n",
       "      <th>K</th>\n",
       "      <th>temperature</th>\n",
       "      <th>humidity</th>\n",
       "      <th>ph</th>\n",
       "      <th>rainfall</th>\n",
       "      <th>label</th>\n",
       "    </tr>\n",
       "  </thead>\n",
       "  <tbody>\n",
       "    <tr>\n",
       "      <th>0</th>\n",
       "      <td>90</td>\n",
       "      <td>42</td>\n",
       "      <td>43</td>\n",
       "      <td>20.879744</td>\n",
       "      <td>82.002744</td>\n",
       "      <td>6.502985</td>\n",
       "      <td>202.935536</td>\n",
       "      <td>rice</td>\n",
       "    </tr>\n",
       "    <tr>\n",
       "      <th>1</th>\n",
       "      <td>85</td>\n",
       "      <td>58</td>\n",
       "      <td>41</td>\n",
       "      <td>21.770462</td>\n",
       "      <td>80.319644</td>\n",
       "      <td>7.038096</td>\n",
       "      <td>226.655537</td>\n",
       "      <td>rice</td>\n",
       "    </tr>\n",
       "    <tr>\n",
       "      <th>2</th>\n",
       "      <td>60</td>\n",
       "      <td>55</td>\n",
       "      <td>44</td>\n",
       "      <td>23.004459</td>\n",
       "      <td>82.320763</td>\n",
       "      <td>7.840207</td>\n",
       "      <td>263.964248</td>\n",
       "      <td>rice</td>\n",
       "    </tr>\n",
       "    <tr>\n",
       "      <th>3</th>\n",
       "      <td>74</td>\n",
       "      <td>35</td>\n",
       "      <td>40</td>\n",
       "      <td>26.491096</td>\n",
       "      <td>80.158363</td>\n",
       "      <td>6.980401</td>\n",
       "      <td>242.864034</td>\n",
       "      <td>rice</td>\n",
       "    </tr>\n",
       "    <tr>\n",
       "      <th>4</th>\n",
       "      <td>78</td>\n",
       "      <td>42</td>\n",
       "      <td>42</td>\n",
       "      <td>20.130175</td>\n",
       "      <td>81.604873</td>\n",
       "      <td>7.628473</td>\n",
       "      <td>262.717340</td>\n",
       "      <td>rice</td>\n",
       "    </tr>\n",
       "  </tbody>\n",
       "</table>\n",
       "</div>"
      ],
      "text/plain": [
       "    N   P   K  temperature   humidity        ph    rainfall label\n",
       "0  90  42  43    20.879744  82.002744  6.502985  202.935536  rice\n",
       "1  85  58  41    21.770462  80.319644  7.038096  226.655537  rice\n",
       "2  60  55  44    23.004459  82.320763  7.840207  263.964248  rice\n",
       "3  74  35  40    26.491096  80.158363  6.980401  242.864034  rice\n",
       "4  78  42  42    20.130175  81.604873  7.628473  262.717340  rice"
      ]
     },
     "execution_count": 312,
     "metadata": {},
     "output_type": "execute_result"
    }
   ],
   "source": [
    "cropdata.head()"
   ]
  },
  {
   "cell_type": "code",
   "execution_count": 313,
   "id": "4e51c598",
   "metadata": {},
   "outputs": [
    {
     "data": {
      "text/plain": [
       "(2200, 8)"
      ]
     },
     "execution_count": 313,
     "metadata": {},
     "output_type": "execute_result"
    }
   ],
   "source": [
    "Noofrecords = cropdata.shape\n",
    "Noofrecords"
   ]
  },
  {
   "cell_type": "code",
   "execution_count": 314,
   "id": "738a131b",
   "metadata": {},
   "outputs": [
    {
     "data": {
      "text/plain": [
       "array(['rice', 'maize', 'chickpea', 'kidneybeans', 'pigeonpeas',\n",
       "       'mothbeans', 'mungbean', 'blackgram', 'lentil', 'pomegranate',\n",
       "       'banana', 'mango', 'grapes', 'watermelon', 'muskmelon', 'apple',\n",
       "       'orange', 'papaya', 'coconut', 'cotton', 'jute', 'coffee'],\n",
       "      dtype=object)"
      ]
     },
     "execution_count": 314,
     "metadata": {},
     "output_type": "execute_result"
    }
   ],
   "source": [
    "cropdata.nunique()\n",
    "cropdata['label'].unique()\n"
   ]
  },
  {
   "cell_type": "code",
   "execution_count": 315,
   "id": "06e99464",
   "metadata": {},
   "outputs": [
    {
     "data": {
      "text/plain": [
       "N              0\n",
       "P              0\n",
       "K              0\n",
       "temperature    0\n",
       "humidity       0\n",
       "ph             0\n",
       "rainfall       0\n",
       "label          0\n",
       "dtype: int64"
      ]
     },
     "execution_count": 315,
     "metadata": {},
     "output_type": "execute_result"
    }
   ],
   "source": [
    "cropdata.isnull().sum()"
   ]
  },
  {
   "cell_type": "code",
   "execution_count": 316,
   "id": "f643d010",
   "metadata": {},
   "outputs": [
    {
     "data": {
      "text/plain": [
       "mungbean       100\n",
       "coffee         100\n",
       "kidneybeans    100\n",
       "mothbeans      100\n",
       "muskmelon      100\n",
       "jute           100\n",
       "grapes         100\n",
       "papaya         100\n",
       "lentil         100\n",
       "cotton         100\n",
       "coconut        100\n",
       "apple          100\n",
       "maize          100\n",
       "watermelon     100\n",
       "orange         100\n",
       "rice           100\n",
       "mango          100\n",
       "banana         100\n",
       "chickpea       100\n",
       "pomegranate    100\n",
       "pigeonpeas     100\n",
       "blackgram      100\n",
       "Name: label, dtype: int64"
      ]
     },
     "execution_count": 316,
     "metadata": {},
     "output_type": "execute_result"
    }
   ],
   "source": [
    "cropdata['label'].value_counts()"
   ]
  },
  {
   "cell_type": "code",
   "execution_count": 317,
   "id": "c0b112e8",
   "metadata": {},
   "outputs": [
    {
     "name": "stderr",
     "output_type": "stream",
     "text": [
      "/opt/anaconda3/lib/python3.8/site-packages/seaborn/_decorators.py:36: FutureWarning:\n",
      "\n",
      "Pass the following variable as a keyword arg: x. From version 0.12, the only valid positional argument will be `data`, and passing other arguments without an explicit keyword will result in an error or misinterpretation.\n",
      "\n",
      "/opt/anaconda3/lib/python3.8/site-packages/seaborn/_decorators.py:36: FutureWarning:\n",
      "\n",
      "Pass the following variable as a keyword arg: x. From version 0.12, the only valid positional argument will be `data`, and passing other arguments without an explicit keyword will result in an error or misinterpretation.\n",
      "\n",
      "/opt/anaconda3/lib/python3.8/site-packages/seaborn/_decorators.py:36: FutureWarning:\n",
      "\n",
      "Pass the following variable as a keyword arg: x. From version 0.12, the only valid positional argument will be `data`, and passing other arguments without an explicit keyword will result in an error or misinterpretation.\n",
      "\n",
      "/opt/anaconda3/lib/python3.8/site-packages/seaborn/_decorators.py:36: FutureWarning:\n",
      "\n",
      "Pass the following variable as a keyword arg: x. From version 0.12, the only valid positional argument will be `data`, and passing other arguments without an explicit keyword will result in an error or misinterpretation.\n",
      "\n",
      "/opt/anaconda3/lib/python3.8/site-packages/seaborn/_decorators.py:36: FutureWarning:\n",
      "\n",
      "Pass the following variable as a keyword arg: x. From version 0.12, the only valid positional argument will be `data`, and passing other arguments without an explicit keyword will result in an error or misinterpretation.\n",
      "\n",
      "/opt/anaconda3/lib/python3.8/site-packages/seaborn/_decorators.py:36: FutureWarning:\n",
      "\n",
      "Pass the following variable as a keyword arg: x. From version 0.12, the only valid positional argument will be `data`, and passing other arguments without an explicit keyword will result in an error or misinterpretation.\n",
      "\n",
      "/opt/anaconda3/lib/python3.8/site-packages/seaborn/_decorators.py:36: FutureWarning:\n",
      "\n",
      "Pass the following variable as a keyword arg: x. From version 0.12, the only valid positional argument will be `data`, and passing other arguments without an explicit keyword will result in an error or misinterpretation.\n",
      "\n"
     ]
    },
    {
     "data": {
      "text/plain": [
       "Text(0.5, 0, 'Rainfall')"
      ]
     },
     "execution_count": 317,
     "metadata": {},
     "output_type": "execute_result"
    },
    {
     "data": {
      "image/png": "[encoded data removed]",
      "text/plain": [
       "<Figure size 1152x720 with 7 Axes>"
      ]
     },
     "metadata": {
      "needs_background": "light"
     },
     "output_type": "display_data"
    }
   ],
   "source": [
    "fig_dimension = (16, 10)\n",
    "fig, ax = plt.subplots(figsize=fig_dimension)\n",
    "\n",
    "plt.subplot(2,4,1)\n",
    "sns.boxplot(cropdata['N'])\n",
    "plt.xlabel('Nitrogen')\n",
    "\n",
    "plt.subplot(2,4,2)\n",
    "sns.boxplot(cropdata['P'])\n",
    "plt.xlabel('Phosphorus')\n",
    "\n",
    "plt.subplot(2,4,3)\n",
    "sns.boxplot(cropdata['K'])\n",
    "plt.xlabel('Potassium')\n",
    "\n",
    "plt.subplot(2,4,4)\n",
    "sns.boxplot(cropdata['temperature'])\n",
    "plt.xlabel('Temperature')\n",
    "\n",
    "plt.subplot(2,4,5)\n",
    "sns.boxplot(cropdata['humidity'])\n",
    "plt.xlabel('Humidity')\n",
    "\n",
    "plt.subplot(2,4,6)\n",
    "sns.boxplot(cropdata['ph'])\n",
    "plt.xlabel('PH')\n",
    "\n",
    "plt.subplot(2,4,7)\n",
    "sns.boxplot(cropdata['rainfall'])\n",
    "plt.xlabel('Rainfall')"
   ]
  },
  {
   "cell_type": "code",
   "execution_count": 318,
   "id": "caa6c59e",
   "metadata": {},
   "outputs": [
    {
     "data": {
      "application/vnd.plotly.v1+json": {
       "config": {
        "plotlyServerURL": "https://plot.ly"
       },
       "data": [
        {
         "marker": {
          "color": "navy"
         },
         "name": "Nitrogen",
         "type": "bar",
         "x": [
          "apple",
          "banana",
          "blackgram",
          "chickpea",
          "coconut",
          "coffee",
          "cotton",
          "grapes",
          "jute",
          "kidneybeans",
          "lentil",
          "maize",
          "mango",
          "mothbeans",
          "mungbean",
          "muskmelon",
          "orange",
          "papaya",
          "pigeonpeas",
          "pomegranate",
          "rice",
          "watermelon"
         ],
         "y": [
          20.8,
          100.23,
          40.02,
          40.09,
          21.98,
          101.2,
          117.77,
          23.18,
          78.4,
          20.75,
          18.77,
          77.76,
          20.07,
          21.44,
          20.99,
          100.32,
          19.58,
          49.88,
          20.73,
          18.87,
          79.89,
          99.42
         ]
        },
        {
         "marker": {
          "color": "indianred"
         },
         "name": "Phosphorous",
         "type": "bar",
         "x": [
          "apple",
          "banana",
          "blackgram",
          "chickpea",
          "coconut",
          "coffee",
          "cotton",
          "grapes",
          "jute",
          "kidneybeans",
          "lentil",
          "maize",
          "mango",
          "mothbeans",
          "mungbean",
          "muskmelon",
          "orange",
          "papaya",
          "pigeonpeas",
          "pomegranate",
          "rice",
          "watermelon"
         ],
         "y": [
          134.22,
          82.01,
          67.47,
          67.79,
          16.93,
          28.74,
          46.24,
          132.53,
          46.86,
          67.54,
          68.36,
          48.44,
          27.18,
          48.01,
          47.28,
          17.72,
          16.55,
          59.05,
          67.73,
          18.75,
          47.58,
          17
         ]
        },
        {
         "marker": {
          "color": "yellowgreen"
         },
         "name": "Potash",
         "type": "bar",
         "x": [
          "apple",
          "banana",
          "blackgram",
          "chickpea",
          "coconut",
          "coffee",
          "cotton",
          "grapes",
          "jute",
          "kidneybeans",
          "lentil",
          "maize",
          "mango",
          "mothbeans",
          "mungbean",
          "muskmelon",
          "orange",
          "papaya",
          "pigeonpeas",
          "pomegranate",
          "rice",
          "watermelon"
         ],
         "y": [
          199.89,
          50.05,
          19.24,
          79.92,
          30.59,
          29.94,
          19.56,
          200.11,
          39.99,
          20.05,
          19.41,
          19.79,
          29.92,
          20.23,
          19.87,
          50.08,
          10.01,
          50.04,
          20.29,
          40.21,
          39.87,
          50.22
         ]
        }
       ],
       "layout": {
        "barmode": "group",
        "plot_bgcolor": "white",
        "template": {
         "data": {
          "bar": [
           {
            "error_x": {
             "color": "#2a3f5f"
            },
            "error_y": {
             "color": "#2a3f5f"
            },
            "marker": {
             "line": {
              "color": "#E5ECF6",
              "width": 0.5
             },
             "pattern": {
              "fillmode": "overlay",
              "size": 10,
              "solidity": 0.2
             }
            },
            "type": "bar"
           }
          ],
          "barpolar": [
           {
            "marker": {
             "line": {
              "color": "#E5ECF6",
              "width": 0.5
             },
             "pattern": {
              "fillmode": "overlay",
              "size": 10,
              "solidity": 0.2
             }
            },
            "type": "barpolar"
           }
          ],
          "carpet": [
           {
            "aaxis": {
             "endlinecolor": "#2a3f5f",
             "gridcolor": "white",
             "linecolor": "white",
             "minorgridcolor": "white",
             "startlinecolor": "#2a3f5f"
            },
            "baxis": {
             "endlinecolor": "#2a3f5f",
             "gridcolor": "white",
             "linecolor": "white",
             "minorgridcolor": "white",
             "startlinecolor": "#2a3f5f"
            },
            "type": "carpet"
           }
          ],
          "choropleth": [
           {
            "colorbar": {
             "outlinewidth": 0,
             "ticks": ""
            },
            "type": "choropleth"
           }
          ],
          "contour": [
           {
            "colorbar": {
             "outlinewidth": 0,
             "ticks": ""
            },
            "colorscale": [
             [
              0,
              "#0d0887"
             ],
             [
              0.1111111111111111,
              "#46039f"
             ],
             [
              0.2222222222222222,
              "#7201a8"
             ],
             [
              0.3333333333333333,
              "#9c179e"
             ],
             [
              0.4444444444444444,
              "#bd3786"
             ],
             [
              0.5555555555555556,
              "#d8576b"
             ],
             [
              0.6666666666666666,
              "#ed7953"
             ],
             [
              0.7777777777777778,
              "#fb9f3a"
             ],
             [
              0.8888888888888888,
              "#fdca26"
             ],
             [
              1,
              "#f0f921"
             ]
            ],
            "type": "contour"
           }
          ],
          "contourcarpet": [
           {
            "colorbar": {
             "outlinewidth": 0,
             "ticks": ""
            },
            "type": "contourcarpet"
           }
          ],
          "heatmap": [
           {
            "colorbar": {
             "outlinewidth": 0,
             "ticks": ""
            },
            "colorscale": [
             [
              0,
              "#0d0887"
             ],
             [
              0.1111111111111111,
              "#46039f"
             ],
             [
              0.2222222222222222,
              "#7201a8"
             ],
             [
              0.3333333333333333,
              "#9c179e"
             ],
             [
              0.4444444444444444,
              "#bd3786"
             ],
             [
              0.5555555555555556,
              "#d8576b"
             ],
             [
              0.6666666666666666,
              "#ed7953"
             ],
             [
              0.7777777777777778,
              "#fb9f3a"
             ],
             [
              0.8888888888888888,
              "#fdca26"
             ],
             [
              1,
              "#f0f921"
             ]
            ],
            "type": "heatmap"
           }
          ],
          "heatmapgl": [
           {
            "colorbar": {
             "outlinewidth": 0,
             "ticks": ""
            },
            "colorscale": [
             [
              0,
              "#0d0887"
             ],
             [
              0.1111111111111111,
              "#46039f"
             ],
             [
              0.2222222222222222,
              "#7201a8"
             ],
             [
              0.3333333333333333,
              "#9c179e"
             ],
             [
              0.4444444444444444,
              "#bd3786"
             ],
             [
              0.5555555555555556,
              "#d8576b"
             ],
             [
              0.6666666666666666,
              "#ed7953"
             ],
             [
              0.7777777777777778,
              "#fb9f3a"
             ],
             [
              0.8888888888888888,
              "#fdca26"
             ],
             [
              1,
              "#f0f921"
             ]
            ],
            "type": "heatmapgl"
           }
          ],
          "histogram": [
           {
            "marker": {
             "pattern": {
              "fillmode": "overlay",
              "size": 10,
              "solidity": 0.2
             }
            },
            "type": "histogram"
           }
          ],
          "histogram2d": [
           {
            "colorbar": {
             "outlinewidth": 0,
             "ticks": ""
            },
            "colorscale": [
             [
              0,
              "#0d0887"
             ],
             [
              0.1111111111111111,
              "#46039f"
             ],
             [
              0.2222222222222222,
              "#7201a8"
             ],
             [
              0.3333333333333333,
              "#9c179e"
             ],
             [
              0.4444444444444444,
              "#bd3786"
             ],
             [
              0.5555555555555556,
              "#d8576b"
             ],
             [
              0.6666666666666666,
              "#ed7953"
             ],
             [
              0.7777777777777778,
              "#fb9f3a"
             ],
             [
              0.8888888888888888,
              "#fdca26"
             ],
             [
              1,
              "#f0f921"
             ]
            ],
            "type": "histogram2d"
           }
          ],
          "histogram2dcontour": [
           {
            "colorbar": {
             "outlinewidth": 0,
             "ticks": ""
            },
            "colorscale": [
             [
              0,
              "#0d0887"
             ],
             [
              0.1111111111111111,
              "#46039f"
             ],
             [
              0.2222222222222222,
              "#7201a8"
             ],
             [
              0.3333333333333333,
              "#9c179e"
             ],
             [
              0.4444444444444444,
              "#bd3786"
             ],
             [
              0.5555555555555556,
              "#d8576b"
             ],
             [
              0.6666666666666666,
              "#ed7953"
             ],
             [
              0.7777777777777778,
              "#fb9f3a"
             ],
             [
              0.8888888888888888,
              "#fdca26"
             ],
             [
              1,
              "#f0f921"
             ]
            ],
            "type": "histogram2dcontour"
           }
          ],
          "mesh3d": [
           {
            "colorbar": {
             "outlinewidth": 0,
             "ticks": ""
            },
            "type": "mesh3d"
           }
          ],
          "parcoords": [
           {
            "line": {
             "colorbar": {
              "outlinewidth": 0,
              "ticks": ""
             }
            },
            "type": "parcoords"
           }
          ],
          "pie": [
           {
            "automargin": true,
            "type": "pie"
           }
          ],
          "scatter": [
           {
            "marker": {
             "colorbar": {
              "outlinewidth": 0,
              "ticks": ""
             }
            },
            "type": "scatter"
           }
          ],
          "scatter3d": [
           {
            "line": {
             "colorbar": {
              "outlinewidth": 0,
              "ticks": ""
             }
            },
            "marker": {
             "colorbar": {
              "outlinewidth": 0,
              "ticks": ""
             }
            },
            "type": "scatter3d"
           }
          ],
          "scattercarpet": [
           {
            "marker": {
             "colorbar": {
              "outlinewidth": 0,
              "ticks": ""
             }
            },
            "type": "scattercarpet"
           }
          ],
          "scattergeo": [
           {
            "marker": {
             "colorbar": {
              "outlinewidth": 0,
              "ticks": ""
             }
            },
            "type": "scattergeo"
           }
          ],
          "scattergl": [
           {
            "marker": {
             "colorbar": {
              "outlinewidth": 0,
              "ticks": ""
             }
            },
            "type": "scattergl"
           }
          ],
          "scattermapbox": [
           {
            "marker": {
             "colorbar": {
              "outlinewidth": 0,
              "ticks": ""
             }
            },
            "type": "scattermapbox"
           }
          ],
          "scatterpolar": [
           {
            "marker": {
             "colorbar": {
              "outlinewidth": 0,
              "ticks": ""
             }
            },
            "type": "scatterpolar"
           }
          ],
          "scatterpolargl": [
           {
            "marker": {
             "colorbar": {
              "outlinewidth": 0,
              "ticks": ""
             }
            },
            "type": "scatterpolargl"
           }
          ],
          "scatterternary": [
           {
            "marker": {
             "colorbar": {
              "outlinewidth": 0,
              "ticks": ""
             }
            },
            "type": "scatterternary"
           }
          ],
          "surface": [
           {
            "colorbar": {
             "outlinewidth": 0,
             "ticks": ""
            },
            "colorscale": [
             [
              0,
              "#0d0887"
             ],
             [
              0.1111111111111111,
              "#46039f"
             ],
             [
              0.2222222222222222,
              "#7201a8"
             ],
             [
              0.3333333333333333,
              "#9c179e"
             ],
             [
              0.4444444444444444,
              "#bd3786"
             ],
             [
              0.5555555555555556,
              "#d8576b"
             ],
             [
              0.6666666666666666,
              "#ed7953"
             ],
             [
              0.7777777777777778,
              "#fb9f3a"
             ],
             [
              0.8888888888888888,
              "#fdca26"
             ],
             [
              1,
              "#f0f921"
             ]
            ],
            "type": "surface"
           }
          ],
          "table": [
           {
            "cells": {
             "fill": {
              "color": "#EBF0F8"
             },
             "line": {
              "color": "white"
             }
            },
            "header": {
             "fill": {
              "color": "#C8D4E3"
             },
             "line": {
              "color": "white"
             }
            },
            "type": "table"
           }
          ]
         },
         "layout": {
          "annotationdefaults": {
           "arrowcolor": "#2a3f5f",
           "arrowhead": 0,
           "arrowwidth": 1
          },
          "autotypenumbers": "strict",
          "coloraxis": {
           "colorbar": {
            "outlinewidth": 0,
            "ticks": ""
           }
          },
          "colorscale": {
           "diverging": [
            [
             0,
             "#8e0152"
            ],
            [
             0.1,
             "#c51b7d"
            ],
            [
             0.2,
             "#de77ae"
            ],
            [
             0.3,
             "#f1b6da"
            ],
            [
             0.4,
             "#fde0ef"
            ],
            [
             0.5,
             "#f7f7f7"
            ],
            [
             0.6,
             "#e6f5d0"
            ],
            [
             0.7,
             "#b8e186"
            ],
            [
             0.8,
             "#7fbc41"
            ],
            [
             0.9,
             "#4d9221"
            ],
            [
             1,
             "#276419"
            ]
           ],
           "sequential": [
            [
             0,
             "#0d0887"
            ],
            [
             0.1111111111111111,
             "#46039f"
            ],
            [
             0.2222222222222222,
             "#7201a8"
            ],
            [
             0.3333333333333333,
             "#9c179e"
            ],
            [
             0.4444444444444444,
             "#bd3786"
            ],
            [
             0.5555555555555556,
             "#d8576b"
            ],
            [
             0.6666666666666666,
             "#ed7953"
            ],
            [
             0.7777777777777778,
             "#fb9f3a"
            ],
            [
             0.8888888888888888,
             "#fdca26"
            ],
            [
             1,
             "#f0f921"
            ]
           ],
           "sequentialminus": [
            [
             0,
             "#0d0887"
            ],
            [
             0.1111111111111111,
             "#46039f"
            ],
            [
             0.2222222222222222,
             "#7201a8"
            ],
            [
             0.3333333333333333,
             "#9c179e"
            ],
            [
             0.4444444444444444,
             "#bd3786"
            ],
            [
             0.5555555555555556,
             "#d8576b"
            ],
            [
             0.6666666666666666,
             "#ed7953"
            ],
            [
             0.7777777777777778,
             "#fb9f3a"
            ],
            [
             0.8888888888888888,
             "#fdca26"
            ],
            [
             1,
             "#f0f921"
            ]
           ]
          },
          "colorway": [
           "#636efa",
           "#EF553B",
           "#00cc96",
           "#ab63fa",
           "#FFA15A",
           "#19d3f3",
           "#FF6692",
           "#B6E880",
           "#FF97FF",
           "#FECB52"
          ],
          "font": {
           "color": "#2a3f5f"
          },
          "geo": {
           "bgcolor": "white",
           "lakecolor": "white",
           "landcolor": "#E5ECF6",
           "showlakes": true,
           "showland": true,
           "subunitcolor": "white"
          },
          "hoverlabel": {
           "align": "left"
          },
          "hovermode": "closest",
          "mapbox": {
           "style": "light"
          },
          "paper_bgcolor": "white",
          "plot_bgcolor": "#E5ECF6",
          "polar": {
           "angularaxis": {
            "gridcolor": "white",
            "linecolor": "white",
            "ticks": ""
           },
           "bgcolor": "#E5ECF6",
           "radialaxis": {
            "gridcolor": "white",
            "linecolor": "white",
            "ticks": ""
           }
          },
          "scene": {
           "xaxis": {
            "backgroundcolor": "#E5ECF6",
            "gridcolor": "white",
            "gridwidth": 2,
            "linecolor": "white",
            "showbackground": true,
            "ticks": "",
            "zerolinecolor": "white"
           },
           "yaxis": {
            "backgroundcolor": "#E5ECF6",
            "gridcolor": "white",
            "gridwidth": 2,
            "linecolor": "white",
            "showbackground": true,
            "ticks": "",
            "zerolinecolor": "white"
           },
           "zaxis": {
            "backgroundcolor": "#E5ECF6",
            "gridcolor": "white",
            "gridwidth": 2,
            "linecolor": "white",
            "showbackground": true,
            "ticks": "",
            "zerolinecolor": "white"
           }
          },
          "shapedefaults": {
           "line": {
            "color": "#2a3f5f"
           }
          },
          "ternary": {
           "aaxis": {
            "gridcolor": "white",
            "linecolor": "white",
            "ticks": ""
           },
           "baxis": {
            "gridcolor": "white",
            "linecolor": "white",
            "ticks": ""
           },
           "bgcolor": "#E5ECF6",
           "caxis": {
            "gridcolor": "white",
            "linecolor": "white",
            "ticks": ""
           }
          },
          "title": {
           "x": 0.05
          },
          "xaxis": {
           "automargin": true,
           "gridcolor": "white",
           "linecolor": "white",
           "ticks": "",
           "title": {
            "standoff": 15
           },
           "zerolinecolor": "white",
           "zerolinewidth": 2
          },
          "yaxis": {
           "automargin": true,
           "gridcolor": "white",
           "linecolor": "white",
           "ticks": "",
           "title": {
            "standoff": 15
           },
           "zerolinecolor": "white",
           "zerolinewidth": 2
          }
         }
        },
        "title": {
         "text": "Nitrogen, Phosphorus, Potash values against between crops"
        },
        "xaxis": {
         "tickangle": 45
        }
       }
      },
      "text/html": [
       "<div>                            <div id=\"14004278-30e5-4bc1-8307-317c8917a972\" class=\"plotly-graph-div\" style=\"height:525px; width:100%;\"></div>            <script type=\"text/javascript\">                require([\"plotly\"], function(Plotly) {                    window.PLOTLYENV=window.PLOTLYENV || {};                                    if (document.getElementById(\"14004278-30e5-4bc1-8307-317c8917a972\")) {                    Plotly.newPlot(                        \"14004278-30e5-4bc1-8307-317c8917a972\",                        [{\"marker\":{\"color\":\"navy\"},\"name\":\"Nitrogen\",\"x\":[\"apple\",\"banana\",\"blackgram\",\"chickpea\",\"coconut\",\"coffee\",\"cotton\",\"grapes\",\"jute\",\"kidneybeans\",\"lentil\",\"maize\",\"mango\",\"mothbeans\",\"mungbean\",\"muskmelon\",\"orange\",\"papaya\",\"pigeonpeas\",\"pomegranate\",\"rice\",\"watermelon\"],\"y\":[20.8,100.23,40.02,40.09,21.98,101.2,117.77,23.18,78.4,20.75,18.77,77.76,20.07,21.44,20.99,100.32,19.58,49.88,20.73,18.87,79.89,99.42],\"type\":\"bar\"},{\"marker\":{\"color\":\"indianred\"},\"name\":\"Phosphorous\",\"x\":[\"apple\",\"banana\",\"blackgram\",\"chickpea\",\"coconut\",\"coffee\",\"cotton\",\"grapes\",\"jute\",\"kidneybeans\",\"lentil\",\"maize\",\"mango\",\"mothbeans\",\"mungbean\",\"muskmelon\",\"orange\",\"papaya\",\"pigeonpeas\",\"pomegranate\",\"rice\",\"watermelon\"],\"y\":[134.22,82.01,67.47,67.79,16.93,28.74,46.24,132.53,46.86,67.54,68.36,48.44,27.18,48.01,47.28,17.72,16.55,59.05,67.73,18.75,47.58,17.0],\"type\":\"bar\"},{\"marker\":{\"color\":\"yellowgreen\"},\"name\":\"Potash\",\"x\":[\"apple\",\"banana\",\"blackgram\",\"chickpea\",\"coconut\",\"coffee\",\"cotton\",\"grapes\",\"jute\",\"kidneybeans\",\"lentil\",\"maize\",\"mango\",\"mothbeans\",\"mungbean\",\"muskmelon\",\"orange\",\"papaya\",\"pigeonpeas\",\"pomegranate\",\"rice\",\"watermelon\"],\"y\":[199.89,50.05,19.24,79.92,30.59,29.94,19.56,200.11,39.99,20.05,19.41,19.79,29.92,20.23,19.87,50.08,10.01,50.04,20.29,40.21,39.87,50.22],\"type\":\"bar\"}],                        {\"template\":{\"data\":{\"bar\":[{\"error_x\":{\"color\":\"#2a3f5f\"},\"error_y\":{\"color\":\"#2a3f5f\"},\"marker\":{\"line\":{\"color\":\"#E5ECF6\",\"width\":0.5},\"pattern\":{\"fillmode\":\"overlay\",\"size\":10,\"solidity\":0.2}},\"type\":\"bar\"}],\"barpolar\":[{\"marker\":{\"line\":{\"color\":\"#E5ECF6\",\"width\":0.5},\"pattern\":{\"fillmode\":\"overlay\",\"size\":10,\"solidity\":0.2}},\"type\":\"barpolar\"}],\"carpet\":[{\"aaxis\":{\"endlinecolor\":\"#2a3f5f\",\"gridcolor\":\"white\",\"linecolor\":\"white\",\"minorgridcolor\":\"white\",\"startlinecolor\":\"#2a3f5f\"},\"baxis\":{\"endlinecolor\":\"#2a3f5f\",\"gridcolor\":\"white\",\"linecolor\":\"white\",\"minorgridcolor\":\"white\",\"startlinecolor\":\"#2a3f5f\"},\"type\":\"carpet\"}],\"choropleth\":[{\"colorbar\":{\"outlinewidth\":0,\"ticks\":\"\"},\"type\":\"choropleth\"}],\"contour\":[{\"colorbar\":{\"outlinewidth\":0,\"ticks\":\"\"},\"colorscale\":[[0.0,\"#0d0887\"],[0.1111111111111111,\"#46039f\"],[0.2222222222222222,\"#7201a8\"],[0.3333333333333333,\"#9c179e\"],[0.4444444444444444,\"#bd3786\"],[0.5555555555555556,\"#d8576b\"],[0.6666666666666666,\"#ed7953\"],[0.7777777777777778,\"#fb9f3a\"],[0.8888888888888888,\"#fdca26\"],[1.0,\"#f0f921\"]],\"type\":\"contour\"}],\"contourcarpet\":[{\"colorbar\":{\"outlinewidth\":0,\"ticks\":\"\"},\"type\":\"contourcarpet\"}],\"heatmap\":[{\"colorbar\":{\"outlinewidth\":0,\"ticks\":\"\"},\"colorscale\":[[0.0,\"#0d0887\"],[0.1111111111111111,\"#46039f\"],[0.2222222222222222,\"#7201a8\"],[0.3333333333333333,\"#9c179e\"],[0.4444444444444444,\"#bd3786\"],[0.5555555555555556,\"#d8576b\"],[0.6666666666666666,\"#ed7953\"],[0.7777777777777778,\"#fb9f3a\"],[0.8888888888888888,\"#fdca26\"],[1.0,\"#f0f921\"]],\"type\":\"heatmap\"}],\"heatmapgl\":[{\"colorbar\":{\"outlinewidth\":0,\"ticks\":\"\"},\"colorscale\":[[0.0,\"#0d0887\"],[0.1111111111111111,\"#46039f\"],[0.2222222222222222,\"#7201a8\"],[0.3333333333333333,\"#9c179e\"],[0.4444444444444444,\"#bd3786\"],[0.5555555555555556,\"#d8576b\"],[0.6666666666666666,\"#ed7953\"],[0.7777777777777778,\"#fb9f3a\"],[0.8888888888888888,\"#fdca26\"],[1.0,\"#f0f921\"]],\"type\":\"heatmapgl\"}],\"histogram\":[{\"marker\":{\"pattern\":{\"fillmode\":\"overlay\",\"size\":10,\"solidity\":0.2}},\"type\":\"histogram\"}],\"histogram2d\":[{\"colorbar\":{\"outlinewidth\":0,\"ticks\":\"\"},\"colorscale\":[[0.0,\"#0d0887\"],[0.1111111111111111,\"#46039f\"],[0.2222222222222222,\"#7201a8\"],[0.3333333333333333,\"#9c179e\"],[0.4444444444444444,\"#bd3786\"],[0.5555555555555556,\"#d8576b\"],[0.6666666666666666,\"#ed7953\"],[0.7777777777777778,\"#fb9f3a\"],[0.8888888888888888,\"#fdca26\"],[1.0,\"#f0f921\"]],\"type\":\"histogram2d\"}],\"histogram2dcontour\":[{\"colorbar\":{\"outlinewidth\":0,\"ticks\":\"\"},\"colorscale\":[[0.0,\"#0d0887\"],[0.1111111111111111,\"#46039f\"],[0.2222222222222222,\"#7201a8\"],[0.3333333333333333,\"#9c179e\"],[0.4444444444444444,\"#bd3786\"],[0.5555555555555556,\"#d8576b\"],[0.6666666666666666,\"#ed7953\"],[0.7777777777777778,\"#fb9f3a\"],[0.8888888888888888,\"#fdca26\"],[1.0,\"#f0f921\"]],\"type\":\"histogram2dcontour\"}],\"mesh3d\":[{\"colorbar\":{\"outlinewidth\":0,\"ticks\":\"\"},\"type\":\"mesh3d\"}],\"parcoords\":[{\"line\":{\"colorbar\":{\"outlinewidth\":0,\"ticks\":\"\"}},\"type\":\"parcoords\"}],\"pie\":[{\"automargin\":true,\"type\":\"pie\"}],\"scatter\":[{\"marker\":{\"colorbar\":{\"outlinewidth\":0,\"ticks\":\"\"}},\"type\":\"scatter\"}],\"scatter3d\":[{\"line\":{\"colorbar\":{\"outlinewidth\":0,\"ticks\":\"\"}},\"marker\":{\"colorbar\":{\"outlinewidth\":0,\"ticks\":\"\"}},\"type\":\"scatter3d\"}],\"scattercarpet\":[{\"marker\":{\"colorbar\":{\"outlinewidth\":0,\"ticks\":\"\"}},\"type\":\"scattercarpet\"}],\"scattergeo\":[{\"marker\":{\"colorbar\":{\"outlinewidth\":0,\"ticks\":\"\"}},\"type\":\"scattergeo\"}],\"scattergl\":[{\"marker\":{\"colorbar\":{\"outlinewidth\":0,\"ticks\":\"\"}},\"type\":\"scattergl\"}],\"scattermapbox\":[{\"marker\":{\"colorbar\":{\"outlinewidth\":0,\"ticks\":\"\"}},\"type\":\"scattermapbox\"}],\"scatterpolar\":[{\"marker\":{\"colorbar\":{\"outlinewidth\":0,\"ticks\":\"\"}},\"type\":\"scatterpolar\"}],\"scatterpolargl\":[{\"marker\":{\"colorbar\":{\"outlinewidth\":0,\"ticks\":\"\"}},\"type\":\"scatterpolargl\"}],\"scatterternary\":[{\"marker\":{\"colorbar\":{\"outlinewidth\":0,\"ticks\":\"\"}},\"type\":\"scatterternary\"}],\"surface\":[{\"colorbar\":{\"outlinewidth\":0,\"ticks\":\"\"},\"colorscale\":[[0.0,\"#0d0887\"],[0.1111111111111111,\"#46039f\"],[0.2222222222222222,\"#7201a8\"],[0.3333333333333333,\"#9c179e\"],[0.4444444444444444,\"#bd3786\"],[0.5555555555555556,\"#d8576b\"],[0.6666666666666666,\"#ed7953\"],[0.7777777777777778,\"#fb9f3a\"],[0.8888888888888888,\"#fdca26\"],[1.0,\"#f0f921\"]],\"type\":\"surface\"}],\"table\":[{\"cells\":{\"fill\":{\"color\":\"#EBF0F8\"},\"line\":{\"color\":\"white\"}},\"header\":{\"fill\":{\"color\":\"#C8D4E3\"},\"line\":{\"color\":\"white\"}},\"type\":\"table\"}]},\"layout\":{\"annotationdefaults\":{\"arrowcolor\":\"#2a3f5f\",\"arrowhead\":0,\"arrowwidth\":1},\"autotypenumbers\":\"strict\",\"coloraxis\":{\"colorbar\":{\"outlinewidth\":0,\"ticks\":\"\"}},\"colorscale\":{\"diverging\":[[0,\"#8e0152\"],[0.1,\"#c51b7d\"],[0.2,\"#de77ae\"],[0.3,\"#f1b6da\"],[0.4,\"#fde0ef\"],[0.5,\"#f7f7f7\"],[0.6,\"#e6f5d0\"],[0.7,\"#b8e186\"],[0.8,\"#7fbc41\"],[0.9,\"#4d9221\"],[1,\"#276419\"]],\"sequential\":[[0.0,\"#0d0887\"],[0.1111111111111111,\"#46039f\"],[0.2222222222222222,\"#7201a8\"],[0.3333333333333333,\"#9c179e\"],[0.4444444444444444,\"#bd3786\"],[0.5555555555555556,\"#d8576b\"],[0.6666666666666666,\"#ed7953\"],[0.7777777777777778,\"#fb9f3a\"],[0.8888888888888888,\"#fdca26\"],[1.0,\"#f0f921\"]],\"sequentialminus\":[[0.0,\"#0d0887\"],[0.1111111111111111,\"#46039f\"],[0.2222222222222222,\"#7201a8\"],[0.3333333333333333,\"#9c179e\"],[0.4444444444444444,\"#bd3786\"],[0.5555555555555556,\"#d8576b\"],[0.6666666666666666,\"#ed7953\"],[0.7777777777777778,\"#fb9f3a\"],[0.8888888888888888,\"#fdca26\"],[1.0,\"#f0f921\"]]},\"colorway\":[\"#636efa\",\"#EF553B\",\"#00cc96\",\"#ab63fa\",\"#FFA15A\",\"#19d3f3\",\"#FF6692\",\"#B6E880\",\"#FF97FF\",\"#FECB52\"],\"font\":{\"color\":\"#2a3f5f\"},\"geo\":{\"bgcolor\":\"white\",\"lakecolor\":\"white\",\"landcolor\":\"#E5ECF6\",\"showlakes\":true,\"showland\":true,\"subunitcolor\":\"white\"},\"hoverlabel\":{\"align\":\"left\"},\"hovermode\":\"closest\",\"mapbox\":{\"style\":\"light\"},\"paper_bgcolor\":\"white\",\"plot_bgcolor\":\"#E5ECF6\",\"polar\":{\"angularaxis\":{\"gridcolor\":\"white\",\"linecolor\":\"white\",\"ticks\":\"\"},\"bgcolor\":\"#E5ECF6\",\"radialaxis\":{\"gridcolor\":\"white\",\"linecolor\":\"white\",\"ticks\":\"\"}},\"scene\":{\"xaxis\":{\"backgroundcolor\":\"#E5ECF6\",\"gridcolor\":\"white\",\"gridwidth\":2,\"linecolor\":\"white\",\"showbackground\":true,\"ticks\":\"\",\"zerolinecolor\":\"white\"},\"yaxis\":{\"backgroundcolor\":\"#E5ECF6\",\"gridcolor\":\"white\",\"gridwidth\":2,\"linecolor\":\"white\",\"showbackground\":true,\"ticks\":\"\",\"zerolinecolor\":\"white\"},\"zaxis\":{\"backgroundcolor\":\"#E5ECF6\",\"gridcolor\":\"white\",\"gridwidth\":2,\"linecolor\":\"white\",\"showbackground\":true,\"ticks\":\"\",\"zerolinecolor\":\"white\"}},\"shapedefaults\":{\"line\":{\"color\":\"#2a3f5f\"}},\"ternary\":{\"aaxis\":{\"gridcolor\":\"white\",\"linecolor\":\"white\",\"ticks\":\"\"},\"baxis\":{\"gridcolor\":\"white\",\"linecolor\":\"white\",\"ticks\":\"\"},\"bgcolor\":\"#E5ECF6\",\"caxis\":{\"gridcolor\":\"white\",\"linecolor\":\"white\",\"ticks\":\"\"}},\"title\":{\"x\":0.05},\"xaxis\":{\"automargin\":true,\"gridcolor\":\"white\",\"linecolor\":\"white\",\"ticks\":\"\",\"title\":{\"standoff\":15},\"zerolinecolor\":\"white\",\"zerolinewidth\":2},\"yaxis\":{\"automargin\":true,\"gridcolor\":\"white\",\"linecolor\":\"white\",\"ticks\":\"\",\"title\":{\"standoff\":15},\"zerolinecolor\":\"white\",\"zerolinewidth\":2}}},\"xaxis\":{\"tickangle\":45},\"title\":{\"text\":\"Nitrogen, Phosphorus, Potash values against between crops\"},\"plot_bgcolor\":\"white\",\"barmode\":\"group\"},                        {\"responsive\": true}                    ).then(function(){\n",
       "                            \n",
       "var gd = document.getElementById('14004278-30e5-4bc1-8307-317c8917a972');\n",
       "var x = new MutationObserver(function (mutations, observer) {{\n",
       "        var display = window.getComputedStyle(gd).display;\n",
       "        if (!display || display === 'none') {{\n",
       "            console.log([gd, 'removed!']);\n",
       "            Plotly.purge(gd);\n",
       "            observer.disconnect();\n",
       "        }}\n",
       "}});\n",
       "\n",
       "// Listen for the removal of the full notebook cells\n",
       "var notebookContainer = gd.closest('#notebook-container');\n",
       "if (notebookContainer) {{\n",
       "    x.observe(notebookContainer, {childList: true});\n",
       "}}\n",
       "\n",
       "// Listen for the clearing of the current output cell\n",
       "var outputEl = gd.closest('.output');\n",
       "if (outputEl) {{\n",
       "    x.observe(outputEl, {childList: true});\n",
       "}}\n",
       "\n",
       "                        })                };                });            </script>        </div>"
      ]
     },
     "metadata": {},
     "output_type": "display_data"
    }
   ],
   "source": [
    "figure = go.Figure()\n",
    "figure.add_trace(go.Bar(\n",
    "    x=crop_summary.index,\n",
    "    y=crop_summary['N'],\n",
    "    name='Nitrogen',\n",
    "    marker_color='navy'\n",
    "))\n",
    "figure.add_trace(go.Bar(\n",
    "    x=crop_summary.index,\n",
    "    y=crop_summary['P'],\n",
    "    name='Phosphorous',\n",
    "    marker_color='indianred'\n",
    "))\n",
    "figure.add_trace(go.Bar(\n",
    "    x=crop_summary.index,\n",
    "    y=crop_summary['K'],\n",
    "    name='Potash',\n",
    "    marker_color='yellowgreen'\n",
    "))\n",
    "figure.update_layout(title=\"Nitrogen, Phosphorus, Potash values against between crops\",\n",
    "                  plot_bgcolor='white',\n",
    "                  barmode='group',\n",
    "                  xaxis_tickangle=45)\n",
    "\n",
    "figure.show()"
   ]
  },
  {
   "cell_type": "code",
   "execution_count": 319,
   "id": "3061fc8d",
   "metadata": {},
   "outputs": [
    {
     "name": "stdout",
     "output_type": "stream",
     "text": [
      "Average amount of Potassium in the soil : 48.14909\n",
      "Average amount of Phosphorous in the soil : 53.36273\n",
      "Average amount of Nitrogen in the soil : 50.55182\n",
      "Average Temperature in Celsius : 25.61624\n",
      "Average amount of Humidity in the soil : 71.48178\n",
      "Average PH value of the soil : 6.46948\n",
      "Average Rainfall in mm : 103.46366\n"
     ]
    }
   ],
   "source": [
    "\n",
    "print('Average amount of Potassium in the soil : {0:.5f}'.format(cropdata['K'].mean()))\n",
    "print('Average amount of Phosphorous in the soil : {0:.5f}'.format(cropdata['P'].mean()))\n",
    "print('Average amount of Nitrogen in the soil : {0:.5f}'.format(cropdata['N'].mean()))\n",
    "print('Average Temperature in Celsius : {0:.5f}'.format(cropdata['temperature'].mean()))\n",
    "print('Average amount of Humidity in the soil : {0:.5f}'.format(cropdata['humidity'].mean()))\n",
    "print('Average PH value of the soil : {0:.5f}'.format(cropdata['ph'].mean()))\n",
    "print('Average Rainfall in mm : {0:.5f}'.format(cropdata['rainfall'].mean()))\n",
    "    "
   ]
  },
  {
   "cell_type": "code",
   "execution_count": 320,
   "id": "6ee6ecdf",
   "metadata": {},
   "outputs": [
    {
     "name": "stderr",
     "output_type": "stream",
     "text": [
      "/opt/anaconda3/lib/python3.8/site-packages/seaborn/distributions.py:2557: FutureWarning:\n",
      "\n",
      "`distplot` is a deprecated function and will be removed in a future version. Please adapt your code to use either `displot` (a figure-level function with similar flexibility) or `histplot` (an axes-level function for histograms).\n",
      "\n",
      "/opt/anaconda3/lib/python3.8/site-packages/seaborn/distributions.py:2557: FutureWarning:\n",
      "\n",
      "`distplot` is a deprecated function and will be removed in a future version. Please adapt your code to use either `displot` (a figure-level function with similar flexibility) or `histplot` (an axes-level function for histograms).\n",
      "\n",
      "/opt/anaconda3/lib/python3.8/site-packages/seaborn/distributions.py:2557: FutureWarning:\n",
      "\n",
      "`distplot` is a deprecated function and will be removed in a future version. Please adapt your code to use either `displot` (a figure-level function with similar flexibility) or `histplot` (an axes-level function for histograms).\n",
      "\n",
      "/opt/anaconda3/lib/python3.8/site-packages/seaborn/distributions.py:2557: FutureWarning:\n",
      "\n",
      "`distplot` is a deprecated function and will be removed in a future version. Please adapt your code to use either `displot` (a figure-level function with similar flexibility) or `histplot` (an axes-level function for histograms).\n",
      "\n",
      "/opt/anaconda3/lib/python3.8/site-packages/seaborn/distributions.py:2557: FutureWarning:\n",
      "\n",
      "`distplot` is a deprecated function and will be removed in a future version. Please adapt your code to use either `displot` (a figure-level function with similar flexibility) or `histplot` (an axes-level function for histograms).\n",
      "\n",
      "/opt/anaconda3/lib/python3.8/site-packages/seaborn/distributions.py:2557: FutureWarning:\n",
      "\n",
      "`distplot` is a deprecated function and will be removed in a future version. Please adapt your code to use either `displot` (a figure-level function with similar flexibility) or `histplot` (an axes-level function for histograms).\n",
      "\n",
      "/opt/anaconda3/lib/python3.8/site-packages/seaborn/distributions.py:2557: FutureWarning:\n",
      "\n",
      "`distplot` is a deprecated function and will be removed in a future version. Please adapt your code to use either `displot` (a figure-level function with similar flexibility) or `histplot` (an axes-level function for histograms).\n",
      "\n"
     ]
    },
    {
     "data": {
      "text/plain": [
       "Text(0.5, 0, 'Rainfall')"
      ]
     },
     "execution_count": 320,
     "metadata": {},
     "output_type": "execute_result"
    },
    {
     "data": {
      "image/png": "[encoded data removed]",
      "text/plain": [
       "<Figure size 1152x720 with 7 Axes>"
      ]
     },
     "metadata": {
      "needs_background": "light"
     },
     "output_type": "display_data"
    }
   ],
   "source": [
    "#Distribution of Agriculture Conditions\n",
    "\n",
    "fig_dimension = (16, 10)\n",
    "figure, ax = plt.subplots(figsize=fig_dimension)\n",
    "\n",
    "plt.subplot(2,4,1)\n",
    "sns.distplot(cropdata['N'])\n",
    "plt.xlabel('Nitrogen')\n",
    "\n",
    "plt.subplot(2,4,2)\n",
    "sns.distplot(cropdata['P'])\n",
    "plt.xlabel('Phosphorus')\n",
    "\n",
    "plt.subplot(2,4,3)\n",
    "sns.distplot(cropdata['K'])\n",
    "plt.xlabel('Potassium')\n",
    "\n",
    "plt.subplot(2,4,4)\n",
    "sns.distplot(cropdata['temperature'])\n",
    "plt.xlabel('Temperature')\n",
    "\n",
    "plt.subplot(2,4,5)\n",
    "sns.distplot(cropdata['humidity'])\n",
    "plt.xlabel('Humidity')\n",
    "\n",
    "plt.subplot(2,4,6)\n",
    "sns.distplot(cropdata['ph'])\n",
    "plt.xlabel('PH')\n",
    "\n",
    "plt.subplot(2,4,7)\n",
    "sns.distplot(cropdata['rainfall'])\n",
    "plt.xlabel('Rainfall')\n"
   ]
  },
  {
   "cell_type": "code",
   "execution_count": 321,
   "id": "79af1cd0",
   "metadata": {},
   "outputs": [
    {
     "data": {
      "image/png": "[encoded data removed]",
      "text/plain": [
       "<Figure size 432x288 with 1 Axes>"
      ]
     },
     "metadata": {
      "needs_background": "light"
     },
     "output_type": "display_data"
    }
   ],
   "source": [
    "# plotting histograms\n",
    "plt.hist(cropdata['temperature'], alpha=0.5, label='Temperature')\n",
    "\n",
    "plt.hist(cropdata['humidity'], alpha=0.5, label='Humidity')\n",
    "\n",
    "plt.hist(cropdata['rainfall'], alpha=0.5, label='Rainfall')\n",
    "\n",
    "plt.hist(cropdata['ph'], alpha=0.5, label='Ph')\n",
    "\n",
    "plt.legend(loc='upper right')\n",
    "plt.title('Histogram of Temperature, Humidity and Rainfall')\n",
    "plt.show()"
   ]
  },
  {
   "cell_type": "code",
   "execution_count": 340,
   "id": "966c7f7f",
   "metadata": {},
   "outputs": [
    {
     "name": "stdout",
     "output_type": "stream",
     "text": [
      "Crops that can be grown in Rainy season\n",
      "['rice' 'papaya' 'coconut']\n",
      "\n",
      "\n",
      "Crops that can be grown in Summer season\n",
      "['pigeonpeas' 'mothbeans' 'blackgram' 'mango' 'grapes' 'orange' 'papaya']\n",
      "\n",
      "\n",
      "Crops that can be grown in Winter season\n",
      "['maize' 'pigeonpeas' 'lentil' 'pomegranate' 'grapes' 'orange']\n"
     ]
    }
   ],
   "source": [
    "#Crops that can be grown in particular season\n",
    "\n",
    "print('Crops that can be grown in Rainy season')\n",
    "print(cropdata[(cropdata.rainfall > 200)]['label'].unique())\n",
    "print('\\n')\n",
    "print('Crops that can be grown in Summer season')\n",
    "print(cropdata[(cropdata.temperature > 30) & (cropdata.humidity > 50)]['label'].unique())\n",
    "print('\\n')\n",
    "print('Crops that can be grown in Winter season')\n",
    "print(cropdata[(cropdata.temperature < 20) & (cropdata.humidity > 30)]['label'].unique())"
   ]
  },
  {
   "cell_type": "code",
   "execution_count": 341,
   "id": "3bcadebb",
   "metadata": {},
   "outputs": [
    {
     "data": {
      "text/html": [
       "<div>\n",
       "<style scoped>\n",
       "    .dataframe tbody tr th:only-of-type {\n",
       "        vertical-align: middle;\n",
       "    }\n",
       "\n",
       "    .dataframe tbody tr th {\n",
       "        vertical-align: top;\n",
       "    }\n",
       "\n",
       "    .dataframe thead th {\n",
       "        text-align: right;\n",
       "    }\n",
       "</style>\n",
       "<table border=\"1\" class=\"dataframe\">\n",
       "  <thead>\n",
       "    <tr style=\"text-align: right;\">\n",
       "      <th></th>\n",
       "      <th>N</th>\n",
       "      <th>P</th>\n",
       "      <th>K</th>\n",
       "      <th>temperature</th>\n",
       "      <th>humidity</th>\n",
       "      <th>ph</th>\n",
       "      <th>rainfall</th>\n",
       "    </tr>\n",
       "  </thead>\n",
       "  <tbody>\n",
       "    <tr>\n",
       "      <th>N</th>\n",
       "      <td>1.000000</td>\n",
       "      <td>-0.231460</td>\n",
       "      <td>-0.140512</td>\n",
       "      <td>0.026504</td>\n",
       "      <td>0.190688</td>\n",
       "      <td>0.096683</td>\n",
       "      <td>0.059020</td>\n",
       "    </tr>\n",
       "    <tr>\n",
       "      <th>P</th>\n",
       "      <td>-0.231460</td>\n",
       "      <td>1.000000</td>\n",
       "      <td>0.736232</td>\n",
       "      <td>-0.127541</td>\n",
       "      <td>-0.118734</td>\n",
       "      <td>-0.138019</td>\n",
       "      <td>-0.063839</td>\n",
       "    </tr>\n",
       "    <tr>\n",
       "      <th>K</th>\n",
       "      <td>-0.140512</td>\n",
       "      <td>0.736232</td>\n",
       "      <td>1.000000</td>\n",
       "      <td>-0.160387</td>\n",
       "      <td>0.190859</td>\n",
       "      <td>-0.169503</td>\n",
       "      <td>-0.053461</td>\n",
       "    </tr>\n",
       "    <tr>\n",
       "      <th>temperature</th>\n",
       "      <td>0.026504</td>\n",
       "      <td>-0.127541</td>\n",
       "      <td>-0.160387</td>\n",
       "      <td>1.000000</td>\n",
       "      <td>0.205320</td>\n",
       "      <td>-0.017795</td>\n",
       "      <td>-0.030084</td>\n",
       "    </tr>\n",
       "    <tr>\n",
       "      <th>humidity</th>\n",
       "      <td>0.190688</td>\n",
       "      <td>-0.118734</td>\n",
       "      <td>0.190859</td>\n",
       "      <td>0.205320</td>\n",
       "      <td>1.000000</td>\n",
       "      <td>-0.008483</td>\n",
       "      <td>0.094423</td>\n",
       "    </tr>\n",
       "    <tr>\n",
       "      <th>ph</th>\n",
       "      <td>0.096683</td>\n",
       "      <td>-0.138019</td>\n",
       "      <td>-0.169503</td>\n",
       "      <td>-0.017795</td>\n",
       "      <td>-0.008483</td>\n",
       "      <td>1.000000</td>\n",
       "      <td>-0.109069</td>\n",
       "    </tr>\n",
       "    <tr>\n",
       "      <th>rainfall</th>\n",
       "      <td>0.059020</td>\n",
       "      <td>-0.063839</td>\n",
       "      <td>-0.053461</td>\n",
       "      <td>-0.030084</td>\n",
       "      <td>0.094423</td>\n",
       "      <td>-0.109069</td>\n",
       "      <td>1.000000</td>\n",
       "    </tr>\n",
       "  </tbody>\n",
       "</table>\n",
       "</div>"
      ],
      "text/plain": [
       "                    N         P         K  temperature  humidity        ph  \\\n",
       "N            1.000000 -0.231460 -0.140512     0.026504  0.190688  0.096683   \n",
       "P           -0.231460  1.000000  0.736232    -0.127541 -0.118734 -0.138019   \n",
       "K           -0.140512  0.736232  1.000000    -0.160387  0.190859 -0.169503   \n",
       "temperature  0.026504 -0.127541 -0.160387     1.000000  0.205320 -0.017795   \n",
       "humidity     0.190688 -0.118734  0.190859     0.205320  1.000000 -0.008483   \n",
       "ph           0.096683 -0.138019 -0.169503    -0.017795 -0.008483  1.000000   \n",
       "rainfall     0.059020 -0.063839 -0.053461    -0.030084  0.094423 -0.109069   \n",
       "\n",
       "             rainfall  \n",
       "N            0.059020  \n",
       "P           -0.063839  \n",
       "K           -0.053461  \n",
       "temperature -0.030084  \n",
       "humidity     0.094423  \n",
       "ph          -0.109069  \n",
       "rainfall     1.000000  "
      ]
     },
     "execution_count": 341,
     "metadata": {},
     "output_type": "execute_result"
    }
   ],
   "source": [
    "#Finding Co relation\n",
    "\n",
    "cropcorelation = cropdata.corr()\n",
    "cropdata.corr()\n"
   ]
  },
  {
   "cell_type": "code",
   "execution_count": null,
   "id": "44a376b1",
   "metadata": {},
   "outputs": [],
   "source": []
  },
  {
   "cell_type": "code",
   "execution_count": null,
   "id": "4497837c",
   "metadata": {},
   "outputs": [],
   "source": []
  },
  {
   "cell_type": "code",
   "execution_count": 324,
   "id": "d3bc820f",
   "metadata": {},
   "outputs": [
    {
     "data": {
      "application/vnd.plotly.v1+json": {
       "config": {
        "plotlyServerURL": "https://plot.ly"
       },
       "data": [
        {
         "hovertemplate": "label=pomegranate<br>temperature=%{x}<br>humidity=%{y}<extra></extra>",
         "legendgroup": "pomegranate",
         "marker": {
          "color": "#636efa",
          "symbol": "circle"
         },
         "mode": "markers",
         "name": "pomegranate",
         "orientation": "v",
         "showlegend": true,
         "type": "scatter",
         "x": [
          24.55981624,
          19.65690085,
          18.78359608,
          24.1469628,
          22.44581266,
          24.96273236,
          22.5526059,
          22.77035608,
          19.20090378,
          23.12808226,
          24.92639065,
          24.77464458,
          19.8671184,
          24.26601316,
          23.62600218,
          19.67832052,
          22.36509395,
          21.57936934,
          18.26233221,
          23.71028128,
          22.48720144,
          21.66024980000001,
          20.13037175,
          18.41164435,
          19.68291173,
          23.20242586,
          18.92157197,
          22.10621387,
          18.47412402,
          19.81069447,
          24.4880844,
          18.75927679,
          19.54128063,
          18.91251245,
          19.91330523,
          19.72620525,
          23.83185873,
          24.94467632,
          24.692258,
          24.72485577,
          20.12644921,
          21.02432943,
          22.40423537,
          20.33691147,
          24.24779615,
          24.81530144,
          19.66329768,
          22.43377991,
          22.92052307,
          22.91843172,
          24.88244467,
          23.40981539,
          21.20725375,
          18.20230419,
          22.34375696,
          24.32770134,
          19.75088482,
          19.86173586,
          18.07132963,
          23.89162561,
          23.98598756,
          20.93892916,
          20.82210727,
          20.86474944,
          24.45840036,
          24.51147697,
          24.56811204,
          24.63228709,
          20.07386547,
          21.80523051,
          22.8122645,
          22.73031253,
          23.2801227,
          19.30106297,
          19.0087067,
          24.35193812,
          24.72235539,
          21.92513945,
          24.83954414,
          18.09691127,
          20.24104904,
          23.22594,
          23.50128217,
          19.44623085,
          20.51343484,
          18.90223032,
          18.90592319,
          22.63045168,
          19.38603815,
          24.38318965,
          23.77989026,
          22.59890174,
          24.37766782,
          20.89273273,
          18.09903225,
          20.00218987,
          19.85139326,
          21.25433607,
          23.65374106,
          23.88404783
         ],
         "xaxis": "x",
         "y": [
          91.63536236,
          89.93701023,
          87.4024767,
          94.5110662,
          89.90147027,
          92.40501423,
          89.32594859999998,
          91.45498527,
          94.27659596,
          92.68328358,
          85.19098079,
          85.63608688,
          86.35590206,
          93.7974061,
          89.73266695,
          89.08935702,
          92.30882391,
          94.88267728,
          88.16779129,
          89.61794165,
          89.9224883,
          94.79397419,
          89.31505137,
          91.11927248,
          89.75272999,
          91.19442671,
          87.31290342,
          91.34039616,
          89.68919664,
          88.92944254,
          90.83687246,
          89.93457597,
          90.29751796,
          87.74938524,
          94.95031368,
          89.64934166,
          87.84034604,
          94.25702672,
          93.87030088,
          85.56083187,
          87.59629625,
          93.0569505,
          88.1508343,
          89.38003827,
          85.56033312,
          91.90842992,
          87.95158129,
          90.3396556,
          85.12912161,
          85.40695044,
          89.39686219,
          93.13277,
          94.26304717,
          91.12282162,
          89.7870345,
          90.88292835,
          88.71691157,
          86.19740917,
          93.14554876,
          89.61850203,
          93.34236582,
          85.42912869,
          87.22815682,
          91.61793636,
          86.10874614,
          90.64498715,
          92.03009222,
          89.01574455,
          90.97819712,
          94.63612858,
          86.34233767,
          88.48567856,
          94.94330457,
          87.1775172,
          88.83768149,
          90.88612388,
          88.87651295,
          94.46485312,
          86.88738076,
          90.42177379,
          91.08706822,
          94.42971362,
          92.97527546,
          89.02127045,
          92.51675903,
          94.99897537,
          89.24126808,
          88.45577158,
          86.79058496,
          91.19431555,
          92.93386903,
          93.16343942,
          85.4017118,
          91.07776977,
          85.70786282,
          85.83618191,
          89.80732335,
          92.65058936,
          93.32657504,
          86.20613842
         ],
         "yaxis": "y"
        },
        {
         "hovertemplate": "label=mango<br>temperature=%{x}<br>humidity=%{y}<extra></extra>",
         "legendgroup": "mango",
         "marker": {
          "color": "#EF553B",
          "symbol": "diamond"
         },
         "mode": "markers",
         "name": "mango",
         "orientation": "v",
         "showlegend": true,
         "type": "scatter",
         "x": [
          29.73770045,
          33.55695561,
          27.00315545,
          33.56150184,
          35.89855625,
          34.17719782,
          30.01592643,
          31.74592134,
          35.99009679,
          31.86641378,
          27.75518664,
          34.72413192,
          27.53907547,
          27.69637763,
          27.25373364,
          30.33723921,
          31.85744939,
          35.39986338,
          29.80747243,
          34.16438906,
          28.93270187,
          27.98392787,
          31.20478173,
          32.13409675,
          28.91862016,
          31.09779147,
          34.73823882,
          29.98080499,
          33.80398664,
          30.07202564,
          27.92063282,
          31.40948821,
          35.7877738,
          33.36140093,
          35.96054636,
          28.33333307,
          32.27652024,
          31.99490489,
          27.58258929,
          29.38471637,
          32.38697531,
          30.91471455,
          35.37775595,
          32.32362177,
          28.22373428,
          27.27433181,
          27.10710832,
          34.89226666,
          33.7462686,
          27.351105600000004,
          32.89300162,
          35.38598705,
          27.552973600000005,
          32.82141065,
          30.17294105,
          29.26382931,
          32.06097197,
          28.69818144,
          29.14305008,
          28.347161100000005,
          27.67256197,
          28.1218093,
          30.79375683,
          28.89409382,
          33.33024826,
          27.78912455,
          31.65333432,
          29.75150773,
          31.32995611,
          35.63627319,
          31.66524687,
          32.26935342,
          27.81005614,
          34.58561471,
          31.27180992,
          33.93679864,
          31.09154239,
          31.89356292,
          32.45465292,
          35.47478322,
          27.32961444,
          30.90225239,
          29.09382275,
          30.02086169,
          34.13072188,
          33.44619894,
          35.3915464,
          31.53356352,
          30.764551500000003,
          30.01821337,
          31.32863689,
          33.88004781,
          28.07802689,
          35.53845018,
          28.70595247,
          31.48451729,
          27.69819273,
          30.41235793,
          32.17752026,
          32.611261400000004
         ],
         "xaxis": "x",
         "y": [
          47.54885174,
          53.72979826,
          47.67525434,
          45.53556603,
          54.25964196,
          50.62161586,
          53.19212381,
          45.16127859,
          52.22780489,
          52.19331595,
          52.34605806,
          51.4271781,
          53.63549533,
          48.56224879999999,
          52.66319725,
          48.88704844,
          45.53106268,
          49.45962621,
          52.13797867,
          54.16482251,
          47.94053996,
          53.33018851,
          54.49960506,
          50.52559148,
          48.13974548,
          47.41196659,
          49.08864345,
          49.48613279,
          46.12866113,
          50.96040505,
          51.77965917,
          49.21729127,
          51.94190321,
          45.02236377,
          48.69677802,
          51.39586505,
          50.19368841,
          50.84881347,
          48.56916221,
          45.88744691,
          53.2328243,
          49.92963856,
          45.58110023,
          52.58967710000001,
          47.40519056,
          47.16808054,
          50.70880979,
          48.75613373,
          48.50387598,
          54.43945147,
          52.61323969,
          51.42664176,
          47.90859131,
          47.45553843,
          51.0845903,
          54.82257868,
          51.08494181,
          47.71875722,
          49.40983294,
          53.53903102,
          45.41692012,
          46.16888595,
          46.69536813,
          54.80750249,
          45.61143594,
          53.96886679,
          48.20662669,
          46.73723302,
          50.22287593,
          48.97047762,
          51.98594645,
          53.56092806,
          51.59445462,
          50.34035336,
          52.23810152,
          52.72170281,
          47.02058367,
          49.02450149,
          50.69693751,
          47.97230503,
          49.30347234,
          49.95955487,
          45.5661059,
          46.78393776,
          51.25786185,
          53.05980465,
          52.48823147,
          53.06009323,
          47.93791463,
          50.09831810000001,
          47.59319575,
          54.39416048,
          54.9640534,
          52.94641947,
          50.44030129,
          48.77926304,
          51.41593238,
          52.48100602,
          54.01352682,
          47.74916499
         ],
         "yaxis": "y"
        },
        {
         "hovertemplate": "label=grapes<br>temperature=%{x}<br>humidity=%{y}<extra></extra>",
         "legendgroup": "grapes",
         "marker": {
          "color": "#00cc96",
          "symbol": "square"
         },
         "mode": "markers",
         "name": "grapes",
         "orientation": "v",
         "showlegend": true,
         "type": "scatter",
         "x": [
          29.99677232,
          30.7280404,
          32.44577836,
          37.46566825,
          22.03296178,
          39.64851881,
          16.77557314,
          12.14190714,
          12.7567962,
          39.04071989,
          39.70772192,
          9.467960445,
          29.58748357,
          17.82803682,
          8.825674745,
          27.83487131,
          11.02105378,
          17.5862944,
          19.89363946,
          29.93707596,
          36.73126647,
          20.42094753,
          25.51939719,
          30.50734778,
          18.426993600000007,
          12.087022,
          23.60115364,
          12.80000387,
          38.06099482,
          39.06555518,
          33.78372897,
          16.76201707,
          35.89307536,
          21.01245395,
          10.89875873,
          16.36251869,
          20.28370163,
          25.11108456,
          33.4641162,
          11.7976469,
          11.36300891,
          25.23542319,
          15.99050693,
          22.4359017,
          34.76086052,
          31.11047251,
          28.57828803,
          41.18664903,
          27.02766138,
          21.19339319,
          10.38004759,
          31.3115978,
          20.46657776,
          29.36947679,
          10.72302459,
          14.97846952,
          15.3246651,
          18.73932187,
          19.3642553,
          41.20733624,
          33.34214482,
          23.81995682,
          40.66012294,
          11.82768186,
          13.28504331,
          35.83089092,
          26.18159716,
          24.57558351,
          29.67229086,
          39.37102553,
          17.66558428,
          24.06679352,
          15.31413469,
          21.77466746,
          26.91624843,
          41.65602996,
          17.98667801,
          29.12033769,
          34.38922481,
          41.36106301,
          35.12158265,
          19.6491772,
          16.27852801,
          21.11903604,
          19.2077707,
          25.96308415,
          25.67385024,
          41.94865736,
          11.18994268,
          17.5438296,
          13.05809741,
          9.724457611,
          27.92004934,
          9.535585543,
          13.42988625,
          9.851242629,
          24.97256132,
          27.23708304,
          18.70679077,
          9.949929082
         ],
         "xaxis": "x",
         "y": [
          81.54156612,
          82.42614055,
          83.88504863,
          80.65968681,
          83.74372787,
          82.21079946,
          82.75241875,
          83.56812483,
          81.62497448,
          80.18393287,
          82.68593454,
          82.29335466,
          80.91934392,
          80.96093443,
          82.89753705,
          83.51444973,
          80.55557235,
          80.84806564,
          82.73366439,
          81.77713468,
          80.58931938,
          81.54185044,
          83.98351748,
          82.71775569,
          80.55625868,
          83.59398734,
          82.48336987,
          81.20876367,
          82.24729637,
          82.03812973,
          81.16314317,
          82.00335557,
          82.66850729,
          81.17931863,
          80.01639435,
          83.00471609,
          81.32235739,
          83.25447587,
          83.86742974,
          80.86325389,
          80.03100049,
          80.68700527,
          81.23966573,
          80.18612085,
          81.03544763,
          83.34010951,
          80.95628959,
          81.01783402,
          83.17093908,
          82.33098331,
          83.44518113,
          82.56407013,
          80.97598029,
          81.53996362,
          80.02130636,
          80.49979873,
          81.67215994,
          81.12109244,
          83.36094029,
          81.61051026,
          82.51034633,
          80.12211649,
          81.24995984,
          80.2827185,
          83.54193816,
          83.32560104,
          81.03886263,
          80.70695797,
          83.71498986,
          81.25353895,
          82.92903419,
          82.66396666,
          80.09711412,
          80.54942557,
          80.76838926,
          82.22118237,
          81.17712085,
          82.79092939,
          83.18392806,
          82.79782954,
          82.26890793,
          80.15215777,
          82.94270065,
          80.63399198,
          82.90428409999998,
          82.57813624,
          81.6212135,
          81.15595212,
          80.8084305,
          82.94703302,
          80.28297993,
          83.74765639,
          82.93262435,
          80.73112694,
          80.06633966,
          80.22631717,
          82.72828653,
          82.94573346,
          83.4795292,
          82.55138983
         ],
         "yaxis": "y"
        },
        {
         "hovertemplate": "label=watermelon<br>temperature=%{x}<br>humidity=%{y}<extra></extra>",
         "legendgroup": "watermelon",
         "marker": {
          "color": "#ab63fa",
          "symbol": "x"
         },
         "mode": "markers",
         "name": "watermelon",
         "orientation": "v",
         "showlegend": true,
         "type": "scatter",
         "x": [
          26.47330219,
          25.18780042,
          25.29954705,
          24.74631269,
          26.58740671,
          24.53442564,
          26.0713757,
          25.96534238,
          26.22338015,
          24.41311871,
          26.49195283,
          24.04355803,
          25.5421695,
          26.74550678,
          25.7131428,
          25.76484262,
          26.79489868,
          24.9004602,
          26.80750629,
          25.11189154,
          26.2148837,
          24.9103226,
          25.79448878,
          25.26931156,
          25.76402693,
          25.85483596,
          24.33528185,
          25.37601283,
          24.86094646,
          24.71885473,
          24.21495706,
          25.81692236,
          24.47018505,
          24.13078816,
          26.1793464,
          26.17668721,
          26.03867719,
          26.53259325,
          26.81938687,
          25.50405534,
          26.20234499,
          25.13735887,
          25.92030221,
          26.6634609,
          24.06731461,
          24.6774157,
          26.11440416,
          26.81530456,
          25.15623099,
          25.2801372,
          26.22005978,
          24.92093261,
          26.21667586,
          26.81383586,
          24.31334971,
          24.29105004,
          24.42998931,
          25.66576039,
          25.07803672,
          24.88910524,
          25.42900869,
          24.37118217,
          26.493064500000006,
          25.83202912,
          24.41592661,
          24.37190239,
          24.24782473,
          24.64458469,
          24.89681131,
          25.41864024,
          26.26028739,
          24.90123934,
          24.84740848,
          26.98212846,
          26.90435747,
          25.86475496,
          26.70607759,
          26.44019475,
          26.283443,
          26.84366082,
          26.03967219,
          24.92994759,
          25.50736962,
          25.4438391,
          26.12588914,
          25.10474753,
          26.27520631,
          26.27061608,
          26.73690828,
          25.04746944,
          24.69368934,
          24.54356968,
          25.89762315,
          26.6333118,
          25.35794749,
          25.28784623,
          26.63838589,
          25.3310446,
          26.89750174,
          26.98603693
         ],
         "xaxis": "x",
         "y": [
          80.92254421,
          83.44621709,
          81.77527562,
          88.30866319,
          81.32563243,
          88.989272,
          88.7285657,
          89.77076659,
          85.34866045,
          89.81574032,
          80.04678201,
          84.18406764,
          83.31883376,
          83.9195902,
          80.22972777,
          84.17269959999999,
          89.64815231,
          89.73524177,
          88.22874955,
          80.02621335,
          87.68839820000002,
          86.97190046,
          84.26830701,
          87.55055105,
          87.5931128,
          89.13163965,
          81.44030363,
          80.99313508,
          85.05318563,
          88.94568335,
          84.20576992,
          82.043255,
          84.16390229,
          84.84494575,
          86.52258079,
          86.72952049999998,
          84.6378378,
          82.39053979,
          87.8274604,
          81.40297428,
          80.38266489,
          89.28272716,
          83.47202566,
          89.98405233,
          81.64075303,
          82.75411437,
          87.64081095,
          87.65694462,
          80.27525115,
          83.15393658,
          80.90127035,
          80.61750795,
          81.01009354,
          87.21986949,
          87.47409052,
          88.04541346,
          86.33904774,
          88.6984228,
          83.46230461,
          85.87059083,
          82.91481799,
          87.1269128,
          88.59143088,
          89.00481725,
          89.39655519,
          81.2514818,
          83.03687902,
          85.49938185,
          86.10782926,
          81.12122989,
          86.14585891,
          87.20772913,
          89.20454622,
          86.70068316,
          86.25426228,
          86.67468041,
          81.14149505,
          80.91934337,
          84.42478917,
          83.85039964,
          83.9862443,
          85.00802358,
          84.24340241,
          87.93923120000002,
          86.5507939,
          87.52676159999999,
          86.63249555,
          83.09194521,
          87.82430156,
          85.5667282,
          85.56967628,
          84.60808277,
          81.96664832,
          84.31756844,
          80.45846265,
          89.63667876,
          84.69546874,
          84.30533791,
          83.89241484,
          89.4138489
         ],
         "yaxis": "y"
        },
        {
         "hovertemplate": "label=muskmelon<br>temperature=%{x}<br>humidity=%{y}<extra></extra>",
         "legendgroup": "muskmelon",
         "marker": {
          "color": "#FFA15A",
          "symbol": "cross"
         },
         "mode": "markers",
         "name": "muskmelon",
         "orientation": "v",
         "showlegend": true,
         "type": "scatter",
         "x": [
          27.57826922,
          27.82054812,
          29.09910406,
          28.04943594,
          29.91690582,
          29.86895762,
          29.17220859,
          29.24908541,
          27.76317235,
          28.82629037,
          28.52379742,
          29.06785065,
          29.08417927,
          28.47090661,
          28.27973674,
          28.47212559,
          29.68846716,
          27.02415146,
          29.09588297,
          29.69238699,
          28.20619412,
          29.05248036,
          29.57240298,
          29.10968327,
          28.20480805,
          29.11858526,
          29.62800691,
          29.81196601,
          27.72338349,
          29.26092798,
          29.72791119,
          28.91105641,
          28.96361426,
          28.59052369,
          27.33897716,
          29.90415889,
          27.42711692,
          29.55657523,
          29.84070774,
          28.53545677,
          27.11535046,
          27.84492803,
          29.03157242,
          27.82424457,
          27.72653142,
          28.69708334,
          29.73019662,
          29.54097171,
          28.80311922,
          27.29035669,
          27.46583649,
          29.49401389,
          27.79161808,
          29.12533739,
          27.93114233,
          29.45771748,
          27.96872279,
          29.48882958,
          29.47156259,
          27.076726500000003,
          27.30008597,
          29.82729394,
          29.93061247,
          29.94349168,
          28.03306461,
          29.8843055,
          27.7058373,
          29.78714005,
          28.57819995,
          29.48069921,
          27.51492243,
          28.05457761,
          29.03167341,
          28.5854649,
          27.08808014,
          27.99611732,
          27.87317436,
          28.96586565,
          28.87726019,
          29.17052093,
          29.34033587,
          29.07265321,
          28.68275966,
          28.92705913,
          27.99901833,
          27.59350075,
          29.87331077,
          28.55852465,
          29.19378695,
          27.98780984,
          28.05380704,
          27.350629600000005,
          29.34081108,
          28.61475136,
          27.04863538,
          29.5275305,
          28.50416396,
          28.89578588,
          27.04927452,
          28.96017885
         ],
         "xaxis": "x",
         "y": [
          94.11878202,
          93.03555162,
          94.22237826,
          90.83130708,
          94.55695552,
          93.25103208,
          92.21405224,
          90.06998135,
          90.35567642,
          94.26765349,
          92.09688432,
          90.97685539,
          90.73891887,
          94.79453182,
          90.38971208,
          91.21322065,
          94.30111601,
          91.66737633,
          94.16748386,
          92.58862544,
          92.86798698,
          93.92217834,
          93.61870344,
          92.43510994,
          92.91440379,
          92.12543021,
          90.10051615,
          90.36881284,
          90.93897939,
          92.92367701,
          94.29753295,
          90.78413842,
          93.88482153,
          91.33617236,
          90.69759008,
          90.75284363,
          90.02696201,
          90.70937262,
          93.76312893,
          91.72742702,
          94.86907886,
          91.60666594,
          91.82172592,
          90.56698742,
          92.00687531,
          94.30759855,
          90.97015715,
          92.91778307,
          91.78336933,
          90.53330091,
          94.87679041,
          94.72981338,
          92.51054946,
          91.52291141,
          93.56161439,
          92.12534736,
          92.17444796,
          91.07574233,
          90.77069618,
          90.14362622,
          90.80015308,
          90.79007335,
          93.22980899,
          93.90741192,
          91.47355778,
          94.0371147,
          92.91185695,
          94.65343534,
          92.86597437,
          90.33698678,
          94.96218673,
          94.81637388,
          93.12603235,
          91.89216849,
          93.42402083,
          90.84660317,
          91.14849627,
          90.71832938,
          92.48839665,
          94.19790371,
          90.01506395,
          91.91533173,
          92.50969311,
          91.39356832,
          91.64193051,
          91.79742953,
          90.60932469,
          90.45773041,
          91.46241065,
          92.78226196,
          91.81758779,
          94.29119509999998,
          94.5513539,
          94.22253035,
          91.34685096,
          94.57459443,
          93.46806467,
          94.78993038,
          91.3821731,
          91.69532178
         ],
         "yaxis": "y"
        },
        {
         "hovertemplate": "label=apple<br>temperature=%{x}<br>humidity=%{y}<extra></extra>",
         "legendgroup": "apple",
         "marker": {
          "color": "#19d3f3",
          "symbol": "circle"
         },
         "mode": "markers",
         "name": "apple",
         "orientation": "v",
         "showlegend": true,
         "type": "scatter",
         "x": [
          22.75088787,
          23.8494014,
          22.60800988,
          21.18667419,
          23.41044706,
          22.86006627,
          22.48403042,
          22.02775403,
          21.91191314,
          23.71059131,
          21.37784654,
          22.84852833,
          23.1094265,
          23.25230817,
          23.67287749,
          23.76881552,
          23.34386401,
          22.63946441,
          22.45696744,
          22.96388477,
          21.07273439,
          22.44075021,
          22.71271308,
          21.70416965,
          22.43324518,
          21.25941052,
          22.9215706,
          22.81212536,
          21.12152071,
          21.11478672,
          23.59997268,
          23.12652652,
          22.98458907,
          22.12659387,
          22.53779727,
          22.49095104,
          22.35548159,
          22.20700989,
          22.44516988,
          22.76643029,
          22.19109412,
          23.6119202,
          23.86087054,
          21.42177231,
          22.36629253,
          23.99686172,
          21.80129837,
          23.80436344,
          23.71475278,
          23.34467359,
          22.31253665,
          23.50201428,
          23.46260321,
          23.06204373,
          22.47420512,
          22.69780133,
          23.66682067,
          22.50050273,
          23.83053666,
          23.64142354,
          21.41363812,
          22.85267372,
          22.98208095,
          21.19909519,
          23.87192332,
          21.0365275,
          22.61711614,
          21.45278675,
          22.81227579,
          21.98141856,
          22.52709326,
          22.35628673,
          21.19852186,
          23.8812458,
          22.78234161,
          22.19055385,
          22.91430043,
          23.08950736,
          21.72484506,
          22.44307715,
          21.1316077,
          22.71750705,
          23.75033085,
          23.76121837,
          22.13450646,
          21.17089176,
          22.36238282,
          22.77856513,
          21.22503442,
          23.15791104,
          22.42776057,
          23.64082979,
          22.29423493,
          23.35225078,
          22.03911546,
          23.80593812,
          22.31944084,
          22.14464104,
          23.65167552,
          22.16939473
         ],
         "xaxis": "x",
         "y": [
          90.69489172,
          94.34814995,
          94.58900601,
          91.13435689,
          91.69913296,
          93.12859895,
          93.40819246,
          92.96129462,
          91.68748063,
          93.27392415,
          92.72043743,
          94.32130209,
          92.79630809,
          94.54128292,
          90.4935574,
          90.59810302,
          91.47684705,
          90.18451645,
          94.76285385,
          93.58065995,
          93.56585985,
          92.70785115,
          90.45261746,
          93.44006288,
          92.48667725,
          92.84416234,
          94.89613443,
          91.51861705,
          90.6878768,
          90.31528693,
          90.97597665,
          94.71203306,
          93.3204487,
          90.97818277,
          91.48135786,
          91.70292746,
          94.47811755,
          93.50574163,
          94.73763514,
          92.12438519,
          90.02575116,
          91.70293849,
          94.92048112,
          92.62665309,
          90.78572467,
          91.61001707,
          92.73446667,
          92.80441624,
          91.53331177,
          90.37981478,
          90.03577124,
          92.21083961,
          91.45665004,
          92.39544055,
          91.22759742,
          92.82223419,
          93.90191078,
          92.45878335,
          90.84422164,
          93.74461474,
          92.99124545,
          94.57645809999998,
          93.84505029,
          90.80819418,
          90.49939035,
          94.33919546,
          93.51978375,
          90.74531921,
          92.12992101,
          91.12719303,
          92.54780429,
          91.92360477,
          92.15595143,
          93.45067555,
          94.36803516,
          92.43764169,
          90.70475565,
          90.22507299,
          92.83975602,
          91.59234006,
          91.95769858,
          92.25479855,
          92.88160462,
          93.661643,
          94.67695747,
          90.23730166,
          91.15761594,
          92.70124029,
          90.09877774,
          90.34396882,
          93.91722423,
          90.95257927,
          90.69033986,
          90.90054697,
          94.58075845,
          92.48879468,
          90.85174383,
          93.82567435,
          94.50528753,
          90.27185592
         ],
         "yaxis": "y"
        },
        {
         "hovertemplate": "label=orange<br>temperature=%{x}<br>humidity=%{y}<extra></extra>",
         "legendgroup": "orange",
         "marker": {
          "color": "#FF6692",
          "symbol": "diamond"
         },
         "mode": "markers",
         "name": "orange",
         "orientation": "v",
         "showlegend": true,
         "type": "scatter",
         "x": [
          15.78144173,
          26.03097313,
          13.36050601,
          18.87957654,
          29.47741671,
          28.06903173,
          25.66901098,
          29.77149434,
          30.55472573,
          23.96147583,
          23.98289638,
          25.26052689,
          31.08368929,
          14.78003032,
          26.56608303,
          24.85903405,
          34.51465139,
          24.12188673,
          23.85340379,
          24.60297538,
          15.63211033,
          19.33516809,
          28.2620488,
          22.67594476,
          21.03200078,
          33.23453301,
          22.30318989,
          11.50322938,
          14.34320488,
          33.105698100000005,
          30.49183837,
          30.25578031,
          12.22816189,
          10.01081312,
          22.79196751,
          20.18432263,
          30.72119881,
          24.35590861,
          21.21306973,
          10.78689755,
          11.89925671,
          22.56664172,
          18.86883219,
          17.34083741,
          34.90665289,
          24.53610067,
          13.8377282,
          22.3551049,
          34.74004942,
          11.54785707,
          23.13338811,
          29.98364695,
          20.87947369,
          17.24944623,
          15.83388699,
          23.01014302,
          16.39624284,
          24.45132792,
          31.87859192,
          31.34920143,
          18.05142392,
          30.84835031,
          22.45616931,
          13.70319166,
          20.48954522,
          13.20844373,
          32.31944397,
          20.68185224,
          31.52675982,
          25.35467646,
          17.66545409,
          12.59093977,
          11.86631922,
          11.03367937,
          25.2990432,
          32.23797837,
          17.68408797,
          10.2708877,
          17.22034507,
          19.667056,
          10.35609594,
          27.255435,
          34.591784600000004,
          32.39523995,
          10.16431299,
          21.49118657,
          16.53460397,
          31.852069399999998,
          28.04799508,
          31.75048899,
          29.07412717,
          19.14381903,
          16.14820285,
          34.05296914,
          34.51423957,
          32.71748548,
          25.16296632,
          27.68167318,
          21.35093384,
          11.69894639
         ],
         "xaxis": "x",
         "y": [
          92.51077745,
          91.50819306,
          91.35608208,
          92.04304496,
          91.57802915,
          92.91487288,
          92.04670813,
          92.00719952,
          90.90343769,
          90.26408017,
          91.5473145,
          90.31153735,
          90.14362642,
          91.22062116,
          94.45239715,
          94.39000473,
          93.63812684,
          90.72351622,
          90.10522549,
          91.28408653,
          94.25966183,
          91.97978938,
          91.98317355,
          93.36348717,
          92.9641969,
          91.06053924,
          92.15987039,
          94.8933184,
          94.35734702,
          93.48447453,
          90.4582865,
          92.03272799,
          90.26457428,
          90.22399223,
          90.60901895,
          90.65458473,
          94.01331956,
          92.39651663,
          91.35349216,
          91.38411917,
          91.34663797,
          93.37488907,
          93.24688124,
          93.04897191,
          92.87820148,
          91.90997228,
          91.74780462,
          93.52211892,
          93.12316972,
          94.14861001,
          91.94670335,
          94.55239717,
          90.93756231,
          91.13772765,
          91.68293851,
          91.11764246,
          92.18151927,
          93.10527686,
          91.15248149,
          91.48247612,
          90.03969587,
          92.86773675,
          91.52781832,
          90.95589386,
          93.72485075,
          94.02769434,
          93.67804556,
          90.91510525,
          90.50621806,
          91.81183218,
          91.69865887,
          91.81668769,
          93.68394562,
          92.22706805,
          94.96419851,
          90.15406807,
          94.35815354,
          90.19147747,
          94.78797376,
          90.50096668,
          93.75652041,
          91.71369387,
          92.13229786,
          94.51768464,
          91.22320999,
          93.43949693,
          94.76759975,
          90.12220323,
          90.00621688,
          94.59551226,
          93.27189064,
          90.71037456,
          91.4448027,
          92.05811721,
          90.56151463,
          90.54608254,
          92.54736032,
          94.47316879,
          90.9492967,
          93.25638873
         ],
         "yaxis": "y"
        },
        {
         "hovertemplate": "label=papaya<br>temperature=%{x}<br>humidity=%{y}<extra></extra>",
         "legendgroup": "papaya",
         "marker": {
          "color": "#B6E880",
          "symbol": "square"
         },
         "mode": "markers",
         "name": "papaya",
         "orientation": "v",
         "showlegend": true,
         "type": "scatter",
         "x": [
          35.21462816,
          42.39413392,
          38.4191628,
          35.33294932,
          42.92325255,
          33.83508569,
          33.20258348,
          23.48546973,
          29.33710543,
          40.21199348,
          42.13473976,
          32.86316618,
          29.80744318,
          31.56213762,
          36.32268069,
          37.13165026,
          38.4418717,
          32.66160599,
          27.92765919,
          39.01793345,
          32.51247398,
          38.72382798,
          43.30204933,
          27.58548913,
          40.78881819,
          23.19451074,
          32.68067385,
          34.28879307,
          39.30050027,
          39.73149053,
          39.23342464,
          27.34734861,
          40.76998685,
          26.26559543,
          28.12971499,
          34.2804607,
          33.7960155,
          31.53243779,
          42.30495821,
          24.63676897,
          28.28222883,
          24.48620746,
          42.84609252,
          43.67549305,
          42.07213781,
          33.46873719,
          31.7018373,
          41.41968393,
          42.54744013,
          28.91842453,
          43.08022702,
          29.20300896,
          41.04224355,
          25.62446619,
          35.32876402,
          24.42561272,
          31.18298415,
          31.88342554,
          42.93368602,
          23.11407669,
          24.87212063,
          43.36051537,
          26.83054058,
          30.42012134,
          28.64555584,
          32.50037548,
          43.03714283,
          30.10773379,
          23.69212243,
          35.67667332,
          27.71948962,
          35.26824831,
          23.16855863,
          33.08706051,
          37.4620912,
          38.73218907,
          32.57720726,
          38.38231475,
          42.93605359,
          25.65492304,
          37.58899717,
          29.60718808,
          25.34756111,
          25.9300384,
          32.76795887,
          29.02328049,
          40.00439101,
          33.32315744,
          31.22790131,
          26.68386496,
          24.70528368,
          38.2016825,
          36.56769731,
          26.05375792,
          31.29986342,
          40.10207731,
          38.58954491,
          41.31330062,
          37.03551903,
          23.012401800000006
         ],
         "xaxis": "x",
         "y": [
          91.49725058,
          90.79028064,
          91.14220381,
          92.11508608,
          90.07600528,
          92.85470152,
          92.76437927,
          93.71043692,
          90.81781439,
          94.50766912,
          91.70445386,
          91.4618874,
          91.38048469,
          93.0484859,
          93.06134398,
          94.60761797,
          93.63739039,
          90.78931681,
          91.55594211,
          91.48815629,
          94.65904123,
          91.72514851,
          92.83405443,
          90.72526502,
          92.90951393,
          91.40301608,
          92.61715632,
          93.61082872,
          94.16193416,
          91.12220596,
          91.25589286,
          94.17756725,
          92.09278584,
          90.79668055,
          93.3210737,
          90.55561637,
          93.00754254,
          90.87394933,
          90.51431779,
          90.61964344,
          91.37059792,
          92.98254537,
          94.63548176,
          93.10887229,
          92.92203105,
          92.12746225,
          91.66232213,
          90.03863107,
          94.94482086,
          94.63676767,
          93.90305729,
          93.96834049,
          91.37258067,
          93.18240298,
          91.06138506,
          92.27749066,
          90.21646909,
          91.3256535,
          91.1756748,
          94.31994776,
          93.90560147,
          93.35191636,
          90.75379971,
          93.12659793,
          93.22642604,
          93.47888842,
          94.6428898,
          90.34546355,
          93.61055571,
          93.30641944,
          94.43877142,
          92.38282957,
          90.78821158,
          92.25197542,
          90.44967809,
          94.73613484,
          92.74889453,
          93.10378595,
          90.09448142,
          92.74501561,
          91.99740365,
          93.15642801,
          93.02871078,
          93.02357765,
          94.57377401,
          90.20396783,
          90.17015833,
          91.25271223,
          94.94021378,
          92.9585411,
          90.14732171,
          93.97379963,
          93.79503425,
          93.69111672,
          92.76039164,
          94.35110201,
          91.58076549,
          91.1508798,
          91.79430166,
          91.07355541
         ],
         "yaxis": "y"
        },
        {
         "hovertemplate": "label=coconut<br>temperature=%{x}<br>humidity=%{y}<extra></extra>",
         "legendgroup": "coconut",
         "marker": {
          "color": "#FF97FF",
          "symbol": "x"
         },
         "mode": "markers",
         "name": "coconut",
         "orientation": "v",
         "showlegend": true,
         "type": "scatter",
         "x": [
          26.762749300000007,
          25.61294367,
          28.130115000000004,
          25.02887163,
          27.79797651,
          29.25902906,
          27.10134661,
          25.84726298,
          26.58580443,
          28.38503882,
          28.43647052,
          28.27298134,
          27.00648436,
          27.63551259,
          26.29644905,
          27.1326009,
          25.56567803,
          25.94951662,
          28.03380598,
          29.12859129,
          27.0828252,
          28.11321494,
          27.5136304,
          27.63834933,
          29.01256899,
          26.58413917,
          28.28905147,
          28.69164799,
          29.70931288,
          27.14865285,
          29.28725038,
          25.06871967,
          26.92449525,
          28.27804288,
          29.18032562,
          28.3575072,
          29.38072512,
          25.39241091,
          26.31270635,
          29.52501367,
          28.83214859,
          28.48444906,
          28.74013335,
          25.00872392,
          29.8690834,
          27.54273211,
          26.52166434,
          25.03512351,
          29.20394909,
          27.05826457,
          26.18552389,
          27.59376845,
          25.76011662,
          28.87862994,
          26.50908611,
          26.87037587,
          27.57283516,
          28.05912437,
          29.51611558,
          28.96318258,
          25.09897688,
          27.1872282,
          29.03065024,
          27.754298,
          27.31155708,
          28.84270971,
          26.61423461,
          29.70143197,
          25.54759871,
          26.37978453,
          27.45907759,
          27.02269204,
          28.98545306,
          26.1055118,
          25.0707247,
          25.54963273,
          28.56973521,
          26.07010807,
          25.51791333,
          25.9490364,
          28.2974764,
          29.56549169,
          29.69952329,
          26.14162144,
          26.00175125,
          27.15116142,
          28.97318719,
          26.13958446,
          25.51618488,
          27.55821802,
          27.81132822,
          25.60033702,
          26.91641934,
          29.1797902,
          26.44600063,
          28.43572863,
          28.94099669,
          26.45488737,
          25.79490531,
          26.93141945
         ],
         "xaxis": "x",
         "y": [
          92.86056895,
          94.3138837,
          95.64807631,
          91.53720922,
          99.64573002,
          95.11294697,
          93.69979946,
          90.92669463,
          90.98617591,
          99.18843684,
          91.81320717,
          96.93649473,
          96.46168931,
          99.34854917,
          99.65809151,
          95.23797989,
          97.61361544,
          93.40548703,
          95.01630593,
          91.30924833,
          97.00155491,
          90.01734526,
          94.18955816,
          95.48763389,
          94.01014388,
          95.78923137,
          97.00396405,
          96.65248672,
          96.30484325,
          96.66355213,
          91.95614918,
          93.31410447,
          91.20106019,
          93.64761266,
          92.73041222,
          91.64509299,
          93.27565685,
          98.08951196,
          98.62048026,
          91.91185319,
          92.17170353,
          97.76865458,
          93.39676499,
          95.59224018,
          91.14723422,
          94.59086121,
          98.38227669,
          95.89739958,
          95.66997327,
          91.10510371,
          96.96637916,
          92.48519606,
          94.65830608,
          95.11320315,
          94.48414544,
          91.72546257,
          94.90485697,
          98.3670985,
          92.56492864,
          95.16333673,
          92.36099489,
          92.19906776,
          90.79093862,
          95.94643831,
          99.96906006,
          99.64328526,
          96.97300803,
          95.65754365,
          91.64194826,
          91.49882979,
          92.90736493,
          95.71935435,
          90.73966792,
          91.52421214,
          95.02156793,
          96.92786777,
          95.67906668,
          96.7036223,
          94.38420565,
          94.73860514,
          95.41122824,
          91.40896307,
          95.21224392,
          93.28415295,
          94.79998418,
          91.48889469,
          98.09861043,
          96.38580769,
          94.33465411,
          99.98187601,
          97.48410555,
          99.7240104,
          99.84671638,
          90.27214288,
          98.29937782,
          95.8840407,
          93.00109012,
          93.45042636,
          93.84150618,
          98.80313612
         ],
         "yaxis": "y"
        }
       ],
       "layout": {
        "legend": {
         "title": {
          "text": "label"
         },
         "tracegroupgap": 0
        },
        "margin": {
         "t": 60
        },
        "plot_bgcolor": "white",
        "template": {
         "data": {
          "bar": [
           {
            "error_x": {
             "color": "#2a3f5f"
            },
            "error_y": {
             "color": "#2a3f5f"
            },
            "marker": {
             "line": {
              "color": "#E5ECF6",
              "width": 0.5
             },
             "pattern": {
              "fillmode": "overlay",
              "size": 10,
              "solidity": 0.2
             }
            },
            "type": "bar"
           }
          ],
          "barpolar": [
           {
            "marker": {
             "line": {
              "color": "#E5ECF6",
              "width": 0.5
             },
             "pattern": {
              "fillmode": "overlay",
              "size": 10,
              "solidity": 0.2
             }
            },
            "type": "barpolar"
           }
          ],
          "carpet": [
           {
            "aaxis": {
             "endlinecolor": "#2a3f5f",
             "gridcolor": "white",
             "linecolor": "white",
             "minorgridcolor": "white",
             "startlinecolor": "#2a3f5f"
            },
            "baxis": {
             "endlinecolor": "#2a3f5f",
             "gridcolor": "white",
             "linecolor": "white",
             "minorgridcolor": "white",
             "startlinecolor": "#2a3f5f"
            },
            "type": "carpet"
           }
          ],
          "choropleth": [
           {
            "colorbar": {
             "outlinewidth": 0,
             "ticks": ""
            },
            "type": "choropleth"
           }
          ],
          "contour": [
           {
            "colorbar": {
             "outlinewidth": 0,
             "ticks": ""
            },
            "colorscale": [
             [
              0,
              "#0d0887"
             ],
             [
              0.1111111111111111,
              "#46039f"
             ],
             [
              0.2222222222222222,
              "#7201a8"
             ],
             [
              0.3333333333333333,
              "#9c179e"
             ],
             [
              0.4444444444444444,
              "#bd3786"
             ],
             [
              0.5555555555555556,
              "#d8576b"
             ],
             [
              0.6666666666666666,
              "#ed7953"
             ],
             [
              0.7777777777777778,
              "#fb9f3a"
             ],
             [
              0.8888888888888888,
              "#fdca26"
             ],
             [
              1,
              "#f0f921"
             ]
            ],
            "type": "contour"
           }
          ],
          "contourcarpet": [
           {
            "colorbar": {
             "outlinewidth": 0,
             "ticks": ""
            },
            "type": "contourcarpet"
           }
          ],
          "heatmap": [
           {
            "colorbar": {
             "outlinewidth": 0,
             "ticks": ""
            },
            "colorscale": [
             [
              0,
              "#0d0887"
             ],
             [
              0.1111111111111111,
              "#46039f"
             ],
             [
              0.2222222222222222,
              "#7201a8"
             ],
             [
              0.3333333333333333,
              "#9c179e"
             ],
             [
              0.4444444444444444,
              "#bd3786"
             ],
             [
              0.5555555555555556,
              "#d8576b"
             ],
             [
              0.6666666666666666,
              "#ed7953"
             ],
             [
              0.7777777777777778,
              "#fb9f3a"
             ],
             [
              0.8888888888888888,
              "#fdca26"
             ],
             [
              1,
              "#f0f921"
             ]
            ],
            "type": "heatmap"
           }
          ],
          "heatmapgl": [
           {
            "colorbar": {
             "outlinewidth": 0,
             "ticks": ""
            },
            "colorscale": [
             [
              0,
              "#0d0887"
             ],
             [
              0.1111111111111111,
              "#46039f"
             ],
             [
              0.2222222222222222,
              "#7201a8"
             ],
             [
              0.3333333333333333,
              "#9c179e"
             ],
             [
              0.4444444444444444,
              "#bd3786"
             ],
             [
              0.5555555555555556,
              "#d8576b"
             ],
             [
              0.6666666666666666,
              "#ed7953"
             ],
             [
              0.7777777777777778,
              "#fb9f3a"
             ],
             [
              0.8888888888888888,
              "#fdca26"
             ],
             [
              1,
              "#f0f921"
             ]
            ],
            "type": "heatmapgl"
           }
          ],
          "histogram": [
           {
            "marker": {
             "pattern": {
              "fillmode": "overlay",
              "size": 10,
              "solidity": 0.2
             }
            },
            "type": "histogram"
           }
          ],
          "histogram2d": [
           {
            "colorbar": {
             "outlinewidth": 0,
             "ticks": ""
            },
            "colorscale": [
             [
              0,
              "#0d0887"
             ],
             [
              0.1111111111111111,
              "#46039f"
             ],
             [
              0.2222222222222222,
              "#7201a8"
             ],
             [
              0.3333333333333333,
              "#9c179e"
             ],
             [
              0.4444444444444444,
              "#bd3786"
             ],
             [
              0.5555555555555556,
              "#d8576b"
             ],
             [
              0.6666666666666666,
              "#ed7953"
             ],
             [
              0.7777777777777778,
              "#fb9f3a"
             ],
             [
              0.8888888888888888,
              "#fdca26"
             ],
             [
              1,
              "#f0f921"
             ]
            ],
            "type": "histogram2d"
           }
          ],
          "histogram2dcontour": [
           {
            "colorbar": {
             "outlinewidth": 0,
             "ticks": ""
            },
            "colorscale": [
             [
              0,
              "#0d0887"
             ],
             [
              0.1111111111111111,
              "#46039f"
             ],
             [
              0.2222222222222222,
              "#7201a8"
             ],
             [
              0.3333333333333333,
              "#9c179e"
             ],
             [
              0.4444444444444444,
              "#bd3786"
             ],
             [
              0.5555555555555556,
              "#d8576b"
             ],
             [
              0.6666666666666666,
              "#ed7953"
             ],
             [
              0.7777777777777778,
              "#fb9f3a"
             ],
             [
              0.8888888888888888,
              "#fdca26"
             ],
             [
              1,
              "#f0f921"
             ]
            ],
            "type": "histogram2dcontour"
           }
          ],
          "mesh3d": [
           {
            "colorbar": {
             "outlinewidth": 0,
             "ticks": ""
            },
            "type": "mesh3d"
           }
          ],
          "parcoords": [
           {
            "line": {
             "colorbar": {
              "outlinewidth": 0,
              "ticks": ""
             }
            },
            "type": "parcoords"
           }
          ],
          "pie": [
           {
            "automargin": true,
            "type": "pie"
           }
          ],
          "scatter": [
           {
            "marker": {
             "colorbar": {
              "outlinewidth": 0,
              "ticks": ""
             }
            },
            "type": "scatter"
           }
          ],
          "scatter3d": [
           {
            "line": {
             "colorbar": {
              "outlinewidth": 0,
              "ticks": ""
             }
            },
            "marker": {
             "colorbar": {
              "outlinewidth": 0,
              "ticks": ""
             }
            },
            "type": "scatter3d"
           }
          ],
          "scattercarpet": [
           {
            "marker": {
             "colorbar": {
              "outlinewidth": 0,
              "ticks": ""
             }
            },
            "type": "scattercarpet"
           }
          ],
          "scattergeo": [
           {
            "marker": {
             "colorbar": {
              "outlinewidth": 0,
              "ticks": ""
             }
            },
            "type": "scattergeo"
           }
          ],
          "scattergl": [
           {
            "marker": {
             "colorbar": {
              "outlinewidth": 0,
              "ticks": ""
             }
            },
            "type": "scattergl"
           }
          ],
          "scattermapbox": [
           {
            "marker": {
             "colorbar": {
              "outlinewidth": 0,
              "ticks": ""
             }
            },
            "type": "scattermapbox"
           }
          ],
          "scatterpolar": [
           {
            "marker": {
             "colorbar": {
              "outlinewidth": 0,
              "ticks": ""
             }
            },
            "type": "scatterpolar"
           }
          ],
          "scatterpolargl": [
           {
            "marker": {
             "colorbar": {
              "outlinewidth": 0,
              "ticks": ""
             }
            },
            "type": "scatterpolargl"
           }
          ],
          "scatterternary": [
           {
            "marker": {
             "colorbar": {
              "outlinewidth": 0,
              "ticks": ""
             }
            },
            "type": "scatterternary"
           }
          ],
          "surface": [
           {
            "colorbar": {
             "outlinewidth": 0,
             "ticks": ""
            },
            "colorscale": [
             [
              0,
              "#0d0887"
             ],
             [
              0.1111111111111111,
              "#46039f"
             ],
             [
              0.2222222222222222,
              "#7201a8"
             ],
             [
              0.3333333333333333,
              "#9c179e"
             ],
             [
              0.4444444444444444,
              "#bd3786"
             ],
             [
              0.5555555555555556,
              "#d8576b"
             ],
             [
              0.6666666666666666,
              "#ed7953"
             ],
             [
              0.7777777777777778,
              "#fb9f3a"
             ],
             [
              0.8888888888888888,
              "#fdca26"
             ],
             [
              1,
              "#f0f921"
             ]
            ],
            "type": "surface"
           }
          ],
          "table": [
           {
            "cells": {
             "fill": {
              "color": "#EBF0F8"
             },
             "line": {
              "color": "white"
             }
            },
            "header": {
             "fill": {
              "color": "#C8D4E3"
             },
             "line": {
              "color": "white"
             }
            },
            "type": "table"
           }
          ]
         },
         "layout": {
          "annotationdefaults": {
           "arrowcolor": "#2a3f5f",
           "arrowhead": 0,
           "arrowwidth": 1
          },
          "autotypenumbers": "strict",
          "coloraxis": {
           "colorbar": {
            "outlinewidth": 0,
            "ticks": ""
           }
          },
          "colorscale": {
           "diverging": [
            [
             0,
             "#8e0152"
            ],
            [
             0.1,
             "#c51b7d"
            ],
            [
             0.2,
             "#de77ae"
            ],
            [
             0.3,
             "#f1b6da"
            ],
            [
             0.4,
             "#fde0ef"
            ],
            [
             0.5,
             "#f7f7f7"
            ],
            [
             0.6,
             "#e6f5d0"
            ],
            [
             0.7,
             "#b8e186"
            ],
            [
             0.8,
             "#7fbc41"
            ],
            [
             0.9,
             "#4d9221"
            ],
            [
             1,
             "#276419"
            ]
           ],
           "sequential": [
            [
             0,
             "#0d0887"
            ],
            [
             0.1111111111111111,
             "#46039f"
            ],
            [
             0.2222222222222222,
             "#7201a8"
            ],
            [
             0.3333333333333333,
             "#9c179e"
            ],
            [
             0.4444444444444444,
             "#bd3786"
            ],
            [
             0.5555555555555556,
             "#d8576b"
            ],
            [
             0.6666666666666666,
             "#ed7953"
            ],
            [
             0.7777777777777778,
             "#fb9f3a"
            ],
            [
             0.8888888888888888,
             "#fdca26"
            ],
            [
             1,
             "#f0f921"
            ]
           ],
           "sequentialminus": [
            [
             0,
             "#0d0887"
            ],
            [
             0.1111111111111111,
             "#46039f"
            ],
            [
             0.2222222222222222,
             "#7201a8"
            ],
            [
             0.3333333333333333,
             "#9c179e"
            ],
            [
             0.4444444444444444,
             "#bd3786"
            ],
            [
             0.5555555555555556,
             "#d8576b"
            ],
            [
             0.6666666666666666,
             "#ed7953"
            ],
            [
             0.7777777777777778,
             "#fb9f3a"
            ],
            [
             0.8888888888888888,
             "#fdca26"
            ],
            [
             1,
             "#f0f921"
            ]
           ]
          },
          "colorway": [
           "#636efa",
           "#EF553B",
           "#00cc96",
           "#ab63fa",
           "#FFA15A",
           "#19d3f3",
           "#FF6692",
           "#B6E880",
           "#FF97FF",
           "#FECB52"
          ],
          "font": {
           "color": "#2a3f5f"
          },
          "geo": {
           "bgcolor": "white",
           "lakecolor": "white",
           "landcolor": "#E5ECF6",
           "showlakes": true,
           "showland": true,
           "subunitcolor": "white"
          },
          "hoverlabel": {
           "align": "left"
          },
          "hovermode": "closest",
          "mapbox": {
           "style": "light"
          },
          "paper_bgcolor": "white",
          "plot_bgcolor": "#E5ECF6",
          "polar": {
           "angularaxis": {
            "gridcolor": "white",
            "linecolor": "white",
            "ticks": ""
           },
           "bgcolor": "#E5ECF6",
           "radialaxis": {
            "gridcolor": "white",
            "linecolor": "white",
            "ticks": ""
           }
          },
          "scene": {
           "xaxis": {
            "backgroundcolor": "#E5ECF6",
            "gridcolor": "white",
            "gridwidth": 2,
            "linecolor": "white",
            "showbackground": true,
            "ticks": "",
            "zerolinecolor": "white"
           },
           "yaxis": {
            "backgroundcolor": "#E5ECF6",
            "gridcolor": "white",
            "gridwidth": 2,
            "linecolor": "white",
            "showbackground": true,
            "ticks": "",
            "zerolinecolor": "white"
           },
           "zaxis": {
            "backgroundcolor": "#E5ECF6",
            "gridcolor": "white",
            "gridwidth": 2,
            "linecolor": "white",
            "showbackground": true,
            "ticks": "",
            "zerolinecolor": "white"
           }
          },
          "shapedefaults": {
           "line": {
            "color": "#2a3f5f"
           }
          },
          "ternary": {
           "aaxis": {
            "gridcolor": "white",
            "linecolor": "white",
            "ticks": ""
           },
           "baxis": {
            "gridcolor": "white",
            "linecolor": "white",
            "ticks": ""
           },
           "bgcolor": "#E5ECF6",
           "caxis": {
            "gridcolor": "white",
            "linecolor": "white",
            "ticks": ""
           }
          },
          "title": {
           "x": 0.05
          },
          "xaxis": {
           "automargin": true,
           "gridcolor": "white",
           "linecolor": "white",
           "ticks": "",
           "title": {
            "standoff": 15
           },
           "zerolinecolor": "white",
           "zerolinewidth": 2
          },
          "yaxis": {
           "automargin": true,
           "gridcolor": "white",
           "linecolor": "white",
           "ticks": "",
           "title": {
            "standoff": 15
           },
           "zerolinecolor": "white",
           "zerolinewidth": 2
          }
         }
        },
        "xaxis": {
         "anchor": "y",
         "domain": [
          0,
          1
         ],
         "showgrid": false,
         "title": {
          "text": "temperature"
         }
        },
        "yaxis": {
         "anchor": "x",
         "domain": [
          0,
          1
         ],
         "showgrid": false,
         "title": {
          "text": "humidity"
         }
        }
       }
      },
      "text/html": [
       "<div>                            <div id=\"222882f7-5629-44a2-aa88-0951b91790cf\" class=\"plotly-graph-div\" style=\"height:525px; width:100%;\"></div>            <script type=\"text/javascript\">                require([\"plotly\"], function(Plotly) {                    window.PLOTLYENV=window.PLOTLYENV || {};                                    if (document.getElementById(\"222882f7-5629-44a2-aa88-0951b91790cf\")) {                    Plotly.newPlot(                        \"222882f7-5629-44a2-aa88-0951b91790cf\",                        [{\"hovertemplate\":\"label=pomegranate<br>temperature=%{x}<br>humidity=%{y}<extra></extra>\",\"legendgroup\":\"pomegranate\",\"marker\":{\"color\":\"#636efa\",\"symbol\":\"circle\"},\"mode\":\"markers\",\"name\":\"pomegranate\",\"orientation\":\"v\",\"showlegend\":true,\"x\":[24.55981624,19.65690085,18.78359608,24.1469628,22.44581266,24.96273236,22.5526059,22.77035608,19.20090378,23.12808226,24.92639065,24.77464458,19.8671184,24.26601316,23.62600218,19.67832052,22.36509395,21.57936934,18.26233221,23.71028128,22.48720144,21.66024980000001,20.13037175,18.41164435,19.68291173,23.20242586,18.92157197,22.10621387,18.47412402,19.81069447,24.4880844,18.75927679,19.54128063,18.91251245,19.91330523,19.72620525,23.83185873,24.94467632,24.692258,24.72485577,20.12644921,21.02432943,22.40423537,20.33691147,24.24779615,24.81530144,19.66329768,22.43377991,22.92052307,22.91843172,24.88244467,23.40981539,21.20725375,18.20230419,22.34375696,24.32770134,19.75088482,19.86173586,18.07132963,23.89162561,23.98598756,20.93892916,20.82210727,20.86474944,24.45840036,24.51147697,24.56811204,24.63228709,20.07386547,21.80523051,22.8122645,22.73031253,23.2801227,19.30106297,19.0087067,24.35193812,24.72235539,21.92513945,24.83954414,18.09691127,20.24104904,23.22594,23.50128217,19.44623085,20.51343484,18.90223032,18.90592319,22.63045168,19.38603815,24.38318965,23.77989026,22.59890174,24.37766782,20.89273273,18.09903225,20.00218987,19.85139326,21.25433607,23.65374106,23.88404783],\"xaxis\":\"x\",\"y\":[91.63536236,89.93701023,87.4024767,94.5110662,89.90147027,92.40501423,89.32594859999998,91.45498527,94.27659596,92.68328358,85.19098079,85.63608688,86.35590206,93.7974061,89.73266695,89.08935702,92.30882391,94.88267728,88.16779129,89.61794165,89.9224883,94.79397419,89.31505137,91.11927248,89.75272999,91.19442671,87.31290342,91.34039616,89.68919664,88.92944254,90.83687246,89.93457597,90.29751796,87.74938524,94.95031368,89.64934166,87.84034604,94.25702672,93.87030088,85.56083187,87.59629625,93.0569505,88.1508343,89.38003827,85.56033312,91.90842992,87.95158129,90.3396556,85.12912161,85.40695044,89.39686219,93.13277,94.26304717,91.12282162,89.7870345,90.88292835,88.71691157,86.19740917,93.14554876,89.61850203,93.34236582,85.42912869,87.22815682,91.61793636,86.10874614,90.64498715,92.03009222,89.01574455,90.97819712,94.63612858,86.34233767,88.48567856,94.94330457,87.1775172,88.83768149,90.88612388,88.87651295,94.46485312,86.88738076,90.42177379,91.08706822,94.42971362,92.97527546,89.02127045,92.51675903,94.99897537,89.24126808,88.45577158,86.79058496,91.19431555,92.93386903,93.16343942,85.4017118,91.07776977,85.70786282,85.83618191,89.80732335,92.65058936,93.32657504,86.20613842],\"yaxis\":\"y\",\"type\":\"scatter\"},{\"hovertemplate\":\"label=mango<br>temperature=%{x}<br>humidity=%{y}<extra></extra>\",\"legendgroup\":\"mango\",\"marker\":{\"color\":\"#EF553B\",\"symbol\":\"diamond\"},\"mode\":\"markers\",\"name\":\"mango\",\"orientation\":\"v\",\"showlegend\":true,\"x\":[29.73770045,33.55695561,27.00315545,33.56150184,35.89855625,34.17719782,30.01592643,31.74592134,35.99009679,31.86641378,27.75518664,34.72413192,27.53907547,27.69637763,27.25373364,30.33723921,31.85744939,35.39986338,29.80747243,34.16438906,28.93270187,27.98392787,31.20478173,32.13409675,28.91862016,31.09779147,34.73823882,29.98080499,33.80398664,30.07202564,27.92063282,31.40948821,35.7877738,33.36140093,35.96054636,28.33333307,32.27652024,31.99490489,27.58258929,29.38471637,32.38697531,30.91471455,35.37775595,32.32362177,28.22373428,27.27433181,27.10710832,34.89226666,33.7462686,27.351105600000004,32.89300162,35.38598705,27.552973600000005,32.82141065,30.17294105,29.26382931,32.06097197,28.69818144,29.14305008,28.347161100000005,27.67256197,28.1218093,30.79375683,28.89409382,33.33024826,27.78912455,31.65333432,29.75150773,31.32995611,35.63627319,31.66524687,32.26935342,27.81005614,34.58561471,31.27180992,33.93679864,31.09154239,31.89356292,32.45465292,35.47478322,27.32961444,30.90225239,29.09382275,30.02086169,34.13072188,33.44619894,35.3915464,31.53356352,30.764551500000003,30.01821337,31.32863689,33.88004781,28.07802689,35.53845018,28.70595247,31.48451729,27.69819273,30.41235793,32.17752026,32.611261400000004],\"xaxis\":\"x\",\"y\":[47.54885174,53.72979826,47.67525434,45.53556603,54.25964196,50.62161586,53.19212381,45.16127859,52.22780489,52.19331595,52.34605806,51.4271781,53.63549533,48.56224879999999,52.66319725,48.88704844,45.53106268,49.45962621,52.13797867,54.16482251,47.94053996,53.33018851,54.49960506,50.52559148,48.13974548,47.41196659,49.08864345,49.48613279,46.12866113,50.96040505,51.77965917,49.21729127,51.94190321,45.02236377,48.69677802,51.39586505,50.19368841,50.84881347,48.56916221,45.88744691,53.2328243,49.92963856,45.58110023,52.58967710000001,47.40519056,47.16808054,50.70880979,48.75613373,48.50387598,54.43945147,52.61323969,51.42664176,47.90859131,47.45553843,51.0845903,54.82257868,51.08494181,47.71875722,49.40983294,53.53903102,45.41692012,46.16888595,46.69536813,54.80750249,45.61143594,53.96886679,48.20662669,46.73723302,50.22287593,48.97047762,51.98594645,53.56092806,51.59445462,50.34035336,52.23810152,52.72170281,47.02058367,49.02450149,50.69693751,47.97230503,49.30347234,49.95955487,45.5661059,46.78393776,51.25786185,53.05980465,52.48823147,53.06009323,47.93791463,50.09831810000001,47.59319575,54.39416048,54.9640534,52.94641947,50.44030129,48.77926304,51.41593238,52.48100602,54.01352682,47.74916499],\"yaxis\":\"y\",\"type\":\"scatter\"},{\"hovertemplate\":\"label=grapes<br>temperature=%{x}<br>humidity=%{y}<extra></extra>\",\"legendgroup\":\"grapes\",\"marker\":{\"color\":\"#00cc96\",\"symbol\":\"square\"},\"mode\":\"markers\",\"name\":\"grapes\",\"orientation\":\"v\",\"showlegend\":true,\"x\":[29.99677232,30.7280404,32.44577836,37.46566825,22.03296178,39.64851881,16.77557314,12.14190714,12.7567962,39.04071989,39.70772192,9.467960445,29.58748357,17.82803682,8.825674745,27.83487131,11.02105378,17.5862944,19.89363946,29.93707596,36.73126647,20.42094753,25.51939719,30.50734778,18.426993600000007,12.087022,23.60115364,12.80000387,38.06099482,39.06555518,33.78372897,16.76201707,35.89307536,21.01245395,10.89875873,16.36251869,20.28370163,25.11108456,33.4641162,11.7976469,11.36300891,25.23542319,15.99050693,22.4359017,34.76086052,31.11047251,28.57828803,41.18664903,27.02766138,21.19339319,10.38004759,31.3115978,20.46657776,29.36947679,10.72302459,14.97846952,15.3246651,18.73932187,19.3642553,41.20733624,33.34214482,23.81995682,40.66012294,11.82768186,13.28504331,35.83089092,26.18159716,24.57558351,29.67229086,39.37102553,17.66558428,24.06679352,15.31413469,21.77466746,26.91624843,41.65602996,17.98667801,29.12033769,34.38922481,41.36106301,35.12158265,19.6491772,16.27852801,21.11903604,19.2077707,25.96308415,25.67385024,41.94865736,11.18994268,17.5438296,13.05809741,9.724457611,27.92004934,9.535585543,13.42988625,9.851242629,24.97256132,27.23708304,18.70679077,9.949929082],\"xaxis\":\"x\",\"y\":[81.54156612,82.42614055,83.88504863,80.65968681,83.74372787,82.21079946,82.75241875,83.56812483,81.62497448,80.18393287,82.68593454,82.29335466,80.91934392,80.96093443,82.89753705,83.51444973,80.55557235,80.84806564,82.73366439,81.77713468,80.58931938,81.54185044,83.98351748,82.71775569,80.55625868,83.59398734,82.48336987,81.20876367,82.24729637,82.03812973,81.16314317,82.00335557,82.66850729,81.17931863,80.01639435,83.00471609,81.32235739,83.25447587,83.86742974,80.86325389,80.03100049,80.68700527,81.23966573,80.18612085,81.03544763,83.34010951,80.95628959,81.01783402,83.17093908,82.33098331,83.44518113,82.56407013,80.97598029,81.53996362,80.02130636,80.49979873,81.67215994,81.12109244,83.36094029,81.61051026,82.51034633,80.12211649,81.24995984,80.2827185,83.54193816,83.32560104,81.03886263,80.70695797,83.71498986,81.25353895,82.92903419,82.66396666,80.09711412,80.54942557,80.76838926,82.22118237,81.17712085,82.79092939,83.18392806,82.79782954,82.26890793,80.15215777,82.94270065,80.63399198,82.90428409999998,82.57813624,81.6212135,81.15595212,80.8084305,82.94703302,80.28297993,83.74765639,82.93262435,80.73112694,80.06633966,80.22631717,82.72828653,82.94573346,83.4795292,82.55138983],\"yaxis\":\"y\",\"type\":\"scatter\"},{\"hovertemplate\":\"label=watermelon<br>temperature=%{x}<br>humidity=%{y}<extra></extra>\",\"legendgroup\":\"watermelon\",\"marker\":{\"color\":\"#ab63fa\",\"symbol\":\"x\"},\"mode\":\"markers\",\"name\":\"watermelon\",\"orientation\":\"v\",\"showlegend\":true,\"x\":[26.47330219,25.18780042,25.29954705,24.74631269,26.58740671,24.53442564,26.0713757,25.96534238,26.22338015,24.41311871,26.49195283,24.04355803,25.5421695,26.74550678,25.7131428,25.76484262,26.79489868,24.9004602,26.80750629,25.11189154,26.2148837,24.9103226,25.79448878,25.26931156,25.76402693,25.85483596,24.33528185,25.37601283,24.86094646,24.71885473,24.21495706,25.81692236,24.47018505,24.13078816,26.1793464,26.17668721,26.03867719,26.53259325,26.81938687,25.50405534,26.20234499,25.13735887,25.92030221,26.6634609,24.06731461,24.6774157,26.11440416,26.81530456,25.15623099,25.2801372,26.22005978,24.92093261,26.21667586,26.81383586,24.31334971,24.29105004,24.42998931,25.66576039,25.07803672,24.88910524,25.42900869,24.37118217,26.493064500000006,25.83202912,24.41592661,24.37190239,24.24782473,24.64458469,24.89681131,25.41864024,26.26028739,24.90123934,24.84740848,26.98212846,26.90435747,25.86475496,26.70607759,26.44019475,26.283443,26.84366082,26.03967219,24.92994759,25.50736962,25.4438391,26.12588914,25.10474753,26.27520631,26.27061608,26.73690828,25.04746944,24.69368934,24.54356968,25.89762315,26.6333118,25.35794749,25.28784623,26.63838589,25.3310446,26.89750174,26.98603693],\"xaxis\":\"x\",\"y\":[80.92254421,83.44621709,81.77527562,88.30866319,81.32563243,88.989272,88.7285657,89.77076659,85.34866045,89.81574032,80.04678201,84.18406764,83.31883376,83.9195902,80.22972777,84.17269959999999,89.64815231,89.73524177,88.22874955,80.02621335,87.68839820000002,86.97190046,84.26830701,87.55055105,87.5931128,89.13163965,81.44030363,80.99313508,85.05318563,88.94568335,84.20576992,82.043255,84.16390229,84.84494575,86.52258079,86.72952049999998,84.6378378,82.39053979,87.8274604,81.40297428,80.38266489,89.28272716,83.47202566,89.98405233,81.64075303,82.75411437,87.64081095,87.65694462,80.27525115,83.15393658,80.90127035,80.61750795,81.01009354,87.21986949,87.47409052,88.04541346,86.33904774,88.6984228,83.46230461,85.87059083,82.91481799,87.1269128,88.59143088,89.00481725,89.39655519,81.2514818,83.03687902,85.49938185,86.10782926,81.12122989,86.14585891,87.20772913,89.20454622,86.70068316,86.25426228,86.67468041,81.14149505,80.91934337,84.42478917,83.85039964,83.9862443,85.00802358,84.24340241,87.93923120000002,86.5507939,87.52676159999999,86.63249555,83.09194521,87.82430156,85.5667282,85.56967628,84.60808277,81.96664832,84.31756844,80.45846265,89.63667876,84.69546874,84.30533791,83.89241484,89.4138489],\"yaxis\":\"y\",\"type\":\"scatter\"},{\"hovertemplate\":\"label=muskmelon<br>temperature=%{x}<br>humidity=%{y}<extra></extra>\",\"legendgroup\":\"muskmelon\",\"marker\":{\"color\":\"#FFA15A\",\"symbol\":\"cross\"},\"mode\":\"markers\",\"name\":\"muskmelon\",\"orientation\":\"v\",\"showlegend\":true,\"x\":[27.57826922,27.82054812,29.09910406,28.04943594,29.91690582,29.86895762,29.17220859,29.24908541,27.76317235,28.82629037,28.52379742,29.06785065,29.08417927,28.47090661,28.27973674,28.47212559,29.68846716,27.02415146,29.09588297,29.69238699,28.20619412,29.05248036,29.57240298,29.10968327,28.20480805,29.11858526,29.62800691,29.81196601,27.72338349,29.26092798,29.72791119,28.91105641,28.96361426,28.59052369,27.33897716,29.90415889,27.42711692,29.55657523,29.84070774,28.53545677,27.11535046,27.84492803,29.03157242,27.82424457,27.72653142,28.69708334,29.73019662,29.54097171,28.80311922,27.29035669,27.46583649,29.49401389,27.79161808,29.12533739,27.93114233,29.45771748,27.96872279,29.48882958,29.47156259,27.076726500000003,27.30008597,29.82729394,29.93061247,29.94349168,28.03306461,29.8843055,27.7058373,29.78714005,28.57819995,29.48069921,27.51492243,28.05457761,29.03167341,28.5854649,27.08808014,27.99611732,27.87317436,28.96586565,28.87726019,29.17052093,29.34033587,29.07265321,28.68275966,28.92705913,27.99901833,27.59350075,29.87331077,28.55852465,29.19378695,27.98780984,28.05380704,27.350629600000005,29.34081108,28.61475136,27.04863538,29.5275305,28.50416396,28.89578588,27.04927452,28.96017885],\"xaxis\":\"x\",\"y\":[94.11878202,93.03555162,94.22237826,90.83130708,94.55695552,93.25103208,92.21405224,90.06998135,90.35567642,94.26765349,92.09688432,90.97685539,90.73891887,94.79453182,90.38971208,91.21322065,94.30111601,91.66737633,94.16748386,92.58862544,92.86798698,93.92217834,93.61870344,92.43510994,92.91440379,92.12543021,90.10051615,90.36881284,90.93897939,92.92367701,94.29753295,90.78413842,93.88482153,91.33617236,90.69759008,90.75284363,90.02696201,90.70937262,93.76312893,91.72742702,94.86907886,91.60666594,91.82172592,90.56698742,92.00687531,94.30759855,90.97015715,92.91778307,91.78336933,90.53330091,94.87679041,94.72981338,92.51054946,91.52291141,93.56161439,92.12534736,92.17444796,91.07574233,90.77069618,90.14362622,90.80015308,90.79007335,93.22980899,93.90741192,91.47355778,94.0371147,92.91185695,94.65343534,92.86597437,90.33698678,94.96218673,94.81637388,93.12603235,91.89216849,93.42402083,90.84660317,91.14849627,90.71832938,92.48839665,94.19790371,90.01506395,91.91533173,92.50969311,91.39356832,91.64193051,91.79742953,90.60932469,90.45773041,91.46241065,92.78226196,91.81758779,94.29119509999998,94.5513539,94.22253035,91.34685096,94.57459443,93.46806467,94.78993038,91.3821731,91.69532178],\"yaxis\":\"y\",\"type\":\"scatter\"},{\"hovertemplate\":\"label=apple<br>temperature=%{x}<br>humidity=%{y}<extra></extra>\",\"legendgroup\":\"apple\",\"marker\":{\"color\":\"#19d3f3\",\"symbol\":\"circle\"},\"mode\":\"markers\",\"name\":\"apple\",\"orientation\":\"v\",\"showlegend\":true,\"x\":[22.75088787,23.8494014,22.60800988,21.18667419,23.41044706,22.86006627,22.48403042,22.02775403,21.91191314,23.71059131,21.37784654,22.84852833,23.1094265,23.25230817,23.67287749,23.76881552,23.34386401,22.63946441,22.45696744,22.96388477,21.07273439,22.44075021,22.71271308,21.70416965,22.43324518,21.25941052,22.9215706,22.81212536,21.12152071,21.11478672,23.59997268,23.12652652,22.98458907,22.12659387,22.53779727,22.49095104,22.35548159,22.20700989,22.44516988,22.76643029,22.19109412,23.6119202,23.86087054,21.42177231,22.36629253,23.99686172,21.80129837,23.80436344,23.71475278,23.34467359,22.31253665,23.50201428,23.46260321,23.06204373,22.47420512,22.69780133,23.66682067,22.50050273,23.83053666,23.64142354,21.41363812,22.85267372,22.98208095,21.19909519,23.87192332,21.0365275,22.61711614,21.45278675,22.81227579,21.98141856,22.52709326,22.35628673,21.19852186,23.8812458,22.78234161,22.19055385,22.91430043,23.08950736,21.72484506,22.44307715,21.1316077,22.71750705,23.75033085,23.76121837,22.13450646,21.17089176,22.36238282,22.77856513,21.22503442,23.15791104,22.42776057,23.64082979,22.29423493,23.35225078,22.03911546,23.80593812,22.31944084,22.14464104,23.65167552,22.16939473],\"xaxis\":\"x\",\"y\":[90.69489172,94.34814995,94.58900601,91.13435689,91.69913296,93.12859895,93.40819246,92.96129462,91.68748063,93.27392415,92.72043743,94.32130209,92.79630809,94.54128292,90.4935574,90.59810302,91.47684705,90.18451645,94.76285385,93.58065995,93.56585985,92.70785115,90.45261746,93.44006288,92.48667725,92.84416234,94.89613443,91.51861705,90.6878768,90.31528693,90.97597665,94.71203306,93.3204487,90.97818277,91.48135786,91.70292746,94.47811755,93.50574163,94.73763514,92.12438519,90.02575116,91.70293849,94.92048112,92.62665309,90.78572467,91.61001707,92.73446667,92.80441624,91.53331177,90.37981478,90.03577124,92.21083961,91.45665004,92.39544055,91.22759742,92.82223419,93.90191078,92.45878335,90.84422164,93.74461474,92.99124545,94.57645809999998,93.84505029,90.80819418,90.49939035,94.33919546,93.51978375,90.74531921,92.12992101,91.12719303,92.54780429,91.92360477,92.15595143,93.45067555,94.36803516,92.43764169,90.70475565,90.22507299,92.83975602,91.59234006,91.95769858,92.25479855,92.88160462,93.661643,94.67695747,90.23730166,91.15761594,92.70124029,90.09877774,90.34396882,93.91722423,90.95257927,90.69033986,90.90054697,94.58075845,92.48879468,90.85174383,93.82567435,94.50528753,90.27185592],\"yaxis\":\"y\",\"type\":\"scatter\"},{\"hovertemplate\":\"label=orange<br>temperature=%{x}<br>humidity=%{y}<extra></extra>\",\"legendgroup\":\"orange\",\"marker\":{\"color\":\"#FF6692\",\"symbol\":\"diamond\"},\"mode\":\"markers\",\"name\":\"orange\",\"orientation\":\"v\",\"showlegend\":true,\"x\":[15.78144173,26.03097313,13.36050601,18.87957654,29.47741671,28.06903173,25.66901098,29.77149434,30.55472573,23.96147583,23.98289638,25.26052689,31.08368929,14.78003032,26.56608303,24.85903405,34.51465139,24.12188673,23.85340379,24.60297538,15.63211033,19.33516809,28.2620488,22.67594476,21.03200078,33.23453301,22.30318989,11.50322938,14.34320488,33.105698100000005,30.49183837,30.25578031,12.22816189,10.01081312,22.79196751,20.18432263,30.72119881,24.35590861,21.21306973,10.78689755,11.89925671,22.56664172,18.86883219,17.34083741,34.90665289,24.53610067,13.8377282,22.3551049,34.74004942,11.54785707,23.13338811,29.98364695,20.87947369,17.24944623,15.83388699,23.01014302,16.39624284,24.45132792,31.87859192,31.34920143,18.05142392,30.84835031,22.45616931,13.70319166,20.48954522,13.20844373,32.31944397,20.68185224,31.52675982,25.35467646,17.66545409,12.59093977,11.86631922,11.03367937,25.2990432,32.23797837,17.68408797,10.2708877,17.22034507,19.667056,10.35609594,27.255435,34.591784600000004,32.39523995,10.16431299,21.49118657,16.53460397,31.852069399999998,28.04799508,31.75048899,29.07412717,19.14381903,16.14820285,34.05296914,34.51423957,32.71748548,25.16296632,27.68167318,21.35093384,11.69894639],\"xaxis\":\"x\",\"y\":[92.51077745,91.50819306,91.35608208,92.04304496,91.57802915,92.91487288,92.04670813,92.00719952,90.90343769,90.26408017,91.5473145,90.31153735,90.14362642,91.22062116,94.45239715,94.39000473,93.63812684,90.72351622,90.10522549,91.28408653,94.25966183,91.97978938,91.98317355,93.36348717,92.9641969,91.06053924,92.15987039,94.8933184,94.35734702,93.48447453,90.4582865,92.03272799,90.26457428,90.22399223,90.60901895,90.65458473,94.01331956,92.39651663,91.35349216,91.38411917,91.34663797,93.37488907,93.24688124,93.04897191,92.87820148,91.90997228,91.74780462,93.52211892,93.12316972,94.14861001,91.94670335,94.55239717,90.93756231,91.13772765,91.68293851,91.11764246,92.18151927,93.10527686,91.15248149,91.48247612,90.03969587,92.86773675,91.52781832,90.95589386,93.72485075,94.02769434,93.67804556,90.91510525,90.50621806,91.81183218,91.69865887,91.81668769,93.68394562,92.22706805,94.96419851,90.15406807,94.35815354,90.19147747,94.78797376,90.50096668,93.75652041,91.71369387,92.13229786,94.51768464,91.22320999,93.43949693,94.76759975,90.12220323,90.00621688,94.59551226,93.27189064,90.71037456,91.4448027,92.05811721,90.56151463,90.54608254,92.54736032,94.47316879,90.9492967,93.25638873],\"yaxis\":\"y\",\"type\":\"scatter\"},{\"hovertemplate\":\"label=papaya<br>temperature=%{x}<br>humidity=%{y}<extra></extra>\",\"legendgroup\":\"papaya\",\"marker\":{\"color\":\"#B6E880\",\"symbol\":\"square\"},\"mode\":\"markers\",\"name\":\"papaya\",\"orientation\":\"v\",\"showlegend\":true,\"x\":[35.21462816,42.39413392,38.4191628,35.33294932,42.92325255,33.83508569,33.20258348,23.48546973,29.33710543,40.21199348,42.13473976,32.86316618,29.80744318,31.56213762,36.32268069,37.13165026,38.4418717,32.66160599,27.92765919,39.01793345,32.51247398,38.72382798,43.30204933,27.58548913,40.78881819,23.19451074,32.68067385,34.28879307,39.30050027,39.73149053,39.23342464,27.34734861,40.76998685,26.26559543,28.12971499,34.2804607,33.7960155,31.53243779,42.30495821,24.63676897,28.28222883,24.48620746,42.84609252,43.67549305,42.07213781,33.46873719,31.7018373,41.41968393,42.54744013,28.91842453,43.08022702,29.20300896,41.04224355,25.62446619,35.32876402,24.42561272,31.18298415,31.88342554,42.93368602,23.11407669,24.87212063,43.36051537,26.83054058,30.42012134,28.64555584,32.50037548,43.03714283,30.10773379,23.69212243,35.67667332,27.71948962,35.26824831,23.16855863,33.08706051,37.4620912,38.73218907,32.57720726,38.38231475,42.93605359,25.65492304,37.58899717,29.60718808,25.34756111,25.9300384,32.76795887,29.02328049,40.00439101,33.32315744,31.22790131,26.68386496,24.70528368,38.2016825,36.56769731,26.05375792,31.29986342,40.10207731,38.58954491,41.31330062,37.03551903,23.012401800000006],\"xaxis\":\"x\",\"y\":[91.49725058,90.79028064,91.14220381,92.11508608,90.07600528,92.85470152,92.76437927,93.71043692,90.81781439,94.50766912,91.70445386,91.4618874,91.38048469,93.0484859,93.06134398,94.60761797,93.63739039,90.78931681,91.55594211,91.48815629,94.65904123,91.72514851,92.83405443,90.72526502,92.90951393,91.40301608,92.61715632,93.61082872,94.16193416,91.12220596,91.25589286,94.17756725,92.09278584,90.79668055,93.3210737,90.55561637,93.00754254,90.87394933,90.51431779,90.61964344,91.37059792,92.98254537,94.63548176,93.10887229,92.92203105,92.12746225,91.66232213,90.03863107,94.94482086,94.63676767,93.90305729,93.96834049,91.37258067,93.18240298,91.06138506,92.27749066,90.21646909,91.3256535,91.1756748,94.31994776,93.90560147,93.35191636,90.75379971,93.12659793,93.22642604,93.47888842,94.6428898,90.34546355,93.61055571,93.30641944,94.43877142,92.38282957,90.78821158,92.25197542,90.44967809,94.73613484,92.74889453,93.10378595,90.09448142,92.74501561,91.99740365,93.15642801,93.02871078,93.02357765,94.57377401,90.20396783,90.17015833,91.25271223,94.94021378,92.9585411,90.14732171,93.97379963,93.79503425,93.69111672,92.76039164,94.35110201,91.58076549,91.1508798,91.79430166,91.07355541],\"yaxis\":\"y\",\"type\":\"scatter\"},{\"hovertemplate\":\"label=coconut<br>temperature=%{x}<br>humidity=%{y}<extra></extra>\",\"legendgroup\":\"coconut\",\"marker\":{\"color\":\"#FF97FF\",\"symbol\":\"x\"},\"mode\":\"markers\",\"name\":\"coconut\",\"orientation\":\"v\",\"showlegend\":true,\"x\":[26.762749300000007,25.61294367,28.130115000000004,25.02887163,27.79797651,29.25902906,27.10134661,25.84726298,26.58580443,28.38503882,28.43647052,28.27298134,27.00648436,27.63551259,26.29644905,27.1326009,25.56567803,25.94951662,28.03380598,29.12859129,27.0828252,28.11321494,27.5136304,27.63834933,29.01256899,26.58413917,28.28905147,28.69164799,29.70931288,27.14865285,29.28725038,25.06871967,26.92449525,28.27804288,29.18032562,28.3575072,29.38072512,25.39241091,26.31270635,29.52501367,28.83214859,28.48444906,28.74013335,25.00872392,29.8690834,27.54273211,26.52166434,25.03512351,29.20394909,27.05826457,26.18552389,27.59376845,25.76011662,28.87862994,26.50908611,26.87037587,27.57283516,28.05912437,29.51611558,28.96318258,25.09897688,27.1872282,29.03065024,27.754298,27.31155708,28.84270971,26.61423461,29.70143197,25.54759871,26.37978453,27.45907759,27.02269204,28.98545306,26.1055118,25.0707247,25.54963273,28.56973521,26.07010807,25.51791333,25.9490364,28.2974764,29.56549169,29.69952329,26.14162144,26.00175125,27.15116142,28.97318719,26.13958446,25.51618488,27.55821802,27.81132822,25.60033702,26.91641934,29.1797902,26.44600063,28.43572863,28.94099669,26.45488737,25.79490531,26.93141945],\"xaxis\":\"x\",\"y\":[92.86056895,94.3138837,95.64807631,91.53720922,99.64573002,95.11294697,93.69979946,90.92669463,90.98617591,99.18843684,91.81320717,96.93649473,96.46168931,99.34854917,99.65809151,95.23797989,97.61361544,93.40548703,95.01630593,91.30924833,97.00155491,90.01734526,94.18955816,95.48763389,94.01014388,95.78923137,97.00396405,96.65248672,96.30484325,96.66355213,91.95614918,93.31410447,91.20106019,93.64761266,92.73041222,91.64509299,93.27565685,98.08951196,98.62048026,91.91185319,92.17170353,97.76865458,93.39676499,95.59224018,91.14723422,94.59086121,98.38227669,95.89739958,95.66997327,91.10510371,96.96637916,92.48519606,94.65830608,95.11320315,94.48414544,91.72546257,94.90485697,98.3670985,92.56492864,95.16333673,92.36099489,92.19906776,90.79093862,95.94643831,99.96906006,99.64328526,96.97300803,95.65754365,91.64194826,91.49882979,92.90736493,95.71935435,90.73966792,91.52421214,95.02156793,96.92786777,95.67906668,96.7036223,94.38420565,94.73860514,95.41122824,91.40896307,95.21224392,93.28415295,94.79998418,91.48889469,98.09861043,96.38580769,94.33465411,99.98187601,97.48410555,99.7240104,99.84671638,90.27214288,98.29937782,95.8840407,93.00109012,93.45042636,93.84150618,98.80313612],\"yaxis\":\"y\",\"type\":\"scatter\"}],                        {\"template\":{\"data\":{\"bar\":[{\"error_x\":{\"color\":\"#2a3f5f\"},\"error_y\":{\"color\":\"#2a3f5f\"},\"marker\":{\"line\":{\"color\":\"#E5ECF6\",\"width\":0.5},\"pattern\":{\"fillmode\":\"overlay\",\"size\":10,\"solidity\":0.2}},\"type\":\"bar\"}],\"barpolar\":[{\"marker\":{\"line\":{\"color\":\"#E5ECF6\",\"width\":0.5},\"pattern\":{\"fillmode\":\"overlay\",\"size\":10,\"solidity\":0.2}},\"type\":\"barpolar\"}],\"carpet\":[{\"aaxis\":{\"endlinecolor\":\"#2a3f5f\",\"gridcolor\":\"white\",\"linecolor\":\"white\",\"minorgridcolor\":\"white\",\"startlinecolor\":\"#2a3f5f\"},\"baxis\":{\"endlinecolor\":\"#2a3f5f\",\"gridcolor\":\"white\",\"linecolor\":\"white\",\"minorgridcolor\":\"white\",\"startlinecolor\":\"#2a3f5f\"},\"type\":\"carpet\"}],\"choropleth\":[{\"colorbar\":{\"outlinewidth\":0,\"ticks\":\"\"},\"type\":\"choropleth\"}],\"contour\":[{\"colorbar\":{\"outlinewidth\":0,\"ticks\":\"\"},\"colorscale\":[[0.0,\"#0d0887\"],[0.1111111111111111,\"#46039f\"],[0.2222222222222222,\"#7201a8\"],[0.3333333333333333,\"#9c179e\"],[0.4444444444444444,\"#bd3786\"],[0.5555555555555556,\"#d8576b\"],[0.6666666666666666,\"#ed7953\"],[0.7777777777777778,\"#fb9f3a\"],[0.8888888888888888,\"#fdca26\"],[1.0,\"#f0f921\"]],\"type\":\"contour\"}],\"contourcarpet\":[{\"colorbar\":{\"outlinewidth\":0,\"ticks\":\"\"},\"type\":\"contourcarpet\"}],\"heatmap\":[{\"colorbar\":{\"outlinewidth\":0,\"ticks\":\"\"},\"colorscale\":[[0.0,\"#0d0887\"],[0.1111111111111111,\"#46039f\"],[0.2222222222222222,\"#7201a8\"],[0.3333333333333333,\"#9c179e\"],[0.4444444444444444,\"#bd3786\"],[0.5555555555555556,\"#d8576b\"],[0.6666666666666666,\"#ed7953\"],[0.7777777777777778,\"#fb9f3a\"],[0.8888888888888888,\"#fdca26\"],[1.0,\"#f0f921\"]],\"type\":\"heatmap\"}],\"heatmapgl\":[{\"colorbar\":{\"outlinewidth\":0,\"ticks\":\"\"},\"colorscale\":[[0.0,\"#0d0887\"],[0.1111111111111111,\"#46039f\"],[0.2222222222222222,\"#7201a8\"],[0.3333333333333333,\"#9c179e\"],[0.4444444444444444,\"#bd3786\"],[0.5555555555555556,\"#d8576b\"],[0.6666666666666666,\"#ed7953\"],[0.7777777777777778,\"#fb9f3a\"],[0.8888888888888888,\"#fdca26\"],[1.0,\"#f0f921\"]],\"type\":\"heatmapgl\"}],\"histogram\":[{\"marker\":{\"pattern\":{\"fillmode\":\"overlay\",\"size\":10,\"solidity\":0.2}},\"type\":\"histogram\"}],\"histogram2d\":[{\"colorbar\":{\"outlinewidth\":0,\"ticks\":\"\"},\"colorscale\":[[0.0,\"#0d0887\"],[0.1111111111111111,\"#46039f\"],[0.2222222222222222,\"#7201a8\"],[0.3333333333333333,\"#9c179e\"],[0.4444444444444444,\"#bd3786\"],[0.5555555555555556,\"#d8576b\"],[0.6666666666666666,\"#ed7953\"],[0.7777777777777778,\"#fb9f3a\"],[0.8888888888888888,\"#fdca26\"],[1.0,\"#f0f921\"]],\"type\":\"histogram2d\"}],\"histogram2dcontour\":[{\"colorbar\":{\"outlinewidth\":0,\"ticks\":\"\"},\"colorscale\":[[0.0,\"#0d0887\"],[0.1111111111111111,\"#46039f\"],[0.2222222222222222,\"#7201a8\"],[0.3333333333333333,\"#9c179e\"],[0.4444444444444444,\"#bd3786\"],[0.5555555555555556,\"#d8576b\"],[0.6666666666666666,\"#ed7953\"],[0.7777777777777778,\"#fb9f3a\"],[0.8888888888888888,\"#fdca26\"],[1.0,\"#f0f921\"]],\"type\":\"histogram2dcontour\"}],\"mesh3d\":[{\"colorbar\":{\"outlinewidth\":0,\"ticks\":\"\"},\"type\":\"mesh3d\"}],\"parcoords\":[{\"line\":{\"colorbar\":{\"outlinewidth\":0,\"ticks\":\"\"}},\"type\":\"parcoords\"}],\"pie\":[{\"automargin\":true,\"type\":\"pie\"}],\"scatter\":[{\"marker\":{\"colorbar\":{\"outlinewidth\":0,\"ticks\":\"\"}},\"type\":\"scatter\"}],\"scatter3d\":[{\"line\":{\"colorbar\":{\"outlinewidth\":0,\"ticks\":\"\"}},\"marker\":{\"colorbar\":{\"outlinewidth\":0,\"ticks\":\"\"}},\"type\":\"scatter3d\"}],\"scattercarpet\":[{\"marker\":{\"colorbar\":{\"outlinewidth\":0,\"ticks\":\"\"}},\"type\":\"scattercarpet\"}],\"scattergeo\":[{\"marker\":{\"colorbar\":{\"outlinewidth\":0,\"ticks\":\"\"}},\"type\":\"scattergeo\"}],\"scattergl\":[{\"marker\":{\"colorbar\":{\"outlinewidth\":0,\"ticks\":\"\"}},\"type\":\"scattergl\"}],\"scattermapbox\":[{\"marker\":{\"colorbar\":{\"outlinewidth\":0,\"ticks\":\"\"}},\"type\":\"scattermapbox\"}],\"scatterpolar\":[{\"marker\":{\"colorbar\":{\"outlinewidth\":0,\"ticks\":\"\"}},\"type\":\"scatterpolar\"}],\"scatterpolargl\":[{\"marker\":{\"colorbar\":{\"outlinewidth\":0,\"ticks\":\"\"}},\"type\":\"scatterpolargl\"}],\"scatterternary\":[{\"marker\":{\"colorbar\":{\"outlinewidth\":0,\"ticks\":\"\"}},\"type\":\"scatterternary\"}],\"surface\":[{\"colorbar\":{\"outlinewidth\":0,\"ticks\":\"\"},\"colorscale\":[[0.0,\"#0d0887\"],[0.1111111111111111,\"#46039f\"],[0.2222222222222222,\"#7201a8\"],[0.3333333333333333,\"#9c179e\"],[0.4444444444444444,\"#bd3786\"],[0.5555555555555556,\"#d8576b\"],[0.6666666666666666,\"#ed7953\"],[0.7777777777777778,\"#fb9f3a\"],[0.8888888888888888,\"#fdca26\"],[1.0,\"#f0f921\"]],\"type\":\"surface\"}],\"table\":[{\"cells\":{\"fill\":{\"color\":\"#EBF0F8\"},\"line\":{\"color\":\"white\"}},\"header\":{\"fill\":{\"color\":\"#C8D4E3\"},\"line\":{\"color\":\"white\"}},\"type\":\"table\"}]},\"layout\":{\"annotationdefaults\":{\"arrowcolor\":\"#2a3f5f\",\"arrowhead\":0,\"arrowwidth\":1},\"autotypenumbers\":\"strict\",\"coloraxis\":{\"colorbar\":{\"outlinewidth\":0,\"ticks\":\"\"}},\"colorscale\":{\"diverging\":[[0,\"#8e0152\"],[0.1,\"#c51b7d\"],[0.2,\"#de77ae\"],[0.3,\"#f1b6da\"],[0.4,\"#fde0ef\"],[0.5,\"#f7f7f7\"],[0.6,\"#e6f5d0\"],[0.7,\"#b8e186\"],[0.8,\"#7fbc41\"],[0.9,\"#4d9221\"],[1,\"#276419\"]],\"sequential\":[[0.0,\"#0d0887\"],[0.1111111111111111,\"#46039f\"],[0.2222222222222222,\"#7201a8\"],[0.3333333333333333,\"#9c179e\"],[0.4444444444444444,\"#bd3786\"],[0.5555555555555556,\"#d8576b\"],[0.6666666666666666,\"#ed7953\"],[0.7777777777777778,\"#fb9f3a\"],[0.8888888888888888,\"#fdca26\"],[1.0,\"#f0f921\"]],\"sequentialminus\":[[0.0,\"#0d0887\"],[0.1111111111111111,\"#46039f\"],[0.2222222222222222,\"#7201a8\"],[0.3333333333333333,\"#9c179e\"],[0.4444444444444444,\"#bd3786\"],[0.5555555555555556,\"#d8576b\"],[0.6666666666666666,\"#ed7953\"],[0.7777777777777778,\"#fb9f3a\"],[0.8888888888888888,\"#fdca26\"],[1.0,\"#f0f921\"]]},\"colorway\":[\"#636efa\",\"#EF553B\",\"#00cc96\",\"#ab63fa\",\"#FFA15A\",\"#19d3f3\",\"#FF6692\",\"#B6E880\",\"#FF97FF\",\"#FECB52\"],\"font\":{\"color\":\"#2a3f5f\"},\"geo\":{\"bgcolor\":\"white\",\"lakecolor\":\"white\",\"landcolor\":\"#E5ECF6\",\"showlakes\":true,\"showland\":true,\"subunitcolor\":\"white\"},\"hoverlabel\":{\"align\":\"left\"},\"hovermode\":\"closest\",\"mapbox\":{\"style\":\"light\"},\"paper_bgcolor\":\"white\",\"plot_bgcolor\":\"#E5ECF6\",\"polar\":{\"angularaxis\":{\"gridcolor\":\"white\",\"linecolor\":\"white\",\"ticks\":\"\"},\"bgcolor\":\"#E5ECF6\",\"radialaxis\":{\"gridcolor\":\"white\",\"linecolor\":\"white\",\"ticks\":\"\"}},\"scene\":{\"xaxis\":{\"backgroundcolor\":\"#E5ECF6\",\"gridcolor\":\"white\",\"gridwidth\":2,\"linecolor\":\"white\",\"showbackground\":true,\"ticks\":\"\",\"zerolinecolor\":\"white\"},\"yaxis\":{\"backgroundcolor\":\"#E5ECF6\",\"gridcolor\":\"white\",\"gridwidth\":2,\"linecolor\":\"white\",\"showbackground\":true,\"ticks\":\"\",\"zerolinecolor\":\"white\"},\"zaxis\":{\"backgroundcolor\":\"#E5ECF6\",\"gridcolor\":\"white\",\"gridwidth\":2,\"linecolor\":\"white\",\"showbackground\":true,\"ticks\":\"\",\"zerolinecolor\":\"white\"}},\"shapedefaults\":{\"line\":{\"color\":\"#2a3f5f\"}},\"ternary\":{\"aaxis\":{\"gridcolor\":\"white\",\"linecolor\":\"white\",\"ticks\":\"\"},\"baxis\":{\"gridcolor\":\"white\",\"linecolor\":\"white\",\"ticks\":\"\"},\"bgcolor\":\"#E5ECF6\",\"caxis\":{\"gridcolor\":\"white\",\"linecolor\":\"white\",\"ticks\":\"\"}},\"title\":{\"x\":0.05},\"xaxis\":{\"automargin\":true,\"gridcolor\":\"white\",\"linecolor\":\"white\",\"ticks\":\"\",\"title\":{\"standoff\":15},\"zerolinecolor\":\"white\",\"zerolinewidth\":2},\"yaxis\":{\"automargin\":true,\"gridcolor\":\"white\",\"linecolor\":\"white\",\"ticks\":\"\",\"title\":{\"standoff\":15},\"zerolinecolor\":\"white\",\"zerolinewidth\":2}}},\"xaxis\":{\"anchor\":\"y\",\"domain\":[0.0,1.0],\"title\":{\"text\":\"temperature\"},\"showgrid\":false},\"yaxis\":{\"anchor\":\"x\",\"domain\":[0.0,1.0],\"title\":{\"text\":\"humidity\"},\"showgrid\":false},\"legend\":{\"title\":{\"text\":\"label\"},\"tracegroupgap\":0},\"margin\":{\"t\":60},\"plot_bgcolor\":\"white\"},                        {\"responsive\": true}                    ).then(function(){\n",
       "                            \n",
       "var gd = document.getElementById('222882f7-5629-44a2-aa88-0951b91790cf');\n",
       "var x = new MutationObserver(function (mutations, observer) {{\n",
       "        var display = window.getComputedStyle(gd).display;\n",
       "        if (!display || display === 'none') {{\n",
       "            console.log([gd, 'removed!']);\n",
       "            Plotly.purge(gd);\n",
       "            observer.disconnect();\n",
       "        }}\n",
       "}});\n",
       "\n",
       "// Listen for the removal of the full notebook cells\n",
       "var notebookContainer = gd.closest('#notebook-container');\n",
       "if (notebookContainer) {{\n",
       "    x.observe(notebookContainer, {childList: true});\n",
       "}}\n",
       "\n",
       "// Listen for the clearing of the current output cell\n",
       "var outputEl = gd.closest('.output');\n",
       "if (outputEl) {{\n",
       "    x.observe(outputEl, {childList: true});\n",
       "}}\n",
       "\n",
       "                        })                };                });            </script>        </div>"
      ]
     },
     "metadata": {},
     "output_type": "display_data"
    }
   ],
   "source": [
    "#Scatter plot on few crops\n",
    "scatter_crop = cropdata[(cropdata['label']=='muskmelon') | \n",
    "                        (cropdata['label']=='watermelon') | \n",
    "                        (cropdata['label']=='pomegranate') |\n",
    "                        (cropdata['label']=='papaya') |\n",
    "                        (cropdata['label']=='coconut')|\n",
    "                        (cropdata['label']=='mango') |\n",
    "                        (cropdata['label']=='orange') |\n",
    "                        (cropdata['label']=='grapes') |\n",
    "                        (cropdata['label']=='bannana') |\n",
    "                        (cropdata['label']=='apple') ]\n",
    "\n",
    "figure = px.scatter(scatter_crop, x=\"temperature\", y=\"humidity\", color=\"label\", symbol=\"label\")\n",
    "figure.update_layout(plot_bgcolor='white')\n",
    "figure.update_xaxes(showgrid=False)\n",
    "figure.update_yaxes(showgrid=False)\n",
    "\n"
   ]
  },
  {
   "cell_type": "code",
   "execution_count": 325,
   "id": "995e987d",
   "metadata": {},
   "outputs": [
    {
     "data": {
      "application/vnd.plotly.v1+json": {
       "config": {
        "plotlyServerURL": "https://plot.ly"
       },
       "data": [
        {
         "alignmentgroup": "True",
         "hovertemplate": "variable=humidity<br>label=%{x}<br>value=%{y}<extra></extra>",
         "legendgroup": "humidity",
         "marker": {
          "color": "#636efa",
          "pattern": {
           "shape": ""
          }
         },
         "name": "humidity",
         "offsetgroup": "humidity",
         "orientation": "v",
         "showlegend": true,
         "textposition": "auto",
         "type": "bar",
         "x": [
          "apple",
          "banana",
          "blackgram",
          "chickpea",
          "coconut",
          "coffee",
          "cotton",
          "grapes",
          "jute",
          "kidneybeans",
          "lentil",
          "maize",
          "mango",
          "mothbeans",
          "mungbean",
          "muskmelon",
          "orange",
          "papaya",
          "pigeonpeas",
          "pomegranate",
          "rice",
          "watermelon"
         ],
         "xaxis": "x",
         "y": [
          92.33338287560004,
          80.35812258109999,
          65.11842558870002,
          16.8604394237,
          94.84427180609998,
          58.869846300299976,
          79.84347425379998,
          81.87522752119999,
          79.6398642063,
          21.60535672949999,
          64.80478467849998,
          65.09224944670001,
          50.156572695300035,
          53.160418027900015,
          85.49997454300001,
          92.34280196090002,
          92.17020876340004,
          92.40338768259998,
          48.06163308470001,
          90.12550378949999,
          82.2728215389,
          85.16037529360001
         ],
         "yaxis": "y"
        },
        {
         "alignmentgroup": "True",
         "hovertemplate": "variable=temperature<br>label=%{x}<br>value=%{y}<extra></extra>",
         "legendgroup": "temperature",
         "marker": {
          "color": "#EF553B",
          "pattern": {
           "shape": ""
          }
         },
         "name": "temperature",
         "offsetgroup": "temperature",
         "orientation": "v",
         "showlegend": true,
         "textposition": "auto",
         "type": "bar",
         "x": [
          "apple",
          "banana",
          "blackgram",
          "chickpea",
          "coconut",
          "coffee",
          "cotton",
          "grapes",
          "jute",
          "kidneybeans",
          "lentil",
          "maize",
          "mango",
          "mothbeans",
          "mungbean",
          "muskmelon",
          "orange",
          "papaya",
          "pigeonpeas",
          "pomegranate",
          "rice",
          "watermelon"
         ],
         "xaxis": "x",
         "y": [
          22.6309424132,
          27.3767983057,
          29.97333967889999,
          18.872846751900003,
          27.409892172299998,
          25.540476819299997,
          23.988957895200016,
          23.849575120050005,
          24.9583758265,
          20.115084685100005,
          24.50905240260001,
          22.389203910200003,
          31.208770151299987,
          28.194920484199987,
          28.525774735299997,
          28.663065755999995,
          22.765725496699996,
          33.7238587388,
          27.741762225899997,
          21.837841722000004,
          23.689332210500005,
          25.591767237500004
         ],
         "yaxis": "y"
        },
        {
         "alignmentgroup": "True",
         "hovertemplate": "variable=rainfall<br>label=%{x}<br>value=%{y}<extra></extra>",
         "legendgroup": "rainfall",
         "marker": {
          "color": "#00cc96",
          "pattern": {
           "shape": ""
          }
         },
         "name": "rainfall",
         "offsetgroup": "rainfall",
         "orientation": "v",
         "showlegend": true,
         "textposition": "auto",
         "type": "bar",
         "x": [
          "apple",
          "banana",
          "blackgram",
          "chickpea",
          "coconut",
          "coffee",
          "cotton",
          "grapes",
          "jute",
          "kidneybeans",
          "lentil",
          "maize",
          "mango",
          "mothbeans",
          "mungbean",
          "muskmelon",
          "orange",
          "papaya",
          "pigeonpeas",
          "pomegranate",
          "rice",
          "watermelon"
         ],
         "xaxis": "x",
         "y": [
          112.65477927500005,
          104.62698040009998,
          67.88415118319999,
          80.0589772605,
          175.68664580400008,
          158.06629488199994,
          80.39804311930001,
          69.61182888600003,
          174.792797536,
          105.91977754210005,
          45.68045420399998,
          84.766987663,
          94.70451504479996,
          51.198487045700006,
          48.40360090290002,
          24.689952066000004,
          110.47496871999998,
          142.62783886290003,
          149.45756381350003,
          107.52844239700002,
          236.1811135939999,
          50.786218944900014
         ],
         "yaxis": "y"
        },
        {
         "alignmentgroup": "True",
         "hovertemplate": "variable=ph<br>label=%{x}<br>value=%{y}<extra></extra>",
         "legendgroup": "ph",
         "marker": {
          "color": "#ab63fa",
          "pattern": {
           "shape": ""
          }
         },
         "name": "ph",
         "offsetgroup": "ph",
         "orientation": "v",
         "showlegend": true,
         "textposition": "auto",
         "type": "bar",
         "x": [
          "apple",
          "banana",
          "blackgram",
          "chickpea",
          "coconut",
          "coffee",
          "cotton",
          "grapes",
          "jute",
          "kidneybeans",
          "lentil",
          "maize",
          "mango",
          "mothbeans",
          "mungbean",
          "muskmelon",
          "orange",
          "papaya",
          "pigeonpeas",
          "pomegranate",
          "rice",
          "watermelon"
         ],
         "xaxis": "x",
         "y": [
          5.9296629318099985,
          5.983893180240001,
          7.1339516294799985,
          7.33695662374,
          5.976562126190004,
          6.790308274570002,
          6.91267549578,
          6.025936681100002,
          6.732777568170002,
          5.749410585869998,
          6.927931571609998,
          6.245189722399997,
          5.766372799660001,
          6.8311740826900005,
          6.723956940370001,
          6.358805451790002,
          7.01695745276,
          6.74144237274,
          5.794174879790001,
          6.42917184117,
          6.425470922139999,
          6.49577830157
         ],
         "yaxis": "y"
        }
       ],
       "layout": {
        "barmode": "relative",
        "height": 450,
        "legend": {
         "title": {
          "text": "variable"
         },
         "tracegroupgap": 0
        },
        "margin": {
         "t": 60
        },
        "plot_bgcolor": "white",
        "template": {
         "data": {
          "bar": [
           {
            "error_x": {
             "color": "#2a3f5f"
            },
            "error_y": {
             "color": "#2a3f5f"
            },
            "marker": {
             "line": {
              "color": "#E5ECF6",
              "width": 0.5
             },
             "pattern": {
              "fillmode": "overlay",
              "size": 10,
              "solidity": 0.2
             }
            },
            "type": "bar"
           }
          ],
          "barpolar": [
           {
            "marker": {
             "line": {
              "color": "#E5ECF6",
              "width": 0.5
             },
             "pattern": {
              "fillmode": "overlay",
              "size": 10,
              "solidity": 0.2
             }
            },
            "type": "barpolar"
           }
          ],
          "carpet": [
           {
            "aaxis": {
             "endlinecolor": "#2a3f5f",
             "gridcolor": "white",
             "linecolor": "white",
             "minorgridcolor": "white",
             "startlinecolor": "#2a3f5f"
            },
            "baxis": {
             "endlinecolor": "#2a3f5f",
             "gridcolor": "white",
             "linecolor": "white",
             "minorgridcolor": "white",
             "startlinecolor": "#2a3f5f"
            },
            "type": "carpet"
           }
          ],
          "choropleth": [
           {
            "colorbar": {
             "outlinewidth": 0,
             "ticks": ""
            },
            "type": "choropleth"
           }
          ],
          "contour": [
           {
            "colorbar": {
             "outlinewidth": 0,
             "ticks": ""
            },
            "colorscale": [
             [
              0,
              "#0d0887"
             ],
             [
              0.1111111111111111,
              "#46039f"
             ],
             [
              0.2222222222222222,
              "#7201a8"
             ],
             [
              0.3333333333333333,
              "#9c179e"
             ],
             [
              0.4444444444444444,
              "#bd3786"
             ],
             [
              0.5555555555555556,
              "#d8576b"
             ],
             [
              0.6666666666666666,
              "#ed7953"
             ],
             [
              0.7777777777777778,
              "#fb9f3a"
             ],
             [
              0.8888888888888888,
              "#fdca26"
             ],
             [
              1,
              "#f0f921"
             ]
            ],
            "type": "contour"
           }
          ],
          "contourcarpet": [
           {
            "colorbar": {
             "outlinewidth": 0,
             "ticks": ""
            },
            "type": "contourcarpet"
           }
          ],
          "heatmap": [
           {
            "colorbar": {
             "outlinewidth": 0,
             "ticks": ""
            },
            "colorscale": [
             [
              0,
              "#0d0887"
             ],
             [
              0.1111111111111111,
              "#46039f"
             ],
             [
              0.2222222222222222,
              "#7201a8"
             ],
             [
              0.3333333333333333,
              "#9c179e"
             ],
             [
              0.4444444444444444,
              "#bd3786"
             ],
             [
              0.5555555555555556,
              "#d8576b"
             ],
             [
              0.6666666666666666,
              "#ed7953"
             ],
             [
              0.7777777777777778,
              "#fb9f3a"
             ],
             [
              0.8888888888888888,
              "#fdca26"
             ],
             [
              1,
              "#f0f921"
             ]
            ],
            "type": "heatmap"
           }
          ],
          "heatmapgl": [
           {
            "colorbar": {
             "outlinewidth": 0,
             "ticks": ""
            },
            "colorscale": [
             [
              0,
              "#0d0887"
             ],
             [
              0.1111111111111111,
              "#46039f"
             ],
             [
              0.2222222222222222,
              "#7201a8"
             ],
             [
              0.3333333333333333,
              "#9c179e"
             ],
             [
              0.4444444444444444,
              "#bd3786"
             ],
             [
              0.5555555555555556,
              "#d8576b"
             ],
             [
              0.6666666666666666,
              "#ed7953"
             ],
             [
              0.7777777777777778,
              "#fb9f3a"
             ],
             [
              0.8888888888888888,
              "#fdca26"
             ],
             [
              1,
              "#f0f921"
             ]
            ],
            "type": "heatmapgl"
           }
          ],
          "histogram": [
           {
            "marker": {
             "pattern": {
              "fillmode": "overlay",
              "size": 10,
              "solidity": 0.2
             }
            },
            "type": "histogram"
           }
          ],
          "histogram2d": [
           {
            "colorbar": {
             "outlinewidth": 0,
             "ticks": ""
            },
            "colorscale": [
             [
              0,
              "#0d0887"
             ],
             [
              0.1111111111111111,
              "#46039f"
             ],
             [
              0.2222222222222222,
              "#7201a8"
             ],
             [
              0.3333333333333333,
              "#9c179e"
             ],
             [
              0.4444444444444444,
              "#bd3786"
             ],
             [
              0.5555555555555556,
              "#d8576b"
             ],
             [
              0.6666666666666666,
              "#ed7953"
             ],
             [
              0.7777777777777778,
              "#fb9f3a"
             ],
             [
              0.8888888888888888,
              "#fdca26"
             ],
             [
              1,
              "#f0f921"
             ]
            ],
            "type": "histogram2d"
           }
          ],
          "histogram2dcontour": [
           {
            "colorbar": {
             "outlinewidth": 0,
             "ticks": ""
            },
            "colorscale": [
             [
              0,
              "#0d0887"
             ],
             [
              0.1111111111111111,
              "#46039f"
             ],
             [
              0.2222222222222222,
              "#7201a8"
             ],
             [
              0.3333333333333333,
              "#9c179e"
             ],
             [
              0.4444444444444444,
              "#bd3786"
             ],
             [
              0.5555555555555556,
              "#d8576b"
             ],
             [
              0.6666666666666666,
              "#ed7953"
             ],
             [
              0.7777777777777778,
              "#fb9f3a"
             ],
             [
              0.8888888888888888,
              "#fdca26"
             ],
             [
              1,
              "#f0f921"
             ]
            ],
            "type": "histogram2dcontour"
           }
          ],
          "mesh3d": [
           {
            "colorbar": {
             "outlinewidth": 0,
             "ticks": ""
            },
            "type": "mesh3d"
           }
          ],
          "parcoords": [
           {
            "line": {
             "colorbar": {
              "outlinewidth": 0,
              "ticks": ""
             }
            },
            "type": "parcoords"
           }
          ],
          "pie": [
           {
            "automargin": true,
            "type": "pie"
           }
          ],
          "scatter": [
           {
            "marker": {
             "colorbar": {
              "outlinewidth": 0,
              "ticks": ""
             }
            },
            "type": "scatter"
           }
          ],
          "scatter3d": [
           {
            "line": {
             "colorbar": {
              "outlinewidth": 0,
              "ticks": ""
             }
            },
            "marker": {
             "colorbar": {
              "outlinewidth": 0,
              "ticks": ""
             }
            },
            "type": "scatter3d"
           }
          ],
          "scattercarpet": [
           {
            "marker": {
             "colorbar": {
              "outlinewidth": 0,
              "ticks": ""
             }
            },
            "type": "scattercarpet"
           }
          ],
          "scattergeo": [
           {
            "marker": {
             "colorbar": {
              "outlinewidth": 0,
              "ticks": ""
             }
            },
            "type": "scattergeo"
           }
          ],
          "scattergl": [
           {
            "marker": {
             "colorbar": {
              "outlinewidth": 0,
              "ticks": ""
             }
            },
            "type": "scattergl"
           }
          ],
          "scattermapbox": [
           {
            "marker": {
             "colorbar": {
              "outlinewidth": 0,
              "ticks": ""
             }
            },
            "type": "scattermapbox"
           }
          ],
          "scatterpolar": [
           {
            "marker": {
             "colorbar": {
              "outlinewidth": 0,
              "ticks": ""
             }
            },
            "type": "scatterpolar"
           }
          ],
          "scatterpolargl": [
           {
            "marker": {
             "colorbar": {
              "outlinewidth": 0,
              "ticks": ""
             }
            },
            "type": "scatterpolargl"
           }
          ],
          "scatterternary": [
           {
            "marker": {
             "colorbar": {
              "outlinewidth": 0,
              "ticks": ""
             }
            },
            "type": "scatterternary"
           }
          ],
          "surface": [
           {
            "colorbar": {
             "outlinewidth": 0,
             "ticks": ""
            },
            "colorscale": [
             [
              0,
              "#0d0887"
             ],
             [
              0.1111111111111111,
              "#46039f"
             ],
             [
              0.2222222222222222,
              "#7201a8"
             ],
             [
              0.3333333333333333,
              "#9c179e"
             ],
             [
              0.4444444444444444,
              "#bd3786"
             ],
             [
              0.5555555555555556,
              "#d8576b"
             ],
             [
              0.6666666666666666,
              "#ed7953"
             ],
             [
              0.7777777777777778,
              "#fb9f3a"
             ],
             [
              0.8888888888888888,
              "#fdca26"
             ],
             [
              1,
              "#f0f921"
             ]
            ],
            "type": "surface"
           }
          ],
          "table": [
           {
            "cells": {
             "fill": {
              "color": "#EBF0F8"
             },
             "line": {
              "color": "white"
             }
            },
            "header": {
             "fill": {
              "color": "#C8D4E3"
             },
             "line": {
              "color": "white"
             }
            },
            "type": "table"
           }
          ]
         },
         "layout": {
          "annotationdefaults": {
           "arrowcolor": "#2a3f5f",
           "arrowhead": 0,
           "arrowwidth": 1
          },
          "autotypenumbers": "strict",
          "coloraxis": {
           "colorbar": {
            "outlinewidth": 0,
            "ticks": ""
           }
          },
          "colorscale": {
           "diverging": [
            [
             0,
             "#8e0152"
            ],
            [
             0.1,
             "#c51b7d"
            ],
            [
             0.2,
             "#de77ae"
            ],
            [
             0.3,
             "#f1b6da"
            ],
            [
             0.4,
             "#fde0ef"
            ],
            [
             0.5,
             "#f7f7f7"
            ],
            [
             0.6,
             "#e6f5d0"
            ],
            [
             0.7,
             "#b8e186"
            ],
            [
             0.8,
             "#7fbc41"
            ],
            [
             0.9,
             "#4d9221"
            ],
            [
             1,
             "#276419"
            ]
           ],
           "sequential": [
            [
             0,
             "#0d0887"
            ],
            [
             0.1111111111111111,
             "#46039f"
            ],
            [
             0.2222222222222222,
             "#7201a8"
            ],
            [
             0.3333333333333333,
             "#9c179e"
            ],
            [
             0.4444444444444444,
             "#bd3786"
            ],
            [
             0.5555555555555556,
             "#d8576b"
            ],
            [
             0.6666666666666666,
             "#ed7953"
            ],
            [
             0.7777777777777778,
             "#fb9f3a"
            ],
            [
             0.8888888888888888,
             "#fdca26"
            ],
            [
             1,
             "#f0f921"
            ]
           ],
           "sequentialminus": [
            [
             0,
             "#0d0887"
            ],
            [
             0.1111111111111111,
             "#46039f"
            ],
            [
             0.2222222222222222,
             "#7201a8"
            ],
            [
             0.3333333333333333,
             "#9c179e"
            ],
            [
             0.4444444444444444,
             "#bd3786"
            ],
            [
             0.5555555555555556,
             "#d8576b"
            ],
            [
             0.6666666666666666,
             "#ed7953"
            ],
            [
             0.7777777777777778,
             "#fb9f3a"
            ],
            [
             0.8888888888888888,
             "#fdca26"
            ],
            [
             1,
             "#f0f921"
            ]
           ]
          },
          "colorway": [
           "#636efa",
           "#EF553B",
           "#00cc96",
           "#ab63fa",
           "#FFA15A",
           "#19d3f3",
           "#FF6692",
           "#B6E880",
           "#FF97FF",
           "#FECB52"
          ],
          "font": {
           "color": "#2a3f5f"
          },
          "geo": {
           "bgcolor": "white",
           "lakecolor": "white",
           "landcolor": "#E5ECF6",
           "showlakes": true,
           "showland": true,
           "subunitcolor": "white"
          },
          "hoverlabel": {
           "align": "left"
          },
          "hovermode": "closest",
          "mapbox": {
           "style": "light"
          },
          "paper_bgcolor": "white",
          "plot_bgcolor": "#E5ECF6",
          "polar": {
           "angularaxis": {
            "gridcolor": "white",
            "linecolor": "white",
            "ticks": ""
           },
           "bgcolor": "#E5ECF6",
           "radialaxis": {
            "gridcolor": "white",
            "linecolor": "white",
            "ticks": ""
           }
          },
          "scene": {
           "xaxis": {
            "backgroundcolor": "#E5ECF6",
            "gridcolor": "white",
            "gridwidth": 2,
            "linecolor": "white",
            "showbackground": true,
            "ticks": "",
            "zerolinecolor": "white"
           },
           "yaxis": {
            "backgroundcolor": "#E5ECF6",
            "gridcolor": "white",
            "gridwidth": 2,
            "linecolor": "white",
            "showbackground": true,
            "ticks": "",
            "zerolinecolor": "white"
           },
           "zaxis": {
            "backgroundcolor": "#E5ECF6",
            "gridcolor": "white",
            "gridwidth": 2,
            "linecolor": "white",
            "showbackground": true,
            "ticks": "",
            "zerolinecolor": "white"
           }
          },
          "shapedefaults": {
           "line": {
            "color": "#2a3f5f"
           }
          },
          "ternary": {
           "aaxis": {
            "gridcolor": "white",
            "linecolor": "white",
            "ticks": ""
           },
           "baxis": {
            "gridcolor": "white",
            "linecolor": "white",
            "ticks": ""
           },
           "bgcolor": "#E5ECF6",
           "caxis": {
            "gridcolor": "white",
            "linecolor": "white",
            "ticks": ""
           }
          },
          "title": {
           "x": 0.05
          },
          "xaxis": {
           "automargin": true,
           "gridcolor": "white",
           "linecolor": "white",
           "ticks": "",
           "title": {
            "standoff": 15
           },
           "zerolinecolor": "white",
           "zerolinewidth": 2
          },
          "yaxis": {
           "automargin": true,
           "gridcolor": "white",
           "linecolor": "white",
           "ticks": "",
           "title": {
            "standoff": 15
           },
           "zerolinecolor": "white",
           "zerolinewidth": 2
          }
         }
        },
        "title": {
         "text": "Comparision between humidity, temperature, rainfall and ph "
        },
        "xaxis": {
         "anchor": "y",
         "domain": [
          0,
          1
         ],
         "showgrid": false,
         "title": {
          "text": "label"
         }
        },
        "yaxis": {
         "anchor": "x",
         "domain": [
          0,
          1
         ],
         "showgrid": false,
         "title": {
          "text": "value"
         }
        }
       }
      },
      "text/html": [
       "<div>                            <div id=\"3facfcd6-e55a-47e3-b3d0-922d3c44fd24\" class=\"plotly-graph-div\" style=\"height:450px; width:100%;\"></div>            <script type=\"text/javascript\">                require([\"plotly\"], function(Plotly) {                    window.PLOTLYENV=window.PLOTLYENV || {};                                    if (document.getElementById(\"3facfcd6-e55a-47e3-b3d0-922d3c44fd24\")) {                    Plotly.newPlot(                        \"3facfcd6-e55a-47e3-b3d0-922d3c44fd24\",                        [{\"alignmentgroup\":\"True\",\"hovertemplate\":\"variable=humidity<br>label=%{x}<br>value=%{y}<extra></extra>\",\"legendgroup\":\"humidity\",\"marker\":{\"color\":\"#636efa\",\"pattern\":{\"shape\":\"\"}},\"name\":\"humidity\",\"offsetgroup\":\"humidity\",\"orientation\":\"v\",\"showlegend\":true,\"textposition\":\"auto\",\"x\":[\"apple\",\"banana\",\"blackgram\",\"chickpea\",\"coconut\",\"coffee\",\"cotton\",\"grapes\",\"jute\",\"kidneybeans\",\"lentil\",\"maize\",\"mango\",\"mothbeans\",\"mungbean\",\"muskmelon\",\"orange\",\"papaya\",\"pigeonpeas\",\"pomegranate\",\"rice\",\"watermelon\"],\"xaxis\":\"x\",\"y\":[92.33338287560004,80.35812258109999,65.11842558870002,16.8604394237,94.84427180609998,58.869846300299976,79.84347425379998,81.87522752119999,79.6398642063,21.60535672949999,64.80478467849998,65.09224944670001,50.156572695300035,53.160418027900015,85.49997454300001,92.34280196090002,92.17020876340004,92.40338768259998,48.06163308470001,90.12550378949999,82.2728215389,85.16037529360001],\"yaxis\":\"y\",\"type\":\"bar\"},{\"alignmentgroup\":\"True\",\"hovertemplate\":\"variable=temperature<br>label=%{x}<br>value=%{y}<extra></extra>\",\"legendgroup\":\"temperature\",\"marker\":{\"color\":\"#EF553B\",\"pattern\":{\"shape\":\"\"}},\"name\":\"temperature\",\"offsetgroup\":\"temperature\",\"orientation\":\"v\",\"showlegend\":true,\"textposition\":\"auto\",\"x\":[\"apple\",\"banana\",\"blackgram\",\"chickpea\",\"coconut\",\"coffee\",\"cotton\",\"grapes\",\"jute\",\"kidneybeans\",\"lentil\",\"maize\",\"mango\",\"mothbeans\",\"mungbean\",\"muskmelon\",\"orange\",\"papaya\",\"pigeonpeas\",\"pomegranate\",\"rice\",\"watermelon\"],\"xaxis\":\"x\",\"y\":[22.6309424132,27.3767983057,29.97333967889999,18.872846751900003,27.409892172299998,25.540476819299997,23.988957895200016,23.849575120050005,24.9583758265,20.115084685100005,24.50905240260001,22.389203910200003,31.208770151299987,28.194920484199987,28.525774735299997,28.663065755999995,22.765725496699996,33.7238587388,27.741762225899997,21.837841722000004,23.689332210500005,25.591767237500004],\"yaxis\":\"y\",\"type\":\"bar\"},{\"alignmentgroup\":\"True\",\"hovertemplate\":\"variable=rainfall<br>label=%{x}<br>value=%{y}<extra></extra>\",\"legendgroup\":\"rainfall\",\"marker\":{\"color\":\"#00cc96\",\"pattern\":{\"shape\":\"\"}},\"name\":\"rainfall\",\"offsetgroup\":\"rainfall\",\"orientation\":\"v\",\"showlegend\":true,\"textposition\":\"auto\",\"x\":[\"apple\",\"banana\",\"blackgram\",\"chickpea\",\"coconut\",\"coffee\",\"cotton\",\"grapes\",\"jute\",\"kidneybeans\",\"lentil\",\"maize\",\"mango\",\"mothbeans\",\"mungbean\",\"muskmelon\",\"orange\",\"papaya\",\"pigeonpeas\",\"pomegranate\",\"rice\",\"watermelon\"],\"xaxis\":\"x\",\"y\":[112.65477927500005,104.62698040009998,67.88415118319999,80.0589772605,175.68664580400008,158.06629488199994,80.39804311930001,69.61182888600003,174.792797536,105.91977754210005,45.68045420399998,84.766987663,94.70451504479996,51.198487045700006,48.40360090290002,24.689952066000004,110.47496871999998,142.62783886290003,149.45756381350003,107.52844239700002,236.1811135939999,50.786218944900014],\"yaxis\":\"y\",\"type\":\"bar\"},{\"alignmentgroup\":\"True\",\"hovertemplate\":\"variable=ph<br>label=%{x}<br>value=%{y}<extra></extra>\",\"legendgroup\":\"ph\",\"marker\":{\"color\":\"#ab63fa\",\"pattern\":{\"shape\":\"\"}},\"name\":\"ph\",\"offsetgroup\":\"ph\",\"orientation\":\"v\",\"showlegend\":true,\"textposition\":\"auto\",\"x\":[\"apple\",\"banana\",\"blackgram\",\"chickpea\",\"coconut\",\"coffee\",\"cotton\",\"grapes\",\"jute\",\"kidneybeans\",\"lentil\",\"maize\",\"mango\",\"mothbeans\",\"mungbean\",\"muskmelon\",\"orange\",\"papaya\",\"pigeonpeas\",\"pomegranate\",\"rice\",\"watermelon\"],\"xaxis\":\"x\",\"y\":[5.9296629318099985,5.983893180240001,7.1339516294799985,7.33695662374,5.976562126190004,6.790308274570002,6.91267549578,6.025936681100002,6.732777568170002,5.749410585869998,6.927931571609998,6.245189722399997,5.766372799660001,6.8311740826900005,6.723956940370001,6.358805451790002,7.01695745276,6.74144237274,5.794174879790001,6.42917184117,6.425470922139999,6.49577830157],\"yaxis\":\"y\",\"type\":\"bar\"}],                        {\"template\":{\"data\":{\"bar\":[{\"error_x\":{\"color\":\"#2a3f5f\"},\"error_y\":{\"color\":\"#2a3f5f\"},\"marker\":{\"line\":{\"color\":\"#E5ECF6\",\"width\":0.5},\"pattern\":{\"fillmode\":\"overlay\",\"size\":10,\"solidity\":0.2}},\"type\":\"bar\"}],\"barpolar\":[{\"marker\":{\"line\":{\"color\":\"#E5ECF6\",\"width\":0.5},\"pattern\":{\"fillmode\":\"overlay\",\"size\":10,\"solidity\":0.2}},\"type\":\"barpolar\"}],\"carpet\":[{\"aaxis\":{\"endlinecolor\":\"#2a3f5f\",\"gridcolor\":\"white\",\"linecolor\":\"white\",\"minorgridcolor\":\"white\",\"startlinecolor\":\"#2a3f5f\"},\"baxis\":{\"endlinecolor\":\"#2a3f5f\",\"gridcolor\":\"white\",\"linecolor\":\"white\",\"minorgridcolor\":\"white\",\"startlinecolor\":\"#2a3f5f\"},\"type\":\"carpet\"}],\"choropleth\":[{\"colorbar\":{\"outlinewidth\":0,\"ticks\":\"\"},\"type\":\"choropleth\"}],\"contour\":[{\"colorbar\":{\"outlinewidth\":0,\"ticks\":\"\"},\"colorscale\":[[0.0,\"#0d0887\"],[0.1111111111111111,\"#46039f\"],[0.2222222222222222,\"#7201a8\"],[0.3333333333333333,\"#9c179e\"],[0.4444444444444444,\"#bd3786\"],[0.5555555555555556,\"#d8576b\"],[0.6666666666666666,\"#ed7953\"],[0.7777777777777778,\"#fb9f3a\"],[0.8888888888888888,\"#fdca26\"],[1.0,\"#f0f921\"]],\"type\":\"contour\"}],\"contourcarpet\":[{\"colorbar\":{\"outlinewidth\":0,\"ticks\":\"\"},\"type\":\"contourcarpet\"}],\"heatmap\":[{\"colorbar\":{\"outlinewidth\":0,\"ticks\":\"\"},\"colorscale\":[[0.0,\"#0d0887\"],[0.1111111111111111,\"#46039f\"],[0.2222222222222222,\"#7201a8\"],[0.3333333333333333,\"#9c179e\"],[0.4444444444444444,\"#bd3786\"],[0.5555555555555556,\"#d8576b\"],[0.6666666666666666,\"#ed7953\"],[0.7777777777777778,\"#fb9f3a\"],[0.8888888888888888,\"#fdca26\"],[1.0,\"#f0f921\"]],\"type\":\"heatmap\"}],\"heatmapgl\":[{\"colorbar\":{\"outlinewidth\":0,\"ticks\":\"\"},\"colorscale\":[[0.0,\"#0d0887\"],[0.1111111111111111,\"#46039f\"],[0.2222222222222222,\"#7201a8\"],[0.3333333333333333,\"#9c179e\"],[0.4444444444444444,\"#bd3786\"],[0.5555555555555556,\"#d8576b\"],[0.6666666666666666,\"#ed7953\"],[0.7777777777777778,\"#fb9f3a\"],[0.8888888888888888,\"#fdca26\"],[1.0,\"#f0f921\"]],\"type\":\"heatmapgl\"}],\"histogram\":[{\"marker\":{\"pattern\":{\"fillmode\":\"overlay\",\"size\":10,\"solidity\":0.2}},\"type\":\"histogram\"}],\"histogram2d\":[{\"colorbar\":{\"outlinewidth\":0,\"ticks\":\"\"},\"colorscale\":[[0.0,\"#0d0887\"],[0.1111111111111111,\"#46039f\"],[0.2222222222222222,\"#7201a8\"],[0.3333333333333333,\"#9c179e\"],[0.4444444444444444,\"#bd3786\"],[0.5555555555555556,\"#d8576b\"],[0.6666666666666666,\"#ed7953\"],[0.7777777777777778,\"#fb9f3a\"],[0.8888888888888888,\"#fdca26\"],[1.0,\"#f0f921\"]],\"type\":\"histogram2d\"}],\"histogram2dcontour\":[{\"colorbar\":{\"outlinewidth\":0,\"ticks\":\"\"},\"colorscale\":[[0.0,\"#0d0887\"],[0.1111111111111111,\"#46039f\"],[0.2222222222222222,\"#7201a8\"],[0.3333333333333333,\"#9c179e\"],[0.4444444444444444,\"#bd3786\"],[0.5555555555555556,\"#d8576b\"],[0.6666666666666666,\"#ed7953\"],[0.7777777777777778,\"#fb9f3a\"],[0.8888888888888888,\"#fdca26\"],[1.0,\"#f0f921\"]],\"type\":\"histogram2dcontour\"}],\"mesh3d\":[{\"colorbar\":{\"outlinewidth\":0,\"ticks\":\"\"},\"type\":\"mesh3d\"}],\"parcoords\":[{\"line\":{\"colorbar\":{\"outlinewidth\":0,\"ticks\":\"\"}},\"type\":\"parcoords\"}],\"pie\":[{\"automargin\":true,\"type\":\"pie\"}],\"scatter\":[{\"marker\":{\"colorbar\":{\"outlinewidth\":0,\"ticks\":\"\"}},\"type\":\"scatter\"}],\"scatter3d\":[{\"line\":{\"colorbar\":{\"outlinewidth\":0,\"ticks\":\"\"}},\"marker\":{\"colorbar\":{\"outlinewidth\":0,\"ticks\":\"\"}},\"type\":\"scatter3d\"}],\"scattercarpet\":[{\"marker\":{\"colorbar\":{\"outlinewidth\":0,\"ticks\":\"\"}},\"type\":\"scattercarpet\"}],\"scattergeo\":[{\"marker\":{\"colorbar\":{\"outlinewidth\":0,\"ticks\":\"\"}},\"type\":\"scattergeo\"}],\"scattergl\":[{\"marker\":{\"colorbar\":{\"outlinewidth\":0,\"ticks\":\"\"}},\"type\":\"scattergl\"}],\"scattermapbox\":[{\"marker\":{\"colorbar\":{\"outlinewidth\":0,\"ticks\":\"\"}},\"type\":\"scattermapbox\"}],\"scatterpolar\":[{\"marker\":{\"colorbar\":{\"outlinewidth\":0,\"ticks\":\"\"}},\"type\":\"scatterpolar\"}],\"scatterpolargl\":[{\"marker\":{\"colorbar\":{\"outlinewidth\":0,\"ticks\":\"\"}},\"type\":\"scatterpolargl\"}],\"scatterternary\":[{\"marker\":{\"colorbar\":{\"outlinewidth\":0,\"ticks\":\"\"}},\"type\":\"scatterternary\"}],\"surface\":[{\"colorbar\":{\"outlinewidth\":0,\"ticks\":\"\"},\"colorscale\":[[0.0,\"#0d0887\"],[0.1111111111111111,\"#46039f\"],[0.2222222222222222,\"#7201a8\"],[0.3333333333333333,\"#9c179e\"],[0.4444444444444444,\"#bd3786\"],[0.5555555555555556,\"#d8576b\"],[0.6666666666666666,\"#ed7953\"],[0.7777777777777778,\"#fb9f3a\"],[0.8888888888888888,\"#fdca26\"],[1.0,\"#f0f921\"]],\"type\":\"surface\"}],\"table\":[{\"cells\":{\"fill\":{\"color\":\"#EBF0F8\"},\"line\":{\"color\":\"white\"}},\"header\":{\"fill\":{\"color\":\"#C8D4E3\"},\"line\":{\"color\":\"white\"}},\"type\":\"table\"}]},\"layout\":{\"annotationdefaults\":{\"arrowcolor\":\"#2a3f5f\",\"arrowhead\":0,\"arrowwidth\":1},\"autotypenumbers\":\"strict\",\"coloraxis\":{\"colorbar\":{\"outlinewidth\":0,\"ticks\":\"\"}},\"colorscale\":{\"diverging\":[[0,\"#8e0152\"],[0.1,\"#c51b7d\"],[0.2,\"#de77ae\"],[0.3,\"#f1b6da\"],[0.4,\"#fde0ef\"],[0.5,\"#f7f7f7\"],[0.6,\"#e6f5d0\"],[0.7,\"#b8e186\"],[0.8,\"#7fbc41\"],[0.9,\"#4d9221\"],[1,\"#276419\"]],\"sequential\":[[0.0,\"#0d0887\"],[0.1111111111111111,\"#46039f\"],[0.2222222222222222,\"#7201a8\"],[0.3333333333333333,\"#9c179e\"],[0.4444444444444444,\"#bd3786\"],[0.5555555555555556,\"#d8576b\"],[0.6666666666666666,\"#ed7953\"],[0.7777777777777778,\"#fb9f3a\"],[0.8888888888888888,\"#fdca26\"],[1.0,\"#f0f921\"]],\"sequentialminus\":[[0.0,\"#0d0887\"],[0.1111111111111111,\"#46039f\"],[0.2222222222222222,\"#7201a8\"],[0.3333333333333333,\"#9c179e\"],[0.4444444444444444,\"#bd3786\"],[0.5555555555555556,\"#d8576b\"],[0.6666666666666666,\"#ed7953\"],[0.7777777777777778,\"#fb9f3a\"],[0.8888888888888888,\"#fdca26\"],[1.0,\"#f0f921\"]]},\"colorway\":[\"#636efa\",\"#EF553B\",\"#00cc96\",\"#ab63fa\",\"#FFA15A\",\"#19d3f3\",\"#FF6692\",\"#B6E880\",\"#FF97FF\",\"#FECB52\"],\"font\":{\"color\":\"#2a3f5f\"},\"geo\":{\"bgcolor\":\"white\",\"lakecolor\":\"white\",\"landcolor\":\"#E5ECF6\",\"showlakes\":true,\"showland\":true,\"subunitcolor\":\"white\"},\"hoverlabel\":{\"align\":\"left\"},\"hovermode\":\"closest\",\"mapbox\":{\"style\":\"light\"},\"paper_bgcolor\":\"white\",\"plot_bgcolor\":\"#E5ECF6\",\"polar\":{\"angularaxis\":{\"gridcolor\":\"white\",\"linecolor\":\"white\",\"ticks\":\"\"},\"bgcolor\":\"#E5ECF6\",\"radialaxis\":{\"gridcolor\":\"white\",\"linecolor\":\"white\",\"ticks\":\"\"}},\"scene\":{\"xaxis\":{\"backgroundcolor\":\"#E5ECF6\",\"gridcolor\":\"white\",\"gridwidth\":2,\"linecolor\":\"white\",\"showbackground\":true,\"ticks\":\"\",\"zerolinecolor\":\"white\"},\"yaxis\":{\"backgroundcolor\":\"#E5ECF6\",\"gridcolor\":\"white\",\"gridwidth\":2,\"linecolor\":\"white\",\"showbackground\":true,\"ticks\":\"\",\"zerolinecolor\":\"white\"},\"zaxis\":{\"backgroundcolor\":\"#E5ECF6\",\"gridcolor\":\"white\",\"gridwidth\":2,\"linecolor\":\"white\",\"showbackground\":true,\"ticks\":\"\",\"zerolinecolor\":\"white\"}},\"shapedefaults\":{\"line\":{\"color\":\"#2a3f5f\"}},\"ternary\":{\"aaxis\":{\"gridcolor\":\"white\",\"linecolor\":\"white\",\"ticks\":\"\"},\"baxis\":{\"gridcolor\":\"white\",\"linecolor\":\"white\",\"ticks\":\"\"},\"bgcolor\":\"#E5ECF6\",\"caxis\":{\"gridcolor\":\"white\",\"linecolor\":\"white\",\"ticks\":\"\"}},\"title\":{\"x\":0.05},\"xaxis\":{\"automargin\":true,\"gridcolor\":\"white\",\"linecolor\":\"white\",\"ticks\":\"\",\"title\":{\"standoff\":15},\"zerolinecolor\":\"white\",\"zerolinewidth\":2},\"yaxis\":{\"automargin\":true,\"gridcolor\":\"white\",\"linecolor\":\"white\",\"ticks\":\"\",\"title\":{\"standoff\":15},\"zerolinecolor\":\"white\",\"zerolinewidth\":2}}},\"xaxis\":{\"anchor\":\"y\",\"domain\":[0.0,1.0],\"title\":{\"text\":\"label\"},\"showgrid\":false},\"yaxis\":{\"anchor\":\"x\",\"domain\":[0.0,1.0],\"title\":{\"text\":\"value\"},\"showgrid\":false},\"legend\":{\"title\":{\"text\":\"variable\"},\"tracegroupgap\":0},\"margin\":{\"t\":60},\"barmode\":\"relative\",\"title\":{\"text\":\"Comparision between humidity, temperature, rainfall and ph \"},\"plot_bgcolor\":\"white\",\"height\":450},                        {\"responsive\": true}                    ).then(function(){\n",
       "                            \n",
       "var gd = document.getElementById('3facfcd6-e55a-47e3-b3d0-922d3c44fd24');\n",
       "var x = new MutationObserver(function (mutations, observer) {{\n",
       "        var display = window.getComputedStyle(gd).display;\n",
       "        if (!display || display === 'none') {{\n",
       "            console.log([gd, 'removed!']);\n",
       "            Plotly.purge(gd);\n",
       "            observer.disconnect();\n",
       "        }}\n",
       "}});\n",
       "\n",
       "// Listen for the removal of the full notebook cells\n",
       "var notebookContainer = gd.closest('#notebook-container');\n",
       "if (notebookContainer) {{\n",
       "    x.observe(notebookContainer, {childList: true});\n",
       "}}\n",
       "\n",
       "// Listen for the clearing of the current output cell\n",
       "var outputEl = gd.closest('.output');\n",
       "if (outputEl) {{\n",
       "    x.observe(outputEl, {childList: true});\n",
       "}}\n",
       "\n",
       "                        })                };                });            </script>        </div>"
      ]
     },
     "metadata": {},
     "output_type": "display_data"
    }
   ],
   "source": [
    "figure = px.bar(crop_summary, x=crop_summary.index, y=[\"humidity\", \"temperature\", \"rainfall\", \"ph\"])\n",
    "figure.update_layout(title_text=\"Comparision between humidity, temperature, rainfall and ph \",\n",
    "                  plot_bgcolor='white',\n",
    "                 height=450)\n",
    "\n",
    "figure.update_xaxes(showgrid=False)\n",
    "figure.update_yaxes(showgrid=False)\n",
    "figure.show()"
   ]
  },
  {
   "cell_type": "code",
   "execution_count": 326,
   "id": "72b94247",
   "metadata": {},
   "outputs": [
    {
     "data": {
      "text/html": [
       "<div>\n",
       "<style scoped>\n",
       "    .dataframe tbody tr th:only-of-type {\n",
       "        vertical-align: middle;\n",
       "    }\n",
       "\n",
       "    .dataframe tbody tr th {\n",
       "        vertical-align: top;\n",
       "    }\n",
       "\n",
       "    .dataframe thead th {\n",
       "        text-align: right;\n",
       "    }\n",
       "</style>\n",
       "<table border=\"1\" class=\"dataframe\">\n",
       "  <thead>\n",
       "    <tr style=\"text-align: right;\">\n",
       "      <th></th>\n",
       "      <th>K</th>\n",
       "      <th>N</th>\n",
       "      <th>P</th>\n",
       "      <th>humidity</th>\n",
       "      <th>ph</th>\n",
       "      <th>rainfall</th>\n",
       "      <th>temperature</th>\n",
       "    </tr>\n",
       "    <tr>\n",
       "      <th>label</th>\n",
       "      <th></th>\n",
       "      <th></th>\n",
       "      <th></th>\n",
       "      <th></th>\n",
       "      <th></th>\n",
       "      <th></th>\n",
       "      <th></th>\n",
       "    </tr>\n",
       "  </thead>\n",
       "  <tbody>\n",
       "    <tr>\n",
       "      <th>apple</th>\n",
       "      <td>199.89</td>\n",
       "      <td>20.80</td>\n",
       "      <td>134.22</td>\n",
       "      <td>92.333383</td>\n",
       "      <td>5.929663</td>\n",
       "      <td>112.654779</td>\n",
       "      <td>22.630942</td>\n",
       "    </tr>\n",
       "    <tr>\n",
       "      <th>banana</th>\n",
       "      <td>50.05</td>\n",
       "      <td>100.23</td>\n",
       "      <td>82.01</td>\n",
       "      <td>80.358123</td>\n",
       "      <td>5.983893</td>\n",
       "      <td>104.626980</td>\n",
       "      <td>27.376798</td>\n",
       "    </tr>\n",
       "    <tr>\n",
       "      <th>blackgram</th>\n",
       "      <td>19.24</td>\n",
       "      <td>40.02</td>\n",
       "      <td>67.47</td>\n",
       "      <td>65.118426</td>\n",
       "      <td>7.133952</td>\n",
       "      <td>67.884151</td>\n",
       "      <td>29.973340</td>\n",
       "    </tr>\n",
       "    <tr>\n",
       "      <th>chickpea</th>\n",
       "      <td>79.92</td>\n",
       "      <td>40.09</td>\n",
       "      <td>67.79</td>\n",
       "      <td>16.860439</td>\n",
       "      <td>7.336957</td>\n",
       "      <td>80.058977</td>\n",
       "      <td>18.872847</td>\n",
       "    </tr>\n",
       "    <tr>\n",
       "      <th>coconut</th>\n",
       "      <td>30.59</td>\n",
       "      <td>21.98</td>\n",
       "      <td>16.93</td>\n",
       "      <td>94.844272</td>\n",
       "      <td>5.976562</td>\n",
       "      <td>175.686646</td>\n",
       "      <td>27.409892</td>\n",
       "    </tr>\n",
       "    <tr>\n",
       "      <th>coffee</th>\n",
       "      <td>29.94</td>\n",
       "      <td>101.20</td>\n",
       "      <td>28.74</td>\n",
       "      <td>58.869846</td>\n",
       "      <td>6.790308</td>\n",
       "      <td>158.066295</td>\n",
       "      <td>25.540477</td>\n",
       "    </tr>\n",
       "    <tr>\n",
       "      <th>cotton</th>\n",
       "      <td>19.56</td>\n",
       "      <td>117.77</td>\n",
       "      <td>46.24</td>\n",
       "      <td>79.843474</td>\n",
       "      <td>6.912675</td>\n",
       "      <td>80.398043</td>\n",
       "      <td>23.988958</td>\n",
       "    </tr>\n",
       "    <tr>\n",
       "      <th>grapes</th>\n",
       "      <td>200.11</td>\n",
       "      <td>23.18</td>\n",
       "      <td>132.53</td>\n",
       "      <td>81.875228</td>\n",
       "      <td>6.025937</td>\n",
       "      <td>69.611829</td>\n",
       "      <td>23.849575</td>\n",
       "    </tr>\n",
       "    <tr>\n",
       "      <th>jute</th>\n",
       "      <td>39.99</td>\n",
       "      <td>78.40</td>\n",
       "      <td>46.86</td>\n",
       "      <td>79.639864</td>\n",
       "      <td>6.732778</td>\n",
       "      <td>174.792798</td>\n",
       "      <td>24.958376</td>\n",
       "    </tr>\n",
       "    <tr>\n",
       "      <th>kidneybeans</th>\n",
       "      <td>20.05</td>\n",
       "      <td>20.75</td>\n",
       "      <td>67.54</td>\n",
       "      <td>21.605357</td>\n",
       "      <td>5.749411</td>\n",
       "      <td>105.919778</td>\n",
       "      <td>20.115085</td>\n",
       "    </tr>\n",
       "    <tr>\n",
       "      <th>lentil</th>\n",
       "      <td>19.41</td>\n",
       "      <td>18.77</td>\n",
       "      <td>68.36</td>\n",
       "      <td>64.804785</td>\n",
       "      <td>6.927932</td>\n",
       "      <td>45.680454</td>\n",
       "      <td>24.509052</td>\n",
       "    </tr>\n",
       "    <tr>\n",
       "      <th>maize</th>\n",
       "      <td>19.79</td>\n",
       "      <td>77.76</td>\n",
       "      <td>48.44</td>\n",
       "      <td>65.092249</td>\n",
       "      <td>6.245190</td>\n",
       "      <td>84.766988</td>\n",
       "      <td>22.389204</td>\n",
       "    </tr>\n",
       "    <tr>\n",
       "      <th>mango</th>\n",
       "      <td>29.92</td>\n",
       "      <td>20.07</td>\n",
       "      <td>27.18</td>\n",
       "      <td>50.156573</td>\n",
       "      <td>5.766373</td>\n",
       "      <td>94.704515</td>\n",
       "      <td>31.208770</td>\n",
       "    </tr>\n",
       "    <tr>\n",
       "      <th>mothbeans</th>\n",
       "      <td>20.23</td>\n",
       "      <td>21.44</td>\n",
       "      <td>48.01</td>\n",
       "      <td>53.160418</td>\n",
       "      <td>6.831174</td>\n",
       "      <td>51.198487</td>\n",
       "      <td>28.194920</td>\n",
       "    </tr>\n",
       "    <tr>\n",
       "      <th>mungbean</th>\n",
       "      <td>19.87</td>\n",
       "      <td>20.99</td>\n",
       "      <td>47.28</td>\n",
       "      <td>85.499975</td>\n",
       "      <td>6.723957</td>\n",
       "      <td>48.403601</td>\n",
       "      <td>28.525775</td>\n",
       "    </tr>\n",
       "    <tr>\n",
       "      <th>muskmelon</th>\n",
       "      <td>50.08</td>\n",
       "      <td>100.32</td>\n",
       "      <td>17.72</td>\n",
       "      <td>92.342802</td>\n",
       "      <td>6.358805</td>\n",
       "      <td>24.689952</td>\n",
       "      <td>28.663066</td>\n",
       "    </tr>\n",
       "    <tr>\n",
       "      <th>orange</th>\n",
       "      <td>10.01</td>\n",
       "      <td>19.58</td>\n",
       "      <td>16.55</td>\n",
       "      <td>92.170209</td>\n",
       "      <td>7.016957</td>\n",
       "      <td>110.474969</td>\n",
       "      <td>22.765725</td>\n",
       "    </tr>\n",
       "    <tr>\n",
       "      <th>papaya</th>\n",
       "      <td>50.04</td>\n",
       "      <td>49.88</td>\n",
       "      <td>59.05</td>\n",
       "      <td>92.403388</td>\n",
       "      <td>6.741442</td>\n",
       "      <td>142.627839</td>\n",
       "      <td>33.723859</td>\n",
       "    </tr>\n",
       "    <tr>\n",
       "      <th>pigeonpeas</th>\n",
       "      <td>20.29</td>\n",
       "      <td>20.73</td>\n",
       "      <td>67.73</td>\n",
       "      <td>48.061633</td>\n",
       "      <td>5.794175</td>\n",
       "      <td>149.457564</td>\n",
       "      <td>27.741762</td>\n",
       "    </tr>\n",
       "    <tr>\n",
       "      <th>pomegranate</th>\n",
       "      <td>40.21</td>\n",
       "      <td>18.87</td>\n",
       "      <td>18.75</td>\n",
       "      <td>90.125504</td>\n",
       "      <td>6.429172</td>\n",
       "      <td>107.528442</td>\n",
       "      <td>21.837842</td>\n",
       "    </tr>\n",
       "    <tr>\n",
       "      <th>rice</th>\n",
       "      <td>39.87</td>\n",
       "      <td>79.89</td>\n",
       "      <td>47.58</td>\n",
       "      <td>82.272822</td>\n",
       "      <td>6.425471</td>\n",
       "      <td>236.181114</td>\n",
       "      <td>23.689332</td>\n",
       "    </tr>\n",
       "    <tr>\n",
       "      <th>watermelon</th>\n",
       "      <td>50.22</td>\n",
       "      <td>99.42</td>\n",
       "      <td>17.00</td>\n",
       "      <td>85.160375</td>\n",
       "      <td>6.495778</td>\n",
       "      <td>50.786219</td>\n",
       "      <td>25.591767</td>\n",
       "    </tr>\n",
       "  </tbody>\n",
       "</table>\n",
       "</div>"
      ],
      "text/plain": [
       "                  K       N       P   humidity        ph    rainfall  \\\n",
       "label                                                                  \n",
       "apple        199.89   20.80  134.22  92.333383  5.929663  112.654779   \n",
       "banana        50.05  100.23   82.01  80.358123  5.983893  104.626980   \n",
       "blackgram     19.24   40.02   67.47  65.118426  7.133952   67.884151   \n",
       "chickpea      79.92   40.09   67.79  16.860439  7.336957   80.058977   \n",
       "coconut       30.59   21.98   16.93  94.844272  5.976562  175.686646   \n",
       "coffee        29.94  101.20   28.74  58.869846  6.790308  158.066295   \n",
       "cotton        19.56  117.77   46.24  79.843474  6.912675   80.398043   \n",
       "grapes       200.11   23.18  132.53  81.875228  6.025937   69.611829   \n",
       "jute          39.99   78.40   46.86  79.639864  6.732778  174.792798   \n",
       "kidneybeans   20.05   20.75   67.54  21.605357  5.749411  105.919778   \n",
       "lentil        19.41   18.77   68.36  64.804785  6.927932   45.680454   \n",
       "maize         19.79   77.76   48.44  65.092249  6.245190   84.766988   \n",
       "mango         29.92   20.07   27.18  50.156573  5.766373   94.704515   \n",
       "mothbeans     20.23   21.44   48.01  53.160418  6.831174   51.198487   \n",
       "mungbean      19.87   20.99   47.28  85.499975  6.723957   48.403601   \n",
       "muskmelon     50.08  100.32   17.72  92.342802  6.358805   24.689952   \n",
       "orange        10.01   19.58   16.55  92.170209  7.016957  110.474969   \n",
       "papaya        50.04   49.88   59.05  92.403388  6.741442  142.627839   \n",
       "pigeonpeas    20.29   20.73   67.73  48.061633  5.794175  149.457564   \n",
       "pomegranate   40.21   18.87   18.75  90.125504  6.429172  107.528442   \n",
       "rice          39.87   79.89   47.58  82.272822  6.425471  236.181114   \n",
       "watermelon    50.22   99.42   17.00  85.160375  6.495778   50.786219   \n",
       "\n",
       "             temperature  \n",
       "label                     \n",
       "apple          22.630942  \n",
       "banana         27.376798  \n",
       "blackgram      29.973340  \n",
       "chickpea       18.872847  \n",
       "coconut        27.409892  \n",
       "coffee         25.540477  \n",
       "cotton         23.988958  \n",
       "grapes         23.849575  \n",
       "jute           24.958376  \n",
       "kidneybeans    20.115085  \n",
       "lentil         24.509052  \n",
       "maize          22.389204  \n",
       "mango          31.208770  \n",
       "mothbeans      28.194920  \n",
       "mungbean       28.525775  \n",
       "muskmelon      28.663066  \n",
       "orange         22.765725  \n",
       "papaya         33.723859  \n",
       "pigeonpeas     27.741762  \n",
       "pomegranate    21.837842  \n",
       "rice           23.689332  \n",
       "watermelon     25.591767  "
      ]
     },
     "execution_count": 326,
     "metadata": {},
     "output_type": "execute_result"
    }
   ],
   "source": [
    "crop_summary = pd.pivot_table(cropdata,index=['label'],aggfunc='mean')\n",
    "crop_summary\n",
    "\n"
   ]
  }
 ],
 "metadata": {
  "kernelspec": {
   "display_name": "Python 3",
   "language": "python",
   "name": "python3"
  },
  "language_info": {
   "codemirror_mode": {
    "name": "ipython",
    "version": 3
   },
   "file_extension": ".py",
   "mimetype": "text/x-python",
   "name": "python",
   "nbconvert_exporter": "python",
   "pygments_lexer": "ipython3",
   "version": "3.8.8"
  }
 },
 "nbformat": 4,
 "nbformat_minor": 5
}
